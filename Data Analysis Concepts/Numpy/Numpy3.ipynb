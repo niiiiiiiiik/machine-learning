{
 "cells": [
  {
   "cell_type": "markdown",
   "id": "9c3ee50f",
   "metadata": {},
   "source": [
    "# Numpy 3"
   ]
  },
  {
   "cell_type": "markdown",
   "id": "62946772",
   "metadata": {},
   "source": [
    "## **Content**\n",
    "\n",
    "- Sorting\n",
    "- Matrix Multiplication\n",
    "  - `np.dot`\n",
    "  - `@` operator\n",
    "  - `np.matmul`\n",
    "- Vectorization\n",
    "- Broadcasting"
   ]
  },
  {
   "cell_type": "markdown",
   "id": "01836368",
   "metadata": {},
   "source": [
    "## Sorting\n",
    "\n",
    "- `np.sort` returns a sorted copy of an array."
   ]
  },
  {
   "cell_type": "code",
   "execution_count": 1,
   "id": "9bdb2a6b",
   "metadata": {},
   "outputs": [],
   "source": [
    "import numpy as np"
   ]
  },
  {
   "cell_type": "code",
   "execution_count": 2,
   "id": "65cb31e3",
   "metadata": {},
   "outputs": [
    {
     "data": {
      "text/plain": [
       "array([4, 7, 0, 3, 8, 2, 5, 1, 6, 9])"
      ]
     },
     "execution_count": 2,
     "metadata": {},
     "output_type": "execute_result"
    }
   ],
   "source": [
    "a = np.array([4, 7, 0, 3, 8, 2, 5, 1, 6, 9])\n",
    "a"
   ]
  },
  {
   "cell_type": "code",
   "execution_count": 3,
   "id": "305eda76",
   "metadata": {},
   "outputs": [
    {
     "data": {
      "text/plain": [
       "array([0, 1, 2, 3, 4, 5, 6, 7, 8, 9])"
      ]
     },
     "execution_count": 3,
     "metadata": {},
     "output_type": "execute_result"
    }
   ],
   "source": [
    "b = np.sort(a)\n",
    "b"
   ]
  },
  {
   "cell_type": "code",
   "execution_count": 4,
   "id": "5f6452fa",
   "metadata": {},
   "outputs": [
    {
     "data": {
      "text/plain": [
       "array([4, 7, 0, 3, 8, 2, 5, 1, 6, 9])"
      ]
     },
     "execution_count": 4,
     "metadata": {},
     "output_type": "execute_result"
    }
   ],
   "source": [
    "a # no change is reflected in the original array"
   ]
  },
  {
   "cell_type": "markdown",
   "id": "89c9c52c",
   "metadata": {},
   "source": [
    "#### We can directly call `sort` method on array but it can change the original array as it is an inplace operation."
   ]
  },
  {
   "cell_type": "code",
   "execution_count": 5,
   "id": "56f4c61f",
   "metadata": {},
   "outputs": [
    {
     "data": {
      "text/plain": [
       "array([0, 1, 2, 3, 4, 5, 6, 7, 8, 9])"
      ]
     },
     "execution_count": 5,
     "metadata": {},
     "output_type": "execute_result"
    }
   ],
   "source": [
    "a.sort() # sorting is performed inplace\n",
    "a"
   ]
  },
  {
   "cell_type": "markdown",
   "id": "44c488c2",
   "metadata": {},
   "source": [
    "### **Sorting in 2D array**"
   ]
  },
  {
   "cell_type": "code",
   "execution_count": 6,
   "id": "11ccb9e0",
   "metadata": {},
   "outputs": [
    {
     "data": {
      "text/plain": [
       "array([[  1,   5,   3],\n",
       "       [  2,   5,   7],\n",
       "       [400, 200, 300]])"
      ]
     },
     "execution_count": 6,
     "metadata": {},
     "output_type": "execute_result"
    }
   ],
   "source": [
    "a = np.array([[1,5,3], [2,5,7], [400, 200, 300]])\n",
    "a"
   ]
  },
  {
   "cell_type": "code",
   "execution_count": 7,
   "id": "f70987cf",
   "metadata": {},
   "outputs": [
    {
     "data": {
      "text/plain": [
       "array([[  1,   5,   3],\n",
       "       [  2,   5,   7],\n",
       "       [400, 200, 300]])"
      ]
     },
     "execution_count": 7,
     "metadata": {},
     "output_type": "execute_result"
    }
   ],
   "source": [
    "np.sort(a, axis=0) # sorting every column"
   ]
  },
  {
   "cell_type": "code",
   "execution_count": 8,
   "id": "26b37c1a",
   "metadata": {},
   "outputs": [
    {
     "data": {
      "text/plain": [
       "array([[  1,   3,   5],\n",
       "       [  2,   5,   7],\n",
       "       [200, 300, 400]])"
      ]
     },
     "execution_count": 8,
     "metadata": {},
     "output_type": "execute_result"
    }
   ],
   "source": [
    "np.sort(a, axis=1) # sorting every row"
   ]
  },
  {
   "cell_type": "markdown",
   "id": "cad6c21b",
   "metadata": {},
   "source": [
    "**Note**: By default, the `np.sort()` functions sorts along the last axis."
   ]
  },
  {
   "cell_type": "code",
   "execution_count": 9,
   "id": "9b9df5ab",
   "metadata": {},
   "outputs": [],
   "source": [
    "a = np.array([[23,4,43], [12, 89, 3], [69, 420, 0]])"
   ]
  },
  {
   "cell_type": "code",
   "execution_count": 10,
   "id": "9ce64e4a",
   "metadata": {},
   "outputs": [
    {
     "data": {
      "text/plain": [
       "array([[  4,  23,  43],\n",
       "       [  3,  12,  89],\n",
       "       [  0,  69, 420]])"
      ]
     },
     "execution_count": 10,
     "metadata": {},
     "output_type": "execute_result"
    }
   ],
   "source": [
    "np.sort(a) # default axis = -1 (last axis)"
   ]
  },
  {
   "cell_type": "markdown",
   "id": "3b28127b",
   "metadata": {},
   "source": [
    "## **Element-Wise Multiplication**\n",
    "\n",
    "Element-wise multiplication in NumPy involves multiplying corresponding elements of two arrays with the same shape to produce a new array where each element is the product of the corresponding elements from the input arrays."
   ]
  },
  {
   "cell_type": "code",
   "execution_count": 11,
   "id": "dc6a5b3c",
   "metadata": {},
   "outputs": [
    {
     "data": {
      "text/plain": [
       "array([1, 2, 3, 4, 5])"
      ]
     },
     "execution_count": 11,
     "metadata": {},
     "output_type": "execute_result"
    }
   ],
   "source": [
    "a = np.arange(1, 6)\n",
    "a"
   ]
  },
  {
   "cell_type": "code",
   "execution_count": 12,
   "id": "684360e2",
   "metadata": {},
   "outputs": [
    {
     "data": {
      "text/plain": [
       "array([ 5, 10, 15, 20, 25])"
      ]
     },
     "execution_count": 12,
     "metadata": {},
     "output_type": "execute_result"
    }
   ],
   "source": [
    "a * 5"
   ]
  },
  {
   "cell_type": "code",
   "execution_count": 13,
   "id": "58d42fcf",
   "metadata": {},
   "outputs": [
    {
     "data": {
      "text/plain": [
       "array([ 6,  7,  8,  9, 10])"
      ]
     },
     "execution_count": 13,
     "metadata": {},
     "output_type": "execute_result"
    }
   ],
   "source": [
    "b = np.arange(6, 11)\n",
    "b"
   ]
  },
  {
   "cell_type": "code",
   "execution_count": 14,
   "id": "30aa379d",
   "metadata": {},
   "outputs": [
    {
     "data": {
      "text/plain": [
       "array([ 6, 14, 24, 36, 50])"
      ]
     },
     "execution_count": 14,
     "metadata": {},
     "output_type": "execute_result"
    }
   ],
   "source": [
    "a * b"
   ]
  },
  {
   "cell_type": "markdown",
   "id": "ac414e46",
   "metadata": {},
   "source": [
    "Both arrays should have the same shape."
   ]
  },
  {
   "cell_type": "code",
   "execution_count": 15,
   "id": "ea5c8368",
   "metadata": {},
   "outputs": [],
   "source": [
    "c = np.array([1, 2, 3])"
   ]
  },
  {
   "cell_type": "code",
   "execution_count": 16,
   "id": "d524f3ef",
   "metadata": {},
   "outputs": [
    {
     "ename": "ValueError",
     "evalue": "operands could not be broadcast together with shapes (5,) (3,) ",
     "output_type": "error",
     "traceback": [
      "\u001b[0;31m---------------------------------------------------------------------------\u001b[0m",
      "\u001b[0;31mValueError\u001b[0m                                Traceback (most recent call last)",
      "Cell \u001b[0;32mIn[16], line 1\u001b[0m\n\u001b[0;32m----> 1\u001b[0m a \u001b[38;5;241m*\u001b[39m c\n",
      "\u001b[0;31mValueError\u001b[0m: operands could not be broadcast together with shapes (5,) (3,) "
     ]
    }
   ],
   "source": [
    "a * c"
   ]
  },
  {
   "cell_type": "code",
   "execution_count": 17,
   "id": "36aa5ce9",
   "metadata": {},
   "outputs": [],
   "source": [
    "d = np.arange(12).reshape(3, 4)\n",
    "e = np.arange(13, 25).reshape(3, 4)"
   ]
  },
  {
   "cell_type": "code",
   "execution_count": 18,
   "id": "43a617dd",
   "metadata": {},
   "outputs": [
    {
     "name": "stdout",
     "output_type": "stream",
     "text": [
      "d= [[ 0  1  2  3]\n",
      " [ 4  5  6  7]\n",
      " [ 8  9 10 11]]\n",
      "e= [[13 14 15 16]\n",
      " [17 18 19 20]\n",
      " [21 22 23 24]]\n"
     ]
    }
   ],
   "source": [
    "print(\"d=\", d)\n",
    "print(\"e=\", e)"
   ]
  },
  {
   "cell_type": "code",
   "execution_count": 19,
   "id": "c2e2f997",
   "metadata": {},
   "outputs": [
    {
     "data": {
      "text/plain": [
       "array([[  0,  14,  30,  48],\n",
       "       [ 68,  90, 114, 140],\n",
       "       [168, 198, 230, 264]])"
      ]
     },
     "execution_count": 19,
     "metadata": {},
     "output_type": "execute_result"
    }
   ],
   "source": [
    "d * e"
   ]
  },
  {
   "cell_type": "markdown",
   "id": "9311a4b2",
   "metadata": {},
   "source": [
    "**Takeaway:**\n",
    "\n",
    "- Array * Number -> WORKS\n",
    "- Array * Array (same shape) -> WORKS\n",
    "- Array * Array (different shape) -> DOES NOT WORK"
   ]
  },
  {
   "cell_type": "markdown",
   "id": "b42e2745",
   "metadata": {},
   "source": [
    "## **Matrix Multiplication**\n",
    "\n",
    "**Rule:** Number of columns of the first matrix should be equal to number of rows of the second matrix.\n",
    "\n",
    "- (A,B) * (B,C) -> (A,C)\n",
    "- (3,4) * (4,3) -> (3,3)\n",
    "\n",
    "Visual Demo: https://www.geogebra.org/m/ETHXK756"
   ]
  },
  {
   "cell_type": "code",
   "execution_count": 20,
   "id": "eea87633",
   "metadata": {},
   "outputs": [],
   "source": [
    "a = np.arange(1,13).reshape((3,4))\n",
    "c = np.arange(2,14).reshape((4,3))"
   ]
  },
  {
   "cell_type": "code",
   "execution_count": 21,
   "id": "8b122239",
   "metadata": {},
   "outputs": [
    {
     "data": {
      "text/plain": [
       "((3, 4), (4, 3))"
      ]
     },
     "execution_count": 21,
     "metadata": {},
     "output_type": "execute_result"
    }
   ],
   "source": [
    "a.shape, c.shape"
   ]
  },
  {
   "cell_type": "markdown",
   "id": "079b6cfe",
   "metadata": {},
   "source": [
    "##### `a` is of shape (3,4) and `c` is of shape (4,3). The output will be of shape (3,3)."
   ]
  },
  {
   "cell_type": "code",
   "execution_count": 22,
   "id": "9196b564",
   "metadata": {},
   "outputs": [
    {
     "data": {
      "text/plain": [
       "array([[ 80,  90, 100],\n",
       "       [184, 210, 236],\n",
       "       [288, 330, 372]])"
      ]
     },
     "execution_count": 22,
     "metadata": {},
     "output_type": "execute_result"
    }
   ],
   "source": [
    "# Using np.dot\n",
    "np.dot(a,c)"
   ]
  },
  {
   "cell_type": "code",
   "execution_count": 23,
   "id": "43e8c733",
   "metadata": {},
   "outputs": [
    {
     "data": {
      "text/plain": [
       "array([[ 80,  90, 100],\n",
       "       [184, 210, 236],\n",
       "       [288, 330, 372]])"
      ]
     },
     "execution_count": 23,
     "metadata": {},
     "output_type": "execute_result"
    }
   ],
   "source": [
    "# Using np.matmul\n",
    "np.matmul(a,c)"
   ]
  },
  {
   "cell_type": "code",
   "execution_count": 24,
   "id": "8faba482",
   "metadata": {},
   "outputs": [
    {
     "data": {
      "text/plain": [
       "array([[ 80,  90, 100],\n",
       "       [184, 210, 236],\n",
       "       [288, 330, 372]])"
      ]
     },
     "execution_count": 24,
     "metadata": {},
     "output_type": "execute_result"
    }
   ],
   "source": [
    "# Using @ operator\n",
    "a@c"
   ]
  },
  {
   "cell_type": "code",
   "execution_count": 25,
   "id": "fabf6b60",
   "metadata": {},
   "outputs": [
    {
     "ename": "ValueError",
     "evalue": "matmul: Input operand 1 does not have enough dimensions (has 0, gufunc core with signature (n?,k),(k,m?)->(n?,m?) requires 1)",
     "output_type": "error",
     "traceback": [
      "\u001b[0;31m---------------------------------------------------------------------------\u001b[0m",
      "\u001b[0;31mValueError\u001b[0m                                Traceback (most recent call last)",
      "Cell \u001b[0;32mIn[25], line 1\u001b[0m\n\u001b[0;32m----> 1\u001b[0m a\u001b[38;5;241m@\u001b[39m\u001b[38;5;241m5\u001b[39m\n",
      "\u001b[0;31mValueError\u001b[0m: matmul: Input operand 1 does not have enough dimensions (has 0, gufunc core with signature (n?,k),(k,m?)->(n?,m?) requires 1)"
     ]
    }
   ],
   "source": [
    "a@5"
   ]
  },
  {
   "cell_type": "code",
   "execution_count": 26,
   "id": "9407bc3f",
   "metadata": {},
   "outputs": [
    {
     "ename": "ValueError",
     "evalue": "matmul: Input operand 1 does not have enough dimensions (has 0, gufunc core with signature (n?,k),(k,m?)->(n?,m?) requires 1)",
     "output_type": "error",
     "traceback": [
      "\u001b[0;31m---------------------------------------------------------------------------\u001b[0m",
      "\u001b[0;31mValueError\u001b[0m                                Traceback (most recent call last)",
      "Cell \u001b[0;32mIn[26], line 1\u001b[0m\n\u001b[0;32m----> 1\u001b[0m np\u001b[38;5;241m.\u001b[39mmatmul(a, \u001b[38;5;241m5\u001b[39m)\n",
      "\u001b[0;31mValueError\u001b[0m: matmul: Input operand 1 does not have enough dimensions (has 0, gufunc core with signature (n?,k),(k,m?)->(n?,m?) requires 1)"
     ]
    }
   ],
   "source": [
    "np.matmul(a, 5)"
   ]
  },
  {
   "cell_type": "code",
   "execution_count": 27,
   "id": "ddb42033",
   "metadata": {},
   "outputs": [
    {
     "data": {
      "text/plain": [
       "array([[ 5, 10, 15, 20],\n",
       "       [25, 30, 35, 40],\n",
       "       [45, 50, 55, 60]])"
      ]
     },
     "execution_count": 27,
     "metadata": {},
     "output_type": "execute_result"
    }
   ],
   "source": [
    "np.dot(a, 5)"
   ]
  },
  {
   "cell_type": "markdown",
   "id": "e9ccfc78",
   "metadata": {},
   "source": [
    "**Important:**\n",
    "\n",
    "- `dot()` function supports the vector multiplication with a scalar value, which is not possible with `matmul()`.\n",
    "- `Vector * Vector` will work for `matmul()` but `Vector * Scalar` won't."
   ]
  },
  {
   "cell_type": "markdown",
   "id": "1ec5322d",
   "metadata": {},
   "source": [
    "## **Vectorization**\n",
    "\n",
    "Vectorization in NumPy refers to performing operations on entire arrays or array elements simultaneously, which is significantly faster and more efficient than using explicit loops."
   ]
  },
  {
   "cell_type": "code",
   "execution_count": 28,
   "id": "e0150c80",
   "metadata": {},
   "outputs": [
    {
     "data": {
      "text/plain": [
       "array([0, 1, 2, 3, 4, 5, 6, 7, 8, 9])"
      ]
     },
     "execution_count": 28,
     "metadata": {},
     "output_type": "execute_result"
    }
   ],
   "source": [
    "a = np.arange(10)\n",
    "a"
   ]
  },
  {
   "cell_type": "markdown",
   "id": "9c443fd3",
   "metadata": {},
   "source": [
    "**Note:**\n",
    "- 1d np array --> vector\n",
    "- 2d np array --> matrix\n",
    "- 3d onwards --> tensors"
   ]
  },
  {
   "cell_type": "code",
   "execution_count": 29,
   "id": "fa46ce16",
   "metadata": {},
   "outputs": [],
   "source": [
    "def random_operation(x):\n",
    "    if x % 2 == 0:\n",
    "        x += 2\n",
    "    else:\n",
    "        x -= 2\n",
    "\n",
    "    return x"
   ]
  },
  {
   "cell_type": "code",
   "execution_count": 30,
   "id": "44bc7f77",
   "metadata": {},
   "outputs": [
    {
     "ename": "ValueError",
     "evalue": "The truth value of an array with more than one element is ambiguous. Use a.any() or a.all()",
     "output_type": "error",
     "traceback": [
      "\u001b[0;31m---------------------------------------------------------------------------\u001b[0m",
      "\u001b[0;31mValueError\u001b[0m                                Traceback (most recent call last)",
      "Cell \u001b[0;32mIn[30], line 1\u001b[0m\n\u001b[0;32m----> 1\u001b[0m random_operation(a)\n",
      "Cell \u001b[0;32mIn[29], line 2\u001b[0m, in \u001b[0;36mrandom_operation\u001b[0;34m(x)\u001b[0m\n\u001b[1;32m      1\u001b[0m \u001b[38;5;28;01mdef\u001b[39;00m \u001b[38;5;21mrandom_operation\u001b[39m(x):\n\u001b[0;32m----> 2\u001b[0m     \u001b[38;5;28;01mif\u001b[39;00m x \u001b[38;5;241m%\u001b[39m \u001b[38;5;241m2\u001b[39m \u001b[38;5;241m==\u001b[39m \u001b[38;5;241m0\u001b[39m:\n\u001b[1;32m      3\u001b[0m         x \u001b[38;5;241m+\u001b[39m\u001b[38;5;241m=\u001b[39m \u001b[38;5;241m2\u001b[39m\n\u001b[1;32m      4\u001b[0m     \u001b[38;5;28;01melse\u001b[39;00m:\n",
      "\u001b[0;31mValueError\u001b[0m: The truth value of an array with more than one element is ambiguous. Use a.any() or a.all()"
     ]
    }
   ],
   "source": [
    "random_operation(a)"
   ]
  },
  {
   "cell_type": "code",
   "execution_count": 31,
   "id": "a3cd1aba",
   "metadata": {},
   "outputs": [],
   "source": [
    "cool_operation = np.vectorize(random_operation)"
   ]
  },
  {
   "cell_type": "code",
   "execution_count": 32,
   "id": "bd7e4757",
   "metadata": {},
   "outputs": [
    {
     "data": {
      "text/plain": [
       "numpy.vectorize"
      ]
     },
     "execution_count": 32,
     "metadata": {},
     "output_type": "execute_result"
    }
   ],
   "source": [
    "type(cool_operation)"
   ]
  },
  {
   "cell_type": "markdown",
   "id": "a43f2dfa",
   "metadata": {},
   "source": [
    "#### `np.vectorize()`\n",
    "\n",
    "- It is a generalised function for vectorization.\n",
    "- It takes the function and returns an object (which acts like function but can take an array as input and perform the operations)."
   ]
  },
  {
   "cell_type": "code",
   "execution_count": 33,
   "id": "9aecd3be",
   "metadata": {},
   "outputs": [
    {
     "data": {
      "text/plain": [
       "array([ 2, -1,  4,  1,  6,  3,  8,  5, 10,  7])"
      ]
     },
     "execution_count": 33,
     "metadata": {},
     "output_type": "execute_result"
    }
   ],
   "source": [
    "cool_operation(a)"
   ]
  },
  {
   "cell_type": "markdown",
   "id": "fdff17f3",
   "metadata": {},
   "source": [
    "## **Broadcasting**\n",
    "\n",
    "Broadcasting in NumPy is the automatic and implicit extension of array dimensions to enable element-wise operations between arrays with different shapes."
   ]
  },
  {
   "cell_type": "code",
   "execution_count": 34,
   "id": "f95967d1",
   "metadata": {},
   "outputs": [
    {
     "data": {
      "image/jpeg": "[encoded data removed]",
      "text/plain": [
       "<IPython.core.display.Image object>"
      ]
     },
     "execution_count": 34,
     "metadata": {},
     "output_type": "execute_result"
    }
   ],
   "source": [
    "from IPython.display import Image\n",
    "Image(filename='broadcasting.jpeg')\n"
   ]
  },
  {
   "cell_type": "markdown",
   "id": "6838e2ac",
   "metadata": {},
   "source": [
    "#### **Case 1:** If dimension in both matrix is equal, element-wise addition will be done."
   ]
  },
  {
   "cell_type": "code",
   "execution_count": 35,
   "id": "80f7ae81",
   "metadata": {},
   "outputs": [
    {
     "data": {
      "text/plain": [
       "array([[ 0, 10, 20, 30],\n",
       "       [ 0, 10, 20, 30],\n",
       "       [ 0, 10, 20, 30]])"
      ]
     },
     "execution_count": 35,
     "metadata": {},
     "output_type": "execute_result"
    }
   ],
   "source": [
    "a = np.tile(np.arange(0,40,10), (3,1))\n",
    "a"
   ]
  },
  {
   "cell_type": "markdown",
   "id": "88bc4ff2",
   "metadata": {},
   "source": [
    "**Note:**\n",
    "\n",
    "* `numpy.tile(array, reps)` constructs an array by repeating A the number of times given by reps along each dimension.\n",
    "* `np.tile(array, (repetition_rows, repetition_cols))`\n"
   ]
  },
  {
   "cell_type": "code",
   "execution_count": 36,
   "id": "468ddc52",
   "metadata": {},
   "outputs": [
    {
     "data": {
      "text/plain": [
       "array([[ 0,  0,  0],\n",
       "       [10, 10, 10],\n",
       "       [20, 20, 20],\n",
       "       [30, 30, 30]])"
      ]
     },
     "execution_count": 36,
     "metadata": {},
     "output_type": "execute_result"
    }
   ],
   "source": [
    "a=a.T\n",
    "a "
   ]
  },
  {
   "cell_type": "code",
   "execution_count": 37,
   "id": "6ede76b6",
   "metadata": {},
   "outputs": [
    {
     "data": {
      "text/plain": [
       "array([[0, 1, 2],\n",
       "       [0, 1, 2],\n",
       "       [0, 1, 2],\n",
       "       [0, 1, 2]])"
      ]
     },
     "execution_count": 37,
     "metadata": {},
     "output_type": "execute_result"
    }
   ],
   "source": [
    "b = np.tile(np.arange(0,3), (4,1))\n",
    "b "
   ]
  },
  {
   "cell_type": "code",
   "execution_count": 38,
   "id": "b4b8e24f",
   "metadata": {},
   "outputs": [
    {
     "name": "stdout",
     "output_type": "stream",
     "text": [
      "(4, 3) (4, 3)\n"
     ]
    }
   ],
   "source": [
    "print(a.shape, b.shape)"
   ]
  },
  {
   "cell_type": "markdown",
   "id": "28083278",
   "metadata": {},
   "source": [
    "Since a and b have the same shape, they can be added without any issues."
   ]
  },
  {
   "cell_type": "code",
   "execution_count": 39,
   "id": "34626be0",
   "metadata": {},
   "outputs": [
    {
     "data": {
      "text/plain": [
       "array([[ 0,  1,  2],\n",
       "       [10, 11, 12],\n",
       "       [20, 21, 22],\n",
       "       [30, 31, 32]])"
      ]
     },
     "execution_count": 39,
     "metadata": {},
     "output_type": "execute_result"
    }
   ],
   "source": [
    "a+b "
   ]
  },
  {
   "cell_type": "markdown",
   "id": "8b0f18a7",
   "metadata": {},
   "source": [
    "#### **Case 2:** Right array should be of 1-D and number of columns should be same of both the arrays and it will automatically do n-tile."
   ]
  },
  {
   "cell_type": "code",
   "execution_count": 40,
   "id": "7ab5670e",
   "metadata": {},
   "outputs": [
    {
     "data": {
      "text/plain": [
       "array([[ 0,  0,  0],\n",
       "       [10, 10, 10],\n",
       "       [20, 20, 20],\n",
       "       [30, 30, 30]])"
      ]
     },
     "execution_count": 40,
     "metadata": {},
     "output_type": "execute_result"
    }
   ],
   "source": [
    "a "
   ]
  },
  {
   "cell_type": "code",
   "execution_count": 41,
   "id": "1284119d",
   "metadata": {},
   "outputs": [
    {
     "data": {
      "text/plain": [
       "array([0, 1, 2])"
      ]
     },
     "execution_count": 41,
     "metadata": {},
     "output_type": "execute_result"
    }
   ],
   "source": [
    "c = np.array([0,1,2])\n",
    "c"
   ]
  },
  {
   "cell_type": "code",
   "execution_count": 42,
   "id": "2df364c1",
   "metadata": {},
   "outputs": [
    {
     "name": "stdout",
     "output_type": "stream",
     "text": [
      "(4, 3) (3,)\n"
     ]
    }
   ],
   "source": [
    "print(a.shape, c.shape)"
   ]
  },
  {
   "cell_type": "code",
   "execution_count": 43,
   "id": "41737a24",
   "metadata": {},
   "outputs": [
    {
     "data": {
      "text/plain": [
       "array([[ 0,  1,  2],\n",
       "       [10, 11, 12],\n",
       "       [20, 21, 22],\n",
       "       [30, 31, 32]])"
      ]
     },
     "execution_count": 43,
     "metadata": {},
     "output_type": "execute_result"
    }
   ],
   "source": [
    "a + c "
   ]
  },
  {
   "cell_type": "markdown",
   "id": "2fe4acd2",
   "metadata": {},
   "source": [
    "- c was broadcasted along rows (vertically)\n",
    "- so that a and c can be made compatible"
   ]
  },
  {
   "cell_type": "markdown",
   "id": "0cc62fcf",
   "metadata": {},
   "source": [
    "#### **Case 3:** If the left array is column matrix (must have only 1 column) and right array is row matrix, then it will do the n-tile such that element wise addition is possible."
   ]
  },
  {
   "cell_type": "code",
   "execution_count": 44,
   "id": "9283e1a7",
   "metadata": {},
   "outputs": [
    {
     "data": {
      "text/plain": [
       "array([[ 0],\n",
       "       [10],\n",
       "       [20],\n",
       "       [30]])"
      ]
     },
     "execution_count": 44,
     "metadata": {},
     "output_type": "execute_result"
    }
   ],
   "source": [
    "d = np.array([0,10,20,30]).reshape(4,1)\n",
    "d "
   ]
  },
  {
   "cell_type": "code",
   "execution_count": 45,
   "id": "90593d28",
   "metadata": {},
   "outputs": [
    {
     "data": {
      "text/plain": [
       "array([0, 1, 2])"
      ]
     },
     "execution_count": 45,
     "metadata": {},
     "output_type": "execute_result"
    }
   ],
   "source": [
    "c = np.array([0,1,2])\n",
    "c "
   ]
  },
  {
   "cell_type": "code",
   "execution_count": 46,
   "id": "31bcdbe6",
   "metadata": {},
   "outputs": [
    {
     "name": "stdout",
     "output_type": "stream",
     "text": [
      "(4, 1) (3,)\n"
     ]
    }
   ],
   "source": [
    "print(d.shape, c.shape) "
   ]
  },
  {
   "cell_type": "code",
   "execution_count": 47,
   "id": "364f6620",
   "metadata": {},
   "outputs": [
    {
     "data": {
      "text/plain": [
       "array([[ 0,  1,  2],\n",
       "       [10, 11, 12],\n",
       "       [20, 21, 22],\n",
       "       [30, 31, 32]])"
      ]
     },
     "execution_count": 47,
     "metadata": {},
     "output_type": "execute_result"
    }
   ],
   "source": [
    "d + c "
   ]
  },
  {
   "cell_type": "markdown",
   "id": "fca4b048",
   "metadata": {},
   "source": [
    "- d was stacked (broadcasted) along columns (horizontally)\n",
    "- c was stacked (broadcasted) along rows (vertically) "
   ]
  },
  {
   "cell_type": "markdown",
   "id": "9f2018f6",
   "metadata": {},
   "source": [
    "**Will broadcasting work in this case?**\n",
    "\n",
    "\n"
   ]
  },
  {
   "cell_type": "code",
   "execution_count": 48,
   "id": "619049be",
   "metadata": {},
   "outputs": [
    {
     "data": {
      "text/plain": [
       "array([[0, 1, 2, 3],\n",
       "       [4, 5, 6, 7]])"
      ]
     },
     "execution_count": 48,
     "metadata": {},
     "output_type": "execute_result"
    }
   ],
   "source": [
    "a = np.arange(8).reshape(2,4)\n",
    "a "
   ]
  },
  {
   "cell_type": "code",
   "execution_count": 49,
   "id": "1b72125a",
   "metadata": {},
   "outputs": [
    {
     "data": {
      "text/plain": [
       "array([[ 0,  1,  2,  3],\n",
       "       [ 4,  5,  6,  7],\n",
       "       [ 8,  9, 10, 11],\n",
       "       [12, 13, 14, 15]])"
      ]
     },
     "execution_count": 49,
     "metadata": {},
     "output_type": "execute_result"
    }
   ],
   "source": [
    "b = np.arange(16).reshape(4,4)\n",
    "b "
   ]
  },
  {
   "cell_type": "code",
   "execution_count": 50,
   "id": "165d2aa9",
   "metadata": {},
   "outputs": [
    {
     "ename": "ValueError",
     "evalue": "operands could not be broadcast together with shapes (2,4) (4,4) ",
     "output_type": "error",
     "traceback": [
      "\u001b[0;31m---------------------------------------------------------------------------\u001b[0m",
      "\u001b[0;31mValueError\u001b[0m                                Traceback (most recent call last)",
      "Cell \u001b[0;32mIn[50], line 1\u001b[0m\n\u001b[0;32m----> 1\u001b[0m a\u001b[38;5;241m+\u001b[39mb\n",
      "\u001b[0;31mValueError\u001b[0m: operands could not be broadcast together with shapes (2,4) (4,4) "
     ]
    }
   ],
   "source": [
    "a+b "
   ]
  },
  {
   "cell_type": "markdown",
   "id": "46aa2031",
   "metadata": {},
   "source": [
    "#### Broadcasting in 2D Arrays\n",
    "\n",
    "- A + A (same shape)-> Works\n",
    "- A + A (1D) -> Works\n",
    "- A + number -> Works\n",
    "- A + A (different shape but still 2D) -> DOES NOT WORK "
   ]
  },
  {
   "cell_type": "markdown",
   "id": "89557963",
   "metadata": {},
   "source": [
    "**Is broadcasting possible in this case?** "
   ]
  },
  {
   "cell_type": "code",
   "execution_count": 51,
   "id": "ea485f13",
   "metadata": {},
   "outputs": [
    {
     "data": {
      "text/plain": [
       "array([[1, 2, 3],\n",
       "       [4, 5, 6],\n",
       "       [7, 8, 9]])"
      ]
     },
     "execution_count": 51,
     "metadata": {},
     "output_type": "execute_result"
    }
   ],
   "source": [
    "A = np.arange(1,10).reshape(3,3)\n",
    "A "
   ]
  },
  {
   "cell_type": "code",
   "execution_count": 52,
   "id": "879425e8",
   "metadata": {},
   "outputs": [
    {
     "data": {
      "text/plain": [
       "array([-1,  0,  1])"
      ]
     },
     "execution_count": 52,
     "metadata": {},
     "output_type": "execute_result"
    }
   ],
   "source": [
    "B = np.array([-1, 0, 1])\n",
    "B "
   ]
  },
  {
   "cell_type": "code",
   "execution_count": 53,
   "id": "c686e708",
   "metadata": {},
   "outputs": [
    {
     "data": {
      "text/plain": [
       "array([[-1,  0,  3],\n",
       "       [-4,  0,  6],\n",
       "       [-7,  0,  9]])"
      ]
     },
     "execution_count": 53,
     "metadata": {},
     "output_type": "execute_result"
    }
   ],
   "source": [
    "A*B "
   ]
  },
  {
   "cell_type": "markdown",
   "id": "f58a7036",
   "metadata": {},
   "source": [
    "Yes! Broadcasting is possible for all the operations.\n",
    "\n",
    "\n",
    "\n",
    " "
   ]
  },
  {
   "cell_type": "code",
   "execution_count": 54,
   "id": "5a18d454",
   "metadata": {},
   "outputs": [
    {
     "data": {
      "text/plain": [
       "array([[ 0,  1,  2,  3],\n",
       "       [ 4,  5,  6,  7],\n",
       "       [ 8,  9, 10, 11]])"
      ]
     },
     "execution_count": 54,
     "metadata": {},
     "output_type": "execute_result"
    }
   ],
   "source": [
    "A = np.arange(12).reshape(3, 4)\n",
    "A "
   ]
  },
  {
   "cell_type": "code",
   "execution_count": 55,
   "id": "99639347",
   "metadata": {},
   "outputs": [
    {
     "data": {
      "text/plain": [
       "array([1, 2, 3])"
      ]
     },
     "execution_count": 55,
     "metadata": {},
     "output_type": "execute_result"
    }
   ],
   "source": [
    "B = np.array([1, 2, 3])\n",
    "B "
   ]
  },
  {
   "cell_type": "code",
   "execution_count": 56,
   "id": "22f9e0fc",
   "metadata": {},
   "outputs": [
    {
     "ename": "ValueError",
     "evalue": "operands could not be broadcast together with shapes (3,4) (3,) ",
     "output_type": "error",
     "traceback": [
      "\u001b[0;31m---------------------------------------------------------------------------\u001b[0m",
      "\u001b[0;31mValueError\u001b[0m                                Traceback (most recent call last)",
      "Cell \u001b[0;32mIn[56], line 1\u001b[0m\n\u001b[0;32m----> 1\u001b[0m A \u001b[38;5;241m+\u001b[39m B\n",
      "\u001b[0;31mValueError\u001b[0m: operands could not be broadcast together with shapes (3,4) (3,) "
     ]
    }
   ],
   "source": [
    "A + B "
   ]
  },
  {
   "cell_type": "markdown",
   "id": "141d3d3d",
   "metadata": {},
   "source": [
    "**Why did it throw an error?**\n",
    "\n",
    "Are the number of dimensions same for both array? No.\n",
    "- Shape of A $\\Rightarrow$ (3,4)\n",
    "- Shape of B $\\Rightarrow$ (3,)\n",
    "\n",
    "So, `Rule 1` will be invoked to pad 1 to the shape of B.\n",
    "\n",
    "So, the shape of B becomes **(1,3)**.\n",
    "\n",
    "\\\n",
    "Now, we check whether broadcasting conditions are met or not?\n",
    "\n",
    "Starting from the right most side,\n",
    "- Right most dimension is not equal (4 and 3).\n",
    "\n",
    "Hence, broadcasting is not possible as per `Rule 3`. "
   ]
  },
  {
   "cell_type": "markdown",
   "id": "7d09b281",
   "metadata": {},
   "source": [
    "**Question:** Given two arrays,\n",
    "1. Array A of shape  (8, 1, 6, 1)\n",
    "2. Array B of shape (7, 1, 5)\n",
    "\n",
    "Is broadcasting possible in this case? If yes, what will be the shape of output?\n",
    "\n",
    "**Answer:** Broadcasting possible; Shape will be (8, 7, 6, 5)\n",
    "\n",
    "**Explanation:**\n",
    "\n",
    "As number of dimensions are not equal, `Rule 1` is invoked.\n",
    "\n",
    "The shape of B becomes (1, 7, 1, 5)\n",
    "\n",
    "Next, it checks whether broadcasting is possible.\n",
    "\n",
    "A $\\Rightarrow$ (8 , 1, 6, 1) \\\n",
    "B $\\Rightarrow$ (1, 7, 1, 5)\n",
    "\n",
    "- Right most dimension, one of the dimension is 1 (1 vs 5)\n",
    "- Next, comparing 6 and 1, We have one dimension as 1\n",
    "- Similarly, we have one of the dimension as 1 in both leading dimensions.\n",
    "\n",
    "Hence, broadcasting is possible.\n",
    "\n",
    "Now, as per `Rule 2`, dimension with value 1 is streched to match dimension of other array.\n",
    "\n",
    "- Right most dimension of array is streched to match 5\n",
    "- Leading dimension of array B (1) is streched to match array A dim (6)\n",
    "\n",
    "So, the output shape becomes : `(8, 7, 6, 5)`."
   ]
  }
 ],
 "metadata": {
  "kernelspec": {
   "display_name": "Python 3 (ipykernel)",
   "language": "python",
   "name": "python3"
  },
  "language_info": {
   "codemirror_mode": {
    "name": "ipython",
    "version": 3
   },
   "file_extension": ".py",
   "mimetype": "text/x-python",
   "name": "python",
   "nbconvert_exporter": "python",
   "pygments_lexer": "ipython3",
   "version": "3.11.4"
  },
  "varInspector": {
   "cols": {
    "lenName": 16,
    "lenType": 16,
    "lenVar": 40
   },
   "kernels_config": {
    "python": {
     "delete_cmd_postfix": "",
     "delete_cmd_prefix": "del ",
     "library": "var_list.py",
     "varRefreshCmd": "print(var_dic_list())"
    },
    "r": {
     "delete_cmd_postfix": ") ",
     "delete_cmd_prefix": "rm(",
     "library": "var_list.r",
     "varRefreshCmd": "cat(var_dic_list()) "
    }
   },
   "types_to_exclude": [
    "module",
    "function",
    "builtin_function_or_method",
    "instance",
    "_Feature"
   ],
   "window_display": false
  }
 },
 "nbformat": 4,
 "nbformat_minor": 5
}
