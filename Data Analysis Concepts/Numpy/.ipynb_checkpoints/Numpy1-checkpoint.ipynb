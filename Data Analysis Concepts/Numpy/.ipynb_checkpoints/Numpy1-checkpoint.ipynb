{
 "cells": [
  {
   "cell_type": "markdown",
   "id": "9a833b12",
   "metadata": {},
   "source": [
    "## **Content**\n",
    "\n",
    "- Introduction to DAV\n",
    "- Python Lists vs Numpy Array\n",
    "  - Importing Numpy\n",
    "  - Why use Numpy?\n",
    "- Dimension & Shape\n",
    "- Type Conversion in Numpy Arrays\n",
    "- Indexing & Slicing\n",
    "- NPS use case\n"
   ]
  },
  {
   "cell_type": "markdown",
   "id": "fd036396",
   "metadata": {},
   "source": [
    "## **Introduction to DAV (Data Analysis and Visualization) Module**\n",
    "\n",
    "It will contain 3 sections -\n",
    "\n",
    "1. DAV-1: Python Libraries\n",
    " - Numpy\n",
    " - Pandas\n",
    " - Matplotlib & Seaborn\n",
    "2. DAV-2: Probability Statistics\n",
    "3. DAV-3: Hypothesis Testing"
   ]
  },
  {
   "cell_type": "markdown",
   "id": "ff3df781",
   "metadata": {},
   "source": [
    "## **Python Lists vs Numpy Arrays**"
   ]
  },
  {
   "cell_type": "markdown",
   "id": "efae450f",
   "metadata": {},
   "source": [
    "### **Homogeneity of data**\n",
    "\n",
    "So far, we've been working with Python lists, that can have **heterogenous data**."
   ]
  },
  {
   "cell_type": "code",
   "execution_count": 1,
   "id": "e73b6b34",
   "metadata": {},
   "outputs": [
    {
     "data": {
      "text/plain": [
       "[1, 2, 3, 'Michael', True]"
      ]
     },
     "execution_count": 1,
     "metadata": {},
     "output_type": "execute_result"
    }
   ],
   "source": [
    "a = [1, 2, 3, \"Michael\", True]\n",
    "a"
   ]
  },
  {
   "cell_type": "markdown",
   "id": "c29f19c6",
   "metadata": {},
   "source": [
    "Because of this hetergenity, in Python lists, the data elements are not stored together in the memory (RAM).\n",
    "\n",
    "- Each element is stored in a different location.\n",
    "- Only the address of each of the element will be stored together.\n",
    "- So, a list is actually just referencing to these different locations, in order to access the actual element.\n",
    "\n",
    "\\\n",
    "On the other hand, Numpy only stores **homogenous data**, i.e. a numpy array cannot contain mixed data types.\n",
    "\n",
    "It will either\n",
    "- ONLY contain integers\n",
    "- ONLY contain floats\n",
    "- ONLY contain characters\n",
    "\n",
    "... and so on.\n",
    "\n",
    "Because of this, we can now store these different data items together, as they are of the same type.\n",
    "\n",
    "<img src=\"https://d2beiqkhq929f0.cloudfront.net/public_assets/assets/000/063/995/original/download.png?1706870327\" width=700 height=175>"
   ]
  },
  {
   "cell_type": "markdown",
   "id": "4cf590b4",
   "metadata": {},
   "source": [
    "### **Speed**\n",
    "\n",
    "Programming languages can also be slow or fast.\n",
    "\n",
    "In fact,\n",
    "- Java is a decently fast language.\n",
    "- Python is a slow language.\n",
    "- C, one of the earliest available languages, is super fast.\n",
    "\n",
    "This is because C has concepts like memory allocation, pointers, etc.\n",
    "\n",
    "#### **How is this possible?**\n",
    "\n",
    "With Numpy, though we will be writing our code using Python, but behind the scene, all the code is written in the **C programming language**, to make it faster.\n",
    "\n",
    "Because of this, a Numpy Array will be significantly faster than a Python List in performing the same operation.\n",
    "\n",
    "This is very important to us, because in data science, we deal with huge amount of data.\n"
   ]
  },
  {
   "cell_type": "markdown",
   "id": "c730d79b",
   "metadata": {},
   "source": [
    "### **Properties**\n",
    "\n",
    "- **In-built Functions**\n",
    " - For a Python list `a`, we had in-built functions like `.sum(a)`, etc.\n",
    " - For NumPy arrays also, we will have such in-built functions.\n",
    "\n",
    "- **Slicing**\n",
    " - Recall that we were able to perform list slicing.\n",
    " - All of that is still applicable here.\n"
   ]
  },
  {
   "cell_type": "markdown",
   "id": "4fc15ebd",
   "metadata": {},
   "source": [
    "Recall how we used to import a module/library in Python.\n",
    "\n",
    "* In order to use Python Lists, we do not need to import anything extra.\n",
    "* However to use Numpy Arrays, we need to import it into our environment, as it is a Library.\n",
    "\n",
    "Generally, we do so while using the alias **`np`**."
   ]
  },
  {
   "cell_type": "code",
   "execution_count": 2,
   "id": "15e56972",
   "metadata": {},
   "outputs": [],
   "source": [
    "import numpy as np"
   ]
  },
  {
   "cell_type": "markdown",
   "id": "2dd66025",
   "metadata": {},
   "source": [
    "**Note:**\n",
    "- In this terminal, we will already have numpy installed as we are working on Google Colab\n",
    "- However, when working on an evironment that does not have it installed, you'll have to install it the first time working.\n",
    "- This can be done with the command: `!pip install numpy`"
   ]
  },
  {
   "cell_type": "markdown",
   "id": "b9ce83f9",
   "metadata": {},
   "source": [
    "## **Why use Numpy? - Time Comparison**"
   ]
  },
  {
   "cell_type": "markdown",
   "id": "1642d3be",
   "metadata": {},
   "source": [
    "Suppose you are given a list of numbers. You have to find the square of each number and store it in the original list.\n"
   ]
  },
  {
   "cell_type": "code",
   "execution_count": 3,
   "id": "29eb379b",
   "metadata": {},
   "outputs": [],
   "source": [
    "a = [1,2,3,4,5]"
   ]
  },
  {
   "cell_type": "code",
   "execution_count": 4,
   "id": "759f819f",
   "metadata": {},
   "outputs": [
    {
     "data": {
      "text/plain": [
       "list"
      ]
     },
     "execution_count": 4,
     "metadata": {},
     "output_type": "execute_result"
    }
   ],
   "source": [
    "type(a)"
   ]
  },
  {
   "cell_type": "markdown",
   "id": "23219c98",
   "metadata": {},
   "source": [
    "The basic approach here would be to iterate over the list and square each element."
   ]
  },
  {
   "cell_type": "code",
   "execution_count": 5,
   "id": "bbdd42f6",
   "metadata": {},
   "outputs": [
    {
     "name": "stdout",
     "output_type": "stream",
     "text": [
      "[1, 4, 9, 16, 25]\n"
     ]
    }
   ],
   "source": [
    "res = [i**2 for i in a]\n",
    "print(res)"
   ]
  },
  {
   "cell_type": "markdown",
   "id": "53d309a3",
   "metadata": {},
   "source": [
    "Let's try the same operation with Numpy.\n",
    "\n",
    "To do so, first of all we need to define the Numpy array.\n",
    "\n",
    "We can convert any list `a` into a Numpy array using the `array()` function."
   ]
  },
  {
   "cell_type": "code",
   "execution_count": 6,
   "id": "018a2638",
   "metadata": {},
   "outputs": [
    {
     "data": {
      "text/plain": [
       "array([1, 2, 3, 4, 5])"
      ]
     },
     "execution_count": 6,
     "metadata": {},
     "output_type": "execute_result"
    }
   ],
   "source": [
    "b = np.array(a)\n",
    "b"
   ]
  },
  {
   "cell_type": "code",
   "execution_count": 7,
   "id": "e1328826",
   "metadata": {},
   "outputs": [
    {
     "data": {
      "text/plain": [
       "numpy.ndarray"
      ]
     },
     "execution_count": 7,
     "metadata": {},
     "output_type": "execute_result"
    }
   ],
   "source": [
    "type(b)"
   ]
  },
  {
   "cell_type": "markdown",
   "id": "8bc0391f",
   "metadata": {},
   "source": [
    "- `nd` in `numpy.ndarray` stands for **n-dimensional**"
   ]
  },
  {
   "cell_type": "markdown",
   "id": "1abc80e5",
   "metadata": {},
   "source": [
    "Now, how can we get the square of each element in the same Numpy array?\n",
    "\n",
    "\n"
   ]
  },
  {
   "cell_type": "code",
   "execution_count": 8,
   "id": "42fa5ddb",
   "metadata": {},
   "outputs": [
    {
     "data": {
      "text/plain": [
       "array([ 1,  4,  9, 16, 25])"
      ]
     },
     "execution_count": 8,
     "metadata": {},
     "output_type": "execute_result"
    }
   ],
   "source": [
    "b**2"
   ]
  },
  {
   "cell_type": "markdown",
   "id": "0d8d055c",
   "metadata": {},
   "source": [
    "**The biggest benefit of Numpy is that it supports element-wise operation.**\n",
    "\n",
    "Notice how easy and clean is the syntax.\n",
    "\n",
    "But is the clean syntax and ease in writing the only benefit we are getting here?\n",
    "\n",
    "- To understand this, let's measure the time for these operations.\n",
    "- We will use `%timeit`."
   ]
  },
  {
   "cell_type": "code",
   "execution_count": 9,
   "id": "a5e2cf4c",
   "metadata": {},
   "outputs": [],
   "source": [
    "l = range(1000000)"
   ]
  },
  {
   "cell_type": "code",
   "execution_count": 10,
   "id": "123295c3",
   "metadata": {},
   "outputs": [
    {
     "name": "stdout",
     "output_type": "stream",
     "text": [
      "31.3 ms ± 2.68 ms per loop (mean ± std. dev. of 7 runs, 10 loops each)\n"
     ]
    }
   ],
   "source": [
    "%timeit [i**2 for i in l]"
   ]
  },
  {
   "cell_type": "markdown",
   "id": "488841d9",
   "metadata": {},
   "source": [
    "**It took approx 300 ms  per loop to iterate and square all elements from 0 to 999,999**\n",
    "\n"
   ]
  },
  {
   "cell_type": "markdown",
   "id": "0f0e6509",
   "metadata": {},
   "source": [
    "Let's peform the same operation using Numpy arrays -\n",
    "\n",
    "- We will use `np.array()` method for this.\n",
    "- We can peform element wise operation using numpy."
   ]
  },
  {
   "cell_type": "code",
   "execution_count": 11,
   "id": "1e15c390",
   "metadata": {},
   "outputs": [],
   "source": [
    "l = np.array(range(1000000))"
   ]
  },
  {
   "cell_type": "code",
   "execution_count": 12,
   "id": "f7a752ba",
   "metadata": {},
   "outputs": [
    {
     "name": "stdout",
     "output_type": "stream",
     "text": [
      "567 µs ± 29.3 µs per loop (mean ± std. dev. of 7 runs, 1,000 loops each)\n"
     ]
    }
   ],
   "source": [
    "%timeit l**2"
   ]
  },
  {
   "cell_type": "markdown",
   "id": "aca6a1a1",
   "metadata": {},
   "source": [
    "Notice that it only took 900 $\\mu$s per loop time for the numpy operation.\n",
    "\n",
    "**What is the major reason behind numpy's faster computation?**\n",
    "\n",
    "- Numpy array is densely packed in memory due to it's **homogenous** type.\n",
    "- Numpy functions are implemented in **C programming launguage**.\n",
    "- Numpy is able to divide a task into multiple subtasks and process them **parallelly.**"
   ]
  },
  {
   "cell_type": "markdown",
   "id": "e8dc759d",
   "metadata": {},
   "source": [
    "## **Dimensions and Shape**\n",
    "\n",
    "**We can get the dimension of an array using the `ndim` property.**"
   ]
  },
  {
   "cell_type": "code",
   "execution_count": 13,
   "id": "42b31e91",
   "metadata": {},
   "outputs": [
    {
     "data": {
      "text/plain": [
       "1"
      ]
     },
     "execution_count": 13,
     "metadata": {},
     "output_type": "execute_result"
    }
   ],
   "source": [
    "arr1 = np.array(range(1000000))\n",
    "arr1.ndim"
   ]
  },
  {
   "cell_type": "markdown",
   "id": "7c38771f",
   "metadata": {},
   "source": [
    "**Numpy arrays have another property called `shape` that tells us number of elements across every dimension.**"
   ]
  },
  {
   "cell_type": "code",
   "execution_count": 14,
   "id": "c1791e58",
   "metadata": {},
   "outputs": [
    {
     "data": {
      "text/plain": [
       "(1000000,)"
      ]
     },
     "execution_count": 14,
     "metadata": {},
     "output_type": "execute_result"
    }
   ],
   "source": [
    "arr1.shape"
   ]
  },
  {
   "cell_type": "markdown",
   "id": "690c856e",
   "metadata": {},
   "source": [
    "This means that the array `arr1` has 1000000 elements in a single dimension.\n",
    "\n",
    "Let's take another example to understand `shape` and `ndim` better."
   ]
  },
  {
   "cell_type": "code",
   "execution_count": 15,
   "id": "7ab52607",
   "metadata": {},
   "outputs": [
    {
     "name": "stdout",
     "output_type": "stream",
     "text": [
      "[[ 1  2  3]\n",
      " [ 4  5  6]\n",
      " [10 11 12]]\n"
     ]
    }
   ],
   "source": [
    "arr2 = np.array([[1, 2, 3], [4, 5, 6], [10, 11, 12]])\n",
    "print(arr2)"
   ]
  },
  {
   "cell_type": "code",
   "execution_count": 16,
   "id": "0c7925ec",
   "metadata": {},
   "outputs": [
    {
     "data": {
      "text/plain": [
       "2"
      ]
     },
     "execution_count": 16,
     "metadata": {},
     "output_type": "execute_result"
    }
   ],
   "source": [
    "arr2.ndim"
   ]
  },
  {
   "cell_type": "code",
   "execution_count": 17,
   "id": "360115c4",
   "metadata": {},
   "outputs": [
    {
     "data": {
      "text/plain": [
       "(3, 3)"
      ]
     },
     "execution_count": 17,
     "metadata": {},
     "output_type": "execute_result"
    }
   ],
   "source": [
    "arr2.shape"
   ]
  },
  {
   "cell_type": "markdown",
   "id": "c00e7c8a",
   "metadata": {},
   "source": [
    "`ndim` specifies the number of dimensions of the array i.e. 1D (1), 2D (2), 3D (3) and so on.\n",
    "\n",
    "`shape` returns the exact shape in all dimensions, that is (3,3) which implies 3 in axis 0 and 3 in axis 1."
   ]
  },
  {
   "cell_type": "code",
   "execution_count": 18,
   "id": "bdb93db1",
   "metadata": {},
   "outputs": [
    {
     "data": {
      "image/png": "[encoded data removed]",
      "text/plain": [
       "<IPython.core.display.Image object>"
      ]
     },
     "execution_count": 18,
     "metadata": {},
     "output_type": "execute_result"
    }
   ],
   "source": [
    "from IPython.display import Image\n",
    "Image(filename='download.png')\n"
   ]
  },
  {
   "cell_type": "markdown",
   "id": "4a482a40",
   "metadata": {},
   "source": [
    "### **`np.arange()`**\n",
    "\n",
    "Let's create some sequences in  Numpy.\n",
    "\n",
    "We can pass **starting** point, **ending** point (not included in the array) and **step-size**.\n",
    "\n",
    "**Syntax:**\n",
    "- `arange(start, end, step)`"
   ]
  },
  {
   "cell_type": "code",
   "execution_count": 19,
   "id": "7dd2adcc",
   "metadata": {},
   "outputs": [
    {
     "data": {
      "text/plain": [
       "array([1, 2, 3, 4])"
      ]
     },
     "execution_count": 19,
     "metadata": {},
     "output_type": "execute_result"
    }
   ],
   "source": [
    "arr2 = np.arange(1, 5)\n",
    "arr2"
   ]
  },
  {
   "cell_type": "code",
   "execution_count": 20,
   "id": "8b314f82",
   "metadata": {},
   "outputs": [
    {
     "data": {
      "text/plain": [
       "array([1, 3])"
      ]
     },
     "execution_count": 20,
     "metadata": {},
     "output_type": "execute_result"
    }
   ],
   "source": [
    "arr2_step = np.arange(1, 5, 2)\n",
    "arr2_step"
   ]
  },
  {
   "cell_type": "markdown",
   "id": "38bf5689",
   "metadata": {},
   "source": [
    "`np.arange()` behaves in the same way as `range()` function.\n",
    "\n",
    "**But then why not call it np.range?**\n",
    "\n",
    "- In `np.arange()`, we can pass a **floating point number** as **step-size**."
   ]
  },
  {
   "cell_type": "code",
   "execution_count": 21,
   "id": "d4aa9448",
   "metadata": {},
   "outputs": [
    {
     "data": {
      "text/plain": [
       "array([1. , 1.5, 2. , 2.5, 3. , 3.5, 4. , 4.5])"
      ]
     },
     "execution_count": 21,
     "metadata": {},
     "output_type": "execute_result"
    }
   ],
   "source": [
    "arr3 = np.arange(1, 5, 0.5)\n",
    "arr3"
   ]
  },
  {
   "cell_type": "markdown",
   "id": "aa939aa5",
   "metadata": {},
   "source": [
    "## **Type Conversion in Numpy Arrays**\n",
    "\n",
    "For this, let's pass a **float** as one of the values in a **numpy array**."
   ]
  },
  {
   "cell_type": "code",
   "execution_count": 22,
   "id": "b51e172f",
   "metadata": {},
   "outputs": [
    {
     "data": {
      "text/plain": [
       "array([1, 2, 3, 4])"
      ]
     },
     "execution_count": 22,
     "metadata": {},
     "output_type": "execute_result"
    }
   ],
   "source": [
    "arr4 = np.array([1, 2, 3, 4])\n",
    "arr4"
   ]
  },
  {
   "cell_type": "code",
   "execution_count": 23,
   "id": "f11b0945",
   "metadata": {},
   "outputs": [
    {
     "data": {
      "text/plain": [
       "array([1., 2., 3., 4.])"
      ]
     },
     "execution_count": 23,
     "metadata": {},
     "output_type": "execute_result"
    }
   ],
   "source": [
    "arr4 = np.array([1, 2, 3, 4.0])\n",
    "arr4"
   ]
  },
  {
   "cell_type": "markdown",
   "id": "c886858b",
   "metadata": {},
   "source": [
    "- Notice that **`int` is raised to `float`**\n",
    "- Because a numpy array can only store **homogenous data** i.e. values of one data type."
   ]
  },
  {
   "cell_type": "markdown",
   "id": "2d02c5f0",
   "metadata": {},
   "source": [
    "Similarly, what will happen when we run the following code? Will it give an error?"
   ]
  },
  {
   "cell_type": "code",
   "execution_count": 24,
   "id": "0b1df376",
   "metadata": {},
   "outputs": [
    {
     "data": {
      "text/plain": [
       "array(['Harry Potter', '1', '2', '3'], dtype='<U21')"
      ]
     },
     "execution_count": 24,
     "metadata": {},
     "output_type": "execute_result"
    }
   ],
   "source": [
    "np.array([\"Harry Potter\", 1, 2, 3])"
   ]
  },
  {
   "cell_type": "markdown",
   "id": "93ddfe66",
   "metadata": {},
   "source": [
    "No. It will convert all elements of the array to `char` type."
   ]
  },
  {
   "cell_type": "markdown",
   "id": "d507ef83",
   "metadata": {},
   "source": [
    "There's a `dtype` parameter in the `np.array()` function.\n",
    "\n",
    "**What if we set the `dtype` of array containing `integer` values to `float`?**"
   ]
  },
  {
   "cell_type": "code",
   "execution_count": 25,
   "id": "33e6ee9d",
   "metadata": {},
   "outputs": [
    {
     "data": {
      "text/plain": [
       "array([1, 2, 3, 4])"
      ]
     },
     "execution_count": 25,
     "metadata": {},
     "output_type": "execute_result"
    }
   ],
   "source": [
    "arr5 = np.array([1, 2, 3, 4])\n",
    "arr5"
   ]
  },
  {
   "cell_type": "code",
   "execution_count": 26,
   "id": "3dc10bc1",
   "metadata": {},
   "outputs": [
    {
     "data": {
      "text/plain": [
       "array([1., 2., 3., 4.])"
      ]
     },
     "execution_count": 26,
     "metadata": {},
     "output_type": "execute_result"
    }
   ],
   "source": [
    "arr5 = np.array([1, 2, 3, 4], dtype=\"float\")\n",
    "arr5"
   ]
  },
  {
   "cell_type": "markdown",
   "id": "10692b22",
   "metadata": {},
   "source": [
    "**Question:** What will happen in the following code?"
   ]
  },
  {
   "cell_type": "code",
   "execution_count": 27,
   "id": "01867659",
   "metadata": {},
   "outputs": [
    {
     "ename": "ValueError",
     "evalue": "could not convert string to float: 'Shivank'",
     "output_type": "error",
     "traceback": [
      "\u001b[0;31m---------------------------------------------------------------------------\u001b[0m",
      "\u001b[0;31mValueError\u001b[0m                                Traceback (most recent call last)",
      "Cell \u001b[0;32mIn[27], line 1\u001b[0m\n\u001b[0;32m----> 1\u001b[0m np\u001b[38;5;241m.\u001b[39marray([\u001b[38;5;124m\"\u001b[39m\u001b[38;5;124mShivank\u001b[39m\u001b[38;5;124m\"\u001b[39m, \u001b[38;5;124m\"\u001b[39m\u001b[38;5;124mBipin\u001b[39m\u001b[38;5;124m\"\u001b[39m, \u001b[38;5;124m\"\u001b[39m\u001b[38;5;124mRitwik\u001b[39m\u001b[38;5;124m\"\u001b[39m], dtype\u001b[38;5;241m=\u001b[39m\u001b[38;5;28mfloat\u001b[39m)\n",
      "\u001b[0;31mValueError\u001b[0m: could not convert string to float: 'Shivank'"
     ]
    }
   ],
   "source": [
    "np.array([\"Shivank\", \"Bipin\", \"Ritwik\"], dtype=float)"
   ]
  },
  {
   "cell_type": "markdown",
   "id": "9d0ff06f",
   "metadata": {},
   "source": [
    "Since it is not possible to convert strings of alphabets to floats, it will naturally return an Error.\n",
    "\n",
    "\\\n",
    "We can also convert the data type with the `astype()` method."
   ]
  },
  {
   "cell_type": "code",
   "execution_count": 28,
   "id": "9c07f7e0",
   "metadata": {},
   "outputs": [
    {
     "data": {
      "text/plain": [
       "array([10, 20, 30, 40, 50])"
      ]
     },
     "execution_count": 28,
     "metadata": {},
     "output_type": "execute_result"
    }
   ],
   "source": [
    "arr = np.array([10, 20, 30, 40, 50])\n",
    "arr"
   ]
  },
  {
   "cell_type": "code",
   "execution_count": 29,
   "id": "3090a159",
   "metadata": {},
   "outputs": [
    {
     "name": "stdout",
     "output_type": "stream",
     "text": [
      "[10. 20. 30. 40. 50.]\n"
     ]
    }
   ],
   "source": [
    "arr = arr.astype('float64')\n",
    "print(arr)"
   ]
  },
  {
   "cell_type": "markdown",
   "id": "5b412b5b",
   "metadata": {},
   "source": [
    "## **Indexing**\n",
    "\n",
    "- Similar to Python lists"
   ]
  },
  {
   "cell_type": "code",
   "execution_count": 30,
   "id": "b33545fa",
   "metadata": {},
   "outputs": [
    {
     "data": {
      "text/plain": [
       "array([ 0,  1,  2,  3,  4,  5,  6,  7,  8,  9, 10, 11])"
      ]
     },
     "execution_count": 30,
     "metadata": {},
     "output_type": "execute_result"
    }
   ],
   "source": [
    "m1 = np.arange(12)\n",
    "m1"
   ]
  },
  {
   "cell_type": "code",
   "execution_count": 31,
   "id": "be7fedb9",
   "metadata": {},
   "outputs": [
    {
     "data": {
      "text/plain": [
       "0"
      ]
     },
     "execution_count": 31,
     "metadata": {},
     "output_type": "execute_result"
    }
   ],
   "source": [
    "m1[0] # gives first element of array"
   ]
  },
  {
   "cell_type": "code",
   "execution_count": 32,
   "id": "e7d31718",
   "metadata": {},
   "outputs": [
    {
     "data": {
      "text/plain": [
       "11"
      ]
     },
     "execution_count": 32,
     "metadata": {},
     "output_type": "execute_result"
    }
   ],
   "source": [
    "m1[-1] # negative indexing in numpy array"
   ]
  },
  {
   "cell_type": "markdown",
   "id": "0da25aa8",
   "metadata": {},
   "source": [
    "You can also use list of indexes in numpy."
   ]
  },
  {
   "cell_type": "code",
   "execution_count": 33,
   "id": "d17d9cd0",
   "metadata": {},
   "outputs": [],
   "source": [
    "m1 = np.array([100,200,300,400,500,600])"
   ]
  },
  {
   "cell_type": "code",
   "execution_count": 34,
   "id": "6022878c",
   "metadata": {},
   "outputs": [
    {
     "data": {
      "text/plain": [
       "array([300, 400, 500, 200, 300, 300])"
      ]
     },
     "execution_count": 34,
     "metadata": {},
     "output_type": "execute_result"
    }
   ],
   "source": [
    "m1[[2,3,4,1,2,2]]"
   ]
  },
  {
   "cell_type": "markdown",
   "id": "833d91f4",
   "metadata": {},
   "source": [
    "Did you notice how single index can be repeated multiple times when giving list of indexes?\n",
    "\n",
    "**Note:**\n",
    "- If you want to extract multiple indices, you need to use two sets of square brackets `[[ ]]`\n",
    "  - Otherwise, you will get an error.\n",
    "- Because it is only expecting a single index.\n",
    "- For multiple indices, you need to pass them as a list.\n",
    "\n"
   ]
  },
  {
   "cell_type": "code",
   "execution_count": 35,
   "id": "fbe6efed",
   "metadata": {},
   "outputs": [
    {
     "ename": "IndexError",
     "evalue": "too many indices for array: array is 1-dimensional, but 6 were indexed",
     "output_type": "error",
     "traceback": [
      "\u001b[0;31m---------------------------------------------------------------------------\u001b[0m",
      "\u001b[0;31mIndexError\u001b[0m                                Traceback (most recent call last)",
      "Cell \u001b[0;32mIn[35], line 1\u001b[0m\n\u001b[0;32m----> 1\u001b[0m m1[\u001b[38;5;241m2\u001b[39m,\u001b[38;5;241m3\u001b[39m,\u001b[38;5;241m4\u001b[39m,\u001b[38;5;241m1\u001b[39m,\u001b[38;5;241m2\u001b[39m,\u001b[38;5;241m2\u001b[39m]\n",
      "\u001b[0;31mIndexError\u001b[0m: too many indices for array: array is 1-dimensional, but 6 were indexed"
     ]
    }
   ],
   "source": [
    "m1[2,3,4,1,2,2]"
   ]
  },
  {
   "cell_type": "markdown",
   "id": "8ad3df2c",
   "metadata": {},
   "source": [
    "## **Slicing**\n",
    "\n",
    "- Similar to Python lists"
   ]
  },
  {
   "cell_type": "code",
   "execution_count": 36,
   "id": "e3351800",
   "metadata": {},
   "outputs": [
    {
     "data": {
      "text/plain": [
       "array([ 1,  2,  3,  4,  5,  6,  7,  8,  9, 10])"
      ]
     },
     "execution_count": 36,
     "metadata": {},
     "output_type": "execute_result"
    }
   ],
   "source": [
    "m1 = np.array([1, 2, 3, 4, 5, 6, 7, 8, 9, 10])\n",
    "m1"
   ]
  },
  {
   "cell_type": "code",
   "execution_count": 37,
   "id": "175b8d74",
   "metadata": {},
   "outputs": [
    {
     "data": {
      "text/plain": [
       "array([1, 2, 3, 4, 5])"
      ]
     },
     "execution_count": 37,
     "metadata": {},
     "output_type": "execute_result"
    }
   ],
   "source": [
    "m1[:5]"
   ]
  },
  {
   "cell_type": "markdown",
   "id": "cc36490f",
   "metadata": {},
   "source": [
    "**Question:** What'll be output of `arr[-5:-1]` ?"
   ]
  },
  {
   "cell_type": "code",
   "execution_count": 38,
   "id": "4fdb1b60",
   "metadata": {},
   "outputs": [
    {
     "data": {
      "text/plain": [
       "array([6, 7, 8, 9])"
      ]
     },
     "execution_count": 38,
     "metadata": {},
     "output_type": "execute_result"
    }
   ],
   "source": [
    "m1[-5:-1]"
   ]
  },
  {
   "cell_type": "markdown",
   "id": "4e895ce9",
   "metadata": {},
   "source": [
    "**Question:** What'll be the output for `arr[-5:-1: -1]` ?\n",
    "\n",
    "\n"
   ]
  },
  {
   "cell_type": "code",
   "execution_count": 39,
   "id": "a7f511a7",
   "metadata": {},
   "outputs": [
    {
     "data": {
      "text/plain": [
       "array([], dtype=int64)"
      ]
     },
     "execution_count": 39,
     "metadata": {},
     "output_type": "execute_result"
    }
   ],
   "source": [
    "m1[-5: -1: -1]"
   ]
  },
  {
   "cell_type": "markdown",
   "id": "f7d2b83f",
   "metadata": {},
   "source": [
    "## **Fancy Indexing (Masking)**\n",
    "\n",
    "- Numpy arrays can be indexed with boolean arrays (masks).\n",
    "- This method is called **fancy indexing** or **masking**.\n",
    "\n",
    "\\\n",
    "What would happen if we do this?\n"
   ]
  },
  {
   "cell_type": "code",
   "execution_count": 40,
   "id": "77326940",
   "metadata": {},
   "outputs": [
    {
     "data": {
      "text/plain": [
       "array([ True,  True,  True,  True,  True, False, False, False, False,\n",
       "       False])"
      ]
     },
     "execution_count": 40,
     "metadata": {},
     "output_type": "execute_result"
    }
   ],
   "source": [
    "m1 = np.array([1, 2, 3, 4, 5, 6, 7, 8, 9, 10])\n",
    "m1 < 6"
   ]
  },
  {
   "cell_type": "markdown",
   "id": "bae49d8e",
   "metadata": {},
   "source": [
    "**Comparison operation also happens on each element**.\n",
    "- All the values before 6 return `True`\n",
    "- All the values after 6 return `False`\n",
    "\n"
   ]
  },
  {
   "cell_type": "markdown",
   "id": "9e15ef04",
   "metadata": {},
   "source": [
    "**Question:** What will be the output of the following?"
   ]
  },
  {
   "cell_type": "code",
   "execution_count": 41,
   "id": "98818aa7",
   "metadata": {},
   "outputs": [
    {
     "data": {
      "text/plain": [
       "array([1, 2, 3, 4, 5])"
      ]
     },
     "execution_count": 41,
     "metadata": {},
     "output_type": "execute_result"
    }
   ],
   "source": [
    "m1[[True,  True,  True,  True,  True, False, False, False, False, False]]"
   ]
  },
  {
   "cell_type": "markdown",
   "id": "a14682c3",
   "metadata": {},
   "source": [
    "Notice that we are passing a list of indices.\n",
    "- For every instance of `True`, it will print the corresponding index.\n",
    "- Conversely, for every `False`, it will skip the corresponding index, and not print it.\n",
    "\n",
    "So, this becomes a **filter** of sorts."
   ]
  },
  {
   "cell_type": "markdown",
   "id": "469696d9",
   "metadata": {},
   "source": [
    "Now, let's use this to filter or mask values from our array.\n",
    "\n",
    "**Condition will be passed instead of indices and slice ranges.**"
   ]
  },
  {
   "cell_type": "code",
   "execution_count": 42,
   "id": "2c85e326",
   "metadata": {},
   "outputs": [
    {
     "data": {
      "text/plain": [
       "array([1, 2, 3, 4, 5])"
      ]
     },
     "execution_count": 42,
     "metadata": {},
     "output_type": "execute_result"
    }
   ],
   "source": [
    "m1[m1 < 6]"
   ]
  },
  {
   "cell_type": "markdown",
   "id": "054df900",
   "metadata": {},
   "source": [
    "This is known as **Fancy Indexing** in Numpy.\n",
    "\n",
    "\\\n",
    "**Question:** How can we filter/mask even values from our array?"
   ]
  },
  {
   "cell_type": "code",
   "execution_count": 43,
   "id": "7c4f53e0",
   "metadata": {},
   "outputs": [
    {
     "data": {
      "text/plain": [
       "array([ 2,  4,  6,  8, 10])"
      ]
     },
     "execution_count": 43,
     "metadata": {},
     "output_type": "execute_result"
    }
   ],
   "source": [
    "m1[m1%2 == 0]"
   ]
  },
  {
   "cell_type": "markdown",
   "id": "60770f09",
   "metadata": {},
   "source": [
    "#### Imagine you are a Data Analyst @ Airbnb\n",
    "\n",
    "You've been asked to analyze user survey data and report NPS to the management.\n",
    "\n",
    "#### But, what exactly is NPS?\n",
    "\n",
    "Have you all seen that every month, you get a survey form from airbnb?\n",
    "\n",
    "- This form asks you to fill in feedback regarding how you are liking the services of airbnb in terms of a numerical score.\n",
    "- This is known as the **Likelihood to Recommend Survey**.\n",
    "- It is widely used by different companies and service providers to evaluate their performance and customer satisfaction.\n",
    "\n",
    "- Responses are given a scale ranging from 0–10,\n",
    "    - with 0 labeled with “Not at all likely,” and\n",
    "    - 10 labeled with “Extremely likely.”\n",
    "\n",
    "Based on this, we calculate the **Net Promoter Score**."
   ]
  },
  {
   "cell_type": "code",
   "execution_count": 44,
   "id": "f76d3423",
   "metadata": {},
   "outputs": [
    {
     "data": {
      "image/png": "[encoded data removed]",
      "text/plain": [
       "<IPython.core.display.Image object>"
      ]
     },
     "execution_count": 44,
     "metadata": {},
     "output_type": "execute_result"
    }
   ],
   "source": [
    "from IPython.display import Image\n",
    "Image(filename='nps.png')\n"
   ]
  },
  {
   "cell_type": "markdown",
   "id": "811c17a5",
   "metadata": {},
   "source": [
    "We label our responses into 3 categories:\n",
    "- **Detractors**: Respondents with a score of 0-6\n",
    "- **Passive**: Respondents with a score of 7-8\n",
    "- **Promoters**: Respondents with a score of 9-10.\n",
    "\n",
    "```\n",
    "Net Promoter score = % Promoters - % Detractors."
   ]
  },
  {
   "cell_type": "markdown",
   "id": "75860474",
   "metadata": {},
   "source": [
    "### **Range of NPS**\n",
    "\n",
    "- If all people are promoters (rated 9-10), we get $100$ NPS\n",
    "- Conversely, if all people are detractors (rated 0-6), we get $-100$ NPS\n",
    "- Also, if all people are neutral (rated 7-8), we get a $0$ NPS\n",
    "\n",
    "Therefore, the range of NPS lies between $[-100, 100]$\n",
    "\n",
    "\\\n",
    "Generally, each company targets to get at least a threshold NPS.\n",
    "-  this is a score of 70.\n",
    "- This means that if $NPS > 70%$, it is great performance of the company.\n",
    "\n",
    "Naturally, this varies from business to business."
   ]
  },
  {
   "cell_type": "markdown",
   "id": "d915fe61",
   "metadata": {},
   "source": [
    "### **How is NPS helpful?**\n",
    "\n",
    "####  Why would we want to analyse the survey data for NPS?\n",
    "\n",
    "NPS helps a brand in gauging its brand value and sentiment in the market.\n",
    "\n",
    "- Promoters are highly likely to recommend your product or sevice. Hence, bringing in more business.\n",
    "- whereas, Detractors are likely to recommend against your product or service’s usage. Hence, bringing the business down.\n",
    "\n",
    "\\\n",
    "These insights can help business make customer oriented decision along with product improvisation.\n",
    "\n",
    "**2/3 of Fortune 500 companies use NPS**\n",
    "\n",
    "\\"
   ]
  },
  {
   "cell_type": "markdown",
   "id": "6ab60d5f",
   "metadata": {},
   "source": [
    "Let's first look at the data we have gathered."
   ]
  },
  {
   "cell_type": "markdown",
   "id": "59dfe67a",
   "metadata": {},
   "source": [
    "Loading the data -\n",
    "\n",
    "- For this we will use the `.loadtxt() function`\n",
    "- We provide file name along with the dtype of data that we want to load.\n",
    "- Documentation: https://numpy.org/doc/stable/reference/generated/numpy.loadtxt.html"
   ]
  },
  {
   "cell_type": "code",
   "execution_count": 45,
   "id": "802535a2",
   "metadata": {},
   "outputs": [],
   "source": [
    "score = np.loadtxt('survey.txt', dtype ='int')"
   ]
  },
  {
   "cell_type": "markdown",
   "id": "ff8241a9",
   "metadata": {},
   "source": [
    "Let's check the type of this data variable `score` -\n",
    "\n"
   ]
  },
  {
   "cell_type": "code",
   "execution_count": 46,
   "id": "c947eccd",
   "metadata": {},
   "outputs": [
    {
     "data": {
      "text/plain": [
       "numpy.ndarray"
      ]
     },
     "execution_count": 46,
     "metadata": {},
     "output_type": "execute_result"
    }
   ],
   "source": [
    "type(score)"
   ]
  },
  {
   "cell_type": "markdown",
   "id": "f0f79960",
   "metadata": {},
   "source": [
    "Let's see what the data looks like -"
   ]
  },
  {
   "cell_type": "code",
   "execution_count": 47,
   "id": "75ab3c50",
   "metadata": {},
   "outputs": [
    {
     "data": {
      "text/plain": [
       "array([ 7, 10,  5,  9,  9])"
      ]
     },
     "execution_count": 47,
     "metadata": {},
     "output_type": "execute_result"
    }
   ],
   "source": [
    "score[:5]"
   ]
  },
  {
   "cell_type": "markdown",
   "id": "b7766a8a",
   "metadata": {},
   "source": [
    "Let's check the number of responses -"
   ]
  },
  {
   "cell_type": "code",
   "execution_count": 48,
   "id": "cd104eea",
   "metadata": {},
   "outputs": [
    {
     "data": {
      "text/plain": [
       "(1167,)"
      ]
     },
     "execution_count": 48,
     "metadata": {},
     "output_type": "execute_result"
    }
   ],
   "source": [
    "score.shape"
   ]
  },
  {
   "cell_type": "markdown",
   "id": "390aeaec",
   "metadata": {},
   "source": [
    "There are a total of 1167 responses for the LTR survey.\n",
    "\n",
    "\\\n",
    "Now, let's calculate NPS using these response.\n",
    "\n",
    "**NPS = % Promoters - % Detractors**\n",
    "\n",
    "In order to calculate NPS, we need to calculate two things:\n",
    "- % Promoters\n",
    "- % Detractors\n",
    "\n",
    "In order to calculate `% Promoters` and `% Detractors`, we need to get the count of promoter as well as detractor.\n",
    "\n",
    "\\\n",
    "**Question:** How can we get the count of Promoter/Detractor ?\n",
    "\n",
    "- We can do so by using fancy indexing (masking)."
   ]
  },
  {
   "cell_type": "markdown",
   "id": "7c6118e4",
   "metadata": {},
   "source": [
    "Let's get the count of promoter and detractors -"
   ]
  },
  {
   "cell_type": "markdown",
   "id": "39ba89c1",
   "metadata": {},
   "source": [
    "Detractors have a score <= 6\n",
    "\n",
    "\n"
   ]
  },
  {
   "cell_type": "code",
   "execution_count": 49,
   "id": "45cead9a",
   "metadata": {},
   "outputs": [],
   "source": [
    "detractors = score[score <= 6]"
   ]
  },
  {
   "cell_type": "code",
   "execution_count": 50,
   "id": "d96ca0c9",
   "metadata": {},
   "outputs": [
    {
     "data": {
      "text/plain": [
       "332"
      ]
     },
     "execution_count": 50,
     "metadata": {},
     "output_type": "execute_result"
    }
   ],
   "source": [
    "# Number of detractors -\n",
    "\n",
    "num_detractors = len(detractors)\n",
    "num_detractors"
   ]
  },
  {
   "cell_type": "markdown",
   "id": "3675b48f",
   "metadata": {},
   "source": [
    "Promoters have a score >= 9"
   ]
  },
  {
   "cell_type": "code",
   "execution_count": 51,
   "id": "80d8c596",
   "metadata": {},
   "outputs": [],
   "source": [
    "promoters = score[score >= 9]"
   ]
  },
  {
   "cell_type": "code",
   "execution_count": 52,
   "id": "e1a7c986",
   "metadata": {},
   "outputs": [
    {
     "data": {
      "text/plain": [
       "609"
      ]
     },
     "execution_count": 52,
     "metadata": {},
     "output_type": "execute_result"
    }
   ],
   "source": [
    "# Number of promoters -\n",
    "\n",
    "num_promoters = len(promoters)\n",
    "num_promoters"
   ]
  },
  {
   "cell_type": "code",
   "execution_count": 53,
   "id": "b8daed98",
   "metadata": {},
   "outputs": [
    {
     "data": {
      "text/plain": [
       "1167"
      ]
     },
     "execution_count": 53,
     "metadata": {},
     "output_type": "execute_result"
    }
   ],
   "source": [
    "total = len(score)\n",
    "total"
   ]
  },
  {
   "cell_type": "code",
   "execution_count": 54,
   "id": "283d9cf6",
   "metadata": {},
   "outputs": [
    {
     "data": {
      "text/plain": [
       "28.449014567266495"
      ]
     },
     "execution_count": 54,
     "metadata": {},
     "output_type": "execute_result"
    }
   ],
   "source": [
    "# % of detractors -\n",
    "\n",
    "percentage_detractors = (num_detractors/total) * 100\n",
    "percentage_detractors"
   ]
  },
  {
   "cell_type": "code",
   "execution_count": 55,
   "id": "0885c682",
   "metadata": {},
   "outputs": [
    {
     "data": {
      "text/plain": [
       "52.185089974293064"
      ]
     },
     "execution_count": 55,
     "metadata": {},
     "output_type": "execute_result"
    }
   ],
   "source": [
    "# % of promoters -\n",
    "\n",
    "percentage_promoters = (num_promoters/total) * 100\n",
    "percentage_promoters"
   ]
  },
  {
   "cell_type": "code",
   "execution_count": 56,
   "id": "af982cc1",
   "metadata": {},
   "outputs": [
    {
     "data": {
      "text/plain": [
       "23.73607540702657"
      ]
     },
     "execution_count": 56,
     "metadata": {},
     "output_type": "execute_result"
    }
   ],
   "source": [
    "nps = percentage_promoters - percentage_detractors\n",
    "nps"
   ]
  },
  {
   "cell_type": "code",
   "execution_count": 57,
   "id": "7c1b9219",
   "metadata": {},
   "outputs": [
    {
     "data": {
      "text/plain": [
       "23.74"
      ]
     },
     "execution_count": 57,
     "metadata": {},
     "output_type": "execute_result"
    }
   ],
   "source": [
    "# Rounding off upto 2 decimal places -\n",
    "\n",
    "np.round(nps, 2)"
   ]
  },
  {
   "cell_type": "code",
   "execution_count": null,
   "id": "f139a48c",
   "metadata": {},
   "outputs": [],
   "source": []
  }
 ],
 "metadata": {
  "kernelspec": {
   "display_name": "Python 3 (ipykernel)",
   "language": "python",
   "name": "python3"
  },
  "language_info": {
   "codemirror_mode": {
    "name": "ipython",
    "version": 3
   },
   "file_extension": ".py",
   "mimetype": "text/x-python",
   "name": "python",
   "nbconvert_exporter": "python",
   "pygments_lexer": "ipython3",
   "version": "3.11.4"
  },
  "varInspector": {
   "cols": {
    "lenName": 16,
    "lenType": 16,
    "lenVar": 40
   },
   "kernels_config": {
    "python": {
     "delete_cmd_postfix": "",
     "delete_cmd_prefix": "del ",
     "library": "var_list.py",
     "varRefreshCmd": "print(var_dic_list())"
    },
    "r": {
     "delete_cmd_postfix": ") ",
     "delete_cmd_prefix": "rm(",
     "library": "var_list.r",
     "varRefreshCmd": "cat(var_dic_list()) "
    }
   },
   "types_to_exclude": [
    "module",
    "function",
    "builtin_function_or_method",
    "instance",
    "_Feature"
   ],
   "window_display": false
  }
 },
 "nbformat": 4,
 "nbformat_minor": 5
}
