{
 "cells": [
  {
   "cell_type": "code",
   "execution_count": 1,
   "id": "bf57e5d6",
   "metadata": {},
   "outputs": [],
   "source": [
    "import numpy as np\n",
    "import pandas as pd"
   ]
  },
  {
   "cell_type": "code",
   "execution_count": 2,
   "id": "e369c932",
   "metadata": {},
   "outputs": [],
   "source": [
    "#to read csv file usimg pandas library\n",
    "df=pd.read_csv('/Users/nikhil/Desktop/ml projects practice/first placement project/placement.csv')"
   ]
  },
  {
   "cell_type": "code",
   "execution_count": 3,
   "id": "78bb8fbd",
   "metadata": {},
   "outputs": [
    {
     "data": {
      "text/html": [
       "<div>\n",
       "<style scoped>\n",
       "    .dataframe tbody tr th:only-of-type {\n",
       "        vertical-align: middle;\n",
       "    }\n",
       "\n",
       "    .dataframe tbody tr th {\n",
       "        vertical-align: top;\n",
       "    }\n",
       "\n",
       "    .dataframe thead th {\n",
       "        text-align: right;\n",
       "    }\n",
       "</style>\n",
       "<table border=\"1\" class=\"dataframe\">\n",
       "  <thead>\n",
       "    <tr style=\"text-align: right;\">\n",
       "      <th></th>\n",
       "      <th>Unnamed: 0</th>\n",
       "      <th>cgpa</th>\n",
       "      <th>iq</th>\n",
       "      <th>placement</th>\n",
       "    </tr>\n",
       "  </thead>\n",
       "  <tbody>\n",
       "    <tr>\n",
       "      <th>0</th>\n",
       "      <td>0</td>\n",
       "      <td>6.8</td>\n",
       "      <td>123.0</td>\n",
       "      <td>1</td>\n",
       "    </tr>\n",
       "    <tr>\n",
       "      <th>1</th>\n",
       "      <td>1</td>\n",
       "      <td>5.9</td>\n",
       "      <td>106.0</td>\n",
       "      <td>0</td>\n",
       "    </tr>\n",
       "    <tr>\n",
       "      <th>2</th>\n",
       "      <td>2</td>\n",
       "      <td>5.3</td>\n",
       "      <td>121.0</td>\n",
       "      <td>0</td>\n",
       "    </tr>\n",
       "    <tr>\n",
       "      <th>3</th>\n",
       "      <td>3</td>\n",
       "      <td>7.4</td>\n",
       "      <td>132.0</td>\n",
       "      <td>1</td>\n",
       "    </tr>\n",
       "    <tr>\n",
       "      <th>4</th>\n",
       "      <td>4</td>\n",
       "      <td>5.8</td>\n",
       "      <td>142.0</td>\n",
       "      <td>0</td>\n",
       "    </tr>\n",
       "  </tbody>\n",
       "</table>\n",
       "</div>"
      ],
      "text/plain": [
       "   Unnamed: 0  cgpa     iq  placement\n",
       "0           0   6.8  123.0          1\n",
       "1           1   5.9  106.0          0\n",
       "2           2   5.3  121.0          0\n",
       "3           3   7.4  132.0          1\n",
       "4           4   5.8  142.0          0"
      ]
     },
     "execution_count": 3,
     "metadata": {},
     "output_type": "execute_result"
    }
   ],
   "source": [
    "#view first 5 rows \n",
    "df.head()"
   ]
  },
  {
   "cell_type": "code",
   "execution_count": 4,
   "id": "e078749f",
   "metadata": {},
   "outputs": [],
   "source": [
    "#we need only three columns cgpa, iq and placement #preprocessing step.\n",
    "\n",
    "df=df.iloc[:,1:]"
   ]
  },
  {
   "cell_type": "code",
   "execution_count": 5,
   "id": "5e86859e",
   "metadata": {},
   "outputs": [
    {
     "data": {
      "text/html": [
       "<div>\n",
       "<style scoped>\n",
       "    .dataframe tbody tr th:only-of-type {\n",
       "        vertical-align: middle;\n",
       "    }\n",
       "\n",
       "    .dataframe tbody tr th {\n",
       "        vertical-align: top;\n",
       "    }\n",
       "\n",
       "    .dataframe thead th {\n",
       "        text-align: right;\n",
       "    }\n",
       "</style>\n",
       "<table border=\"1\" class=\"dataframe\">\n",
       "  <thead>\n",
       "    <tr style=\"text-align: right;\">\n",
       "      <th></th>\n",
       "      <th>cgpa</th>\n",
       "      <th>iq</th>\n",
       "      <th>placement</th>\n",
       "    </tr>\n",
       "  </thead>\n",
       "  <tbody>\n",
       "    <tr>\n",
       "      <th>0</th>\n",
       "      <td>6.8</td>\n",
       "      <td>123.0</td>\n",
       "      <td>1</td>\n",
       "    </tr>\n",
       "    <tr>\n",
       "      <th>1</th>\n",
       "      <td>5.9</td>\n",
       "      <td>106.0</td>\n",
       "      <td>0</td>\n",
       "    </tr>\n",
       "    <tr>\n",
       "      <th>2</th>\n",
       "      <td>5.3</td>\n",
       "      <td>121.0</td>\n",
       "      <td>0</td>\n",
       "    </tr>\n",
       "    <tr>\n",
       "      <th>3</th>\n",
       "      <td>7.4</td>\n",
       "      <td>132.0</td>\n",
       "      <td>1</td>\n",
       "    </tr>\n",
       "    <tr>\n",
       "      <th>4</th>\n",
       "      <td>5.8</td>\n",
       "      <td>142.0</td>\n",
       "      <td>0</td>\n",
       "    </tr>\n",
       "  </tbody>\n",
       "</table>\n",
       "</div>"
      ],
      "text/plain": [
       "   cgpa     iq  placement\n",
       "0   6.8  123.0          1\n",
       "1   5.9  106.0          0\n",
       "2   5.3  121.0          0\n",
       "3   7.4  132.0          1\n",
       "4   5.8  142.0          0"
      ]
     },
     "execution_count": 5,
     "metadata": {},
     "output_type": "execute_result"
    }
   ],
   "source": [
    "df.head()"
   ]
  },
  {
   "cell_type": "code",
   "execution_count": 6,
   "id": "4cc44e0e",
   "metadata": {},
   "outputs": [
    {
     "name": "stdout",
     "output_type": "stream",
     "text": [
      "<class 'pandas.core.frame.DataFrame'>\n",
      "RangeIndex: 100 entries, 0 to 99\n",
      "Data columns (total 3 columns):\n",
      " #   Column     Non-Null Count  Dtype  \n",
      "---  ------     --------------  -----  \n",
      " 0   cgpa       100 non-null    float64\n",
      " 1   iq         100 non-null    float64\n",
      " 2   placement  100 non-null    int64  \n",
      "dtypes: float64(2), int64(1)\n",
      "memory usage: 2.5 KB\n"
     ]
    }
   ],
   "source": [
    "#training set = 90 students \n",
    "#testing set = 10 students \n",
    "\n",
    "#check missiong values \n",
    "df.info()"
   ]
  },
  {
   "cell_type": "code",
   "execution_count": 7,
   "id": "3a377e41",
   "metadata": {},
   "outputs": [],
   "source": [
    "import matplotlib.pyplot as plt"
   ]
  },
  {
   "cell_type": "code",
   "execution_count": 8,
   "id": "2fb7e0de",
   "metadata": {},
   "outputs": [
    {
     "data": {
      "text/plain": [
       "<matplotlib.collections.PathCollection at 0x12f80ba10>"
      ]
     },
     "execution_count": 8,
     "metadata": {},
     "output_type": "execute_result"
    },
    {
     "data": {
      "image/png": "[encoded data removed]",
      "text/plain": [
       "<Figure size 640x480 with 1 Axes>"
      ]
     },
     "metadata": {},
     "output_type": "display_data"
    }
   ],
   "source": [
    "#this step is knownn as eda\n",
    "plt.scatter(df['cgpa'],df['iq'],c=df['placement'])\n"
   ]
  },
  {
   "cell_type": "code",
   "execution_count": 9,
   "id": "c9ba7eaa",
   "metadata": {},
   "outputs": [
    {
     "name": "stdout",
     "output_type": "stream",
     "text": [
      "    cgpa     iq\n",
      "0    6.8  123.0\n",
      "1    5.9  106.0\n",
      "2    5.3  121.0\n",
      "3    7.4  132.0\n",
      "4    5.8  142.0\n",
      "..   ...    ...\n",
      "95   4.3  200.0\n",
      "96   4.4   42.0\n",
      "97   6.7  182.0\n",
      "98   6.3  103.0\n",
      "99   6.2  113.0\n",
      "\n",
      "[100 rows x 2 columns]\n",
      "0     1\n",
      "1     0\n",
      "2     0\n",
      "3     1\n",
      "4     0\n",
      "     ..\n",
      "95    0\n",
      "96    0\n",
      "97    1\n",
      "98    1\n",
      "99    1\n",
      "Name: placement, Length: 100, dtype: int64\n"
     ]
    }
   ],
   "source": [
    "#we are going to use logistic regression\n",
    "#its splits the data and classifies them \n",
    "#extract input and output columns\n",
    "#cgpa, iq = independent variables \n",
    "#placement = depemndednt variables\n",
    "\n",
    "\n",
    "#independent variables\n",
    "X=df.iloc[:,0:2]\n",
    "\n",
    "#dependent variable\n",
    "y=df.iloc[:,-1]\n",
    "\n",
    "\n",
    "print(X)\n",
    "print(y)"
   ]
  },
  {
   "cell_type": "code",
   "execution_count": 10,
   "id": "9df7c638",
   "metadata": {},
   "outputs": [],
   "source": [
    "#train test split \n",
    "\n",
    "from sklearn.model_selection import train_test_split\n",
    "\n",
    "X_train,X_test,y_train,y_test=train_test_split(X,y,test_size=0.1) #how much percentage will go in test data "
   ]
  },
  {
   "cell_type": "code",
   "execution_count": 11,
   "id": "badbf43f",
   "metadata": {},
   "outputs": [
    {
     "data": {
      "text/html": [
       "<div>\n",
       "<style scoped>\n",
       "    .dataframe tbody tr th:only-of-type {\n",
       "        vertical-align: middle;\n",
       "    }\n",
       "\n",
       "    .dataframe tbody tr th {\n",
       "        vertical-align: top;\n",
       "    }\n",
       "\n",
       "    .dataframe thead th {\n",
       "        text-align: right;\n",
       "    }\n",
       "</style>\n",
       "<table border=\"1\" class=\"dataframe\">\n",
       "  <thead>\n",
       "    <tr style=\"text-align: right;\">\n",
       "      <th></th>\n",
       "      <th>cgpa</th>\n",
       "      <th>iq</th>\n",
       "    </tr>\n",
       "  </thead>\n",
       "  <tbody>\n",
       "    <tr>\n",
       "      <th>73</th>\n",
       "      <td>4.9</td>\n",
       "      <td>61.0</td>\n",
       "    </tr>\n",
       "    <tr>\n",
       "      <th>15</th>\n",
       "      <td>5.1</td>\n",
       "      <td>176.0</td>\n",
       "    </tr>\n",
       "    <tr>\n",
       "      <th>95</th>\n",
       "      <td>4.3</td>\n",
       "      <td>200.0</td>\n",
       "    </tr>\n",
       "    <tr>\n",
       "      <th>42</th>\n",
       "      <td>7.6</td>\n",
       "      <td>89.0</td>\n",
       "    </tr>\n",
       "    <tr>\n",
       "      <th>24</th>\n",
       "      <td>4.7</td>\n",
       "      <td>121.0</td>\n",
       "    </tr>\n",
       "    <tr>\n",
       "      <th>...</th>\n",
       "      <td>...</td>\n",
       "      <td>...</td>\n",
       "    </tr>\n",
       "    <tr>\n",
       "      <th>91</th>\n",
       "      <td>7.5</td>\n",
       "      <td>158.0</td>\n",
       "    </tr>\n",
       "    <tr>\n",
       "      <th>59</th>\n",
       "      <td>4.8</td>\n",
       "      <td>112.0</td>\n",
       "    </tr>\n",
       "    <tr>\n",
       "      <th>97</th>\n",
       "      <td>6.7</td>\n",
       "      <td>182.0</td>\n",
       "    </tr>\n",
       "    <tr>\n",
       "      <th>66</th>\n",
       "      <td>6.9</td>\n",
       "      <td>96.0</td>\n",
       "    </tr>\n",
       "    <tr>\n",
       "      <th>85</th>\n",
       "      <td>5.8</td>\n",
       "      <td>166.0</td>\n",
       "    </tr>\n",
       "  </tbody>\n",
       "</table>\n",
       "<p>90 rows × 2 columns</p>\n",
       "</div>"
      ],
      "text/plain": [
       "    cgpa     iq\n",
       "73   4.9   61.0\n",
       "15   5.1  176.0\n",
       "95   4.3  200.0\n",
       "42   7.6   89.0\n",
       "24   4.7  121.0\n",
       "..   ...    ...\n",
       "91   7.5  158.0\n",
       "59   4.8  112.0\n",
       "97   6.7  182.0\n",
       "66   6.9   96.0\n",
       "85   5.8  166.0\n",
       "\n",
       "[90 rows x 2 columns]"
      ]
     },
     "execution_count": 11,
     "metadata": {},
     "output_type": "execute_result"
    }
   ],
   "source": [
    "X_train"
   ]
  },
  {
   "cell_type": "code",
   "execution_count": 12,
   "id": "6137282a",
   "metadata": {},
   "outputs": [
    {
     "data": {
      "text/html": [
       "<div>\n",
       "<style scoped>\n",
       "    .dataframe tbody tr th:only-of-type {\n",
       "        vertical-align: middle;\n",
       "    }\n",
       "\n",
       "    .dataframe tbody tr th {\n",
       "        vertical-align: top;\n",
       "    }\n",
       "\n",
       "    .dataframe thead th {\n",
       "        text-align: right;\n",
       "    }\n",
       "</style>\n",
       "<table border=\"1\" class=\"dataframe\">\n",
       "  <thead>\n",
       "    <tr style=\"text-align: right;\">\n",
       "      <th></th>\n",
       "      <th>cgpa</th>\n",
       "      <th>iq</th>\n",
       "    </tr>\n",
       "  </thead>\n",
       "  <tbody>\n",
       "    <tr>\n",
       "      <th>31</th>\n",
       "      <td>3.9</td>\n",
       "      <td>109.0</td>\n",
       "    </tr>\n",
       "    <tr>\n",
       "      <th>34</th>\n",
       "      <td>4.8</td>\n",
       "      <td>163.0</td>\n",
       "    </tr>\n",
       "    <tr>\n",
       "      <th>9</th>\n",
       "      <td>5.1</td>\n",
       "      <td>66.0</td>\n",
       "    </tr>\n",
       "    <tr>\n",
       "      <th>41</th>\n",
       "      <td>5.4</td>\n",
       "      <td>114.0</td>\n",
       "    </tr>\n",
       "    <tr>\n",
       "      <th>1</th>\n",
       "      <td>5.9</td>\n",
       "      <td>106.0</td>\n",
       "    </tr>\n",
       "    <tr>\n",
       "      <th>4</th>\n",
       "      <td>5.8</td>\n",
       "      <td>142.0</td>\n",
       "    </tr>\n",
       "    <tr>\n",
       "      <th>81</th>\n",
       "      <td>5.4</td>\n",
       "      <td>107.0</td>\n",
       "    </tr>\n",
       "    <tr>\n",
       "      <th>7</th>\n",
       "      <td>5.0</td>\n",
       "      <td>63.0</td>\n",
       "    </tr>\n",
       "    <tr>\n",
       "      <th>12</th>\n",
       "      <td>5.4</td>\n",
       "      <td>139.0</td>\n",
       "    </tr>\n",
       "    <tr>\n",
       "      <th>78</th>\n",
       "      <td>6.1</td>\n",
       "      <td>81.0</td>\n",
       "    </tr>\n",
       "  </tbody>\n",
       "</table>\n",
       "</div>"
      ],
      "text/plain": [
       "    cgpa     iq\n",
       "31   3.9  109.0\n",
       "34   4.8  163.0\n",
       "9    5.1   66.0\n",
       "41   5.4  114.0\n",
       "1    5.9  106.0\n",
       "4    5.8  142.0\n",
       "81   5.4  107.0\n",
       "7    5.0   63.0\n",
       "12   5.4  139.0\n",
       "78   6.1   81.0"
      ]
     },
     "execution_count": 12,
     "metadata": {},
     "output_type": "execute_result"
    }
   ],
   "source": [
    "X_test"
   ]
  },
  {
   "cell_type": "code",
   "execution_count": 13,
   "id": "a120c68a",
   "metadata": {},
   "outputs": [
    {
     "data": {
      "text/plain": [
       "73    0\n",
       "15    0\n",
       "95    0\n",
       "42    1\n",
       "24    0\n",
       "     ..\n",
       "91    1\n",
       "59    0\n",
       "97    1\n",
       "66    1\n",
       "85    1\n",
       "Name: placement, Length: 90, dtype: int64"
      ]
     },
     "execution_count": 13,
     "metadata": {},
     "output_type": "execute_result"
    }
   ],
   "source": [
    "y_train"
   ]
  },
  {
   "cell_type": "code",
   "execution_count": 14,
   "id": "1404b526",
   "metadata": {},
   "outputs": [
    {
     "data": {
      "text/plain": [
       "31    0\n",
       "34    0\n",
       "9     0\n",
       "41    0\n",
       "1     0\n",
       "4     0\n",
       "81    0\n",
       "7     0\n",
       "12    0\n",
       "78    0\n",
       "Name: placement, dtype: int64"
      ]
     },
     "execution_count": 14,
     "metadata": {},
     "output_type": "execute_result"
    }
   ],
   "source": [
    "y_test"
   ]
  },
  {
   "cell_type": "code",
   "execution_count": 15,
   "id": "69b4ac57",
   "metadata": {},
   "outputs": [],
   "source": [
    "#scaling of values in the range of -1 to 1 \n",
    "\n",
    "from sklearn.preprocessing import StandardScaler\n",
    "\n",
    "scaler=StandardScaler()\n",
    "\n",
    "X_train=scaler.fit_transform(X_train)"
   ]
  },
  {
   "cell_type": "code",
   "execution_count": 16,
   "id": "e3f4fc75",
   "metadata": {},
   "outputs": [
    {
     "data": {
      "text/plain": [
       "array([[-1.01220011, -1.59449106],\n",
       "       [-0.83917445,  1.26168451],\n",
       "       [-1.53127709,  1.85775594],\n",
       "       [ 1.3236463 , -0.8990744 ],\n",
       "       [-1.18522577, -0.1043125 ],\n",
       "       [ 0.80456932, -1.51998213],\n",
       "       [ 2.10226176, -0.12914881],\n",
       "       [ 0.89108215,  0.64077678],\n",
       "       [-1.2717386 ,  0.51659523],\n",
       "       [ 0.80456932,  1.2368482 ],\n",
       "       [ 1.66969762, -1.14743749],\n",
       "       [ 0.02595385,  0.1688869 ],\n",
       "       [ 0.37200517,  0.86430356],\n",
       "       [-1.09871294,  1.08783035],\n",
       "       [-1.01220011,  0.64077678],\n",
       "       [ 0.11246668, -0.30300297],\n",
       "       [-0.75266162,  2.45382736],\n",
       "       [ 0.28549234,  0.39241369],\n",
       "       [ 0.02595385, -0.55136607],\n",
       "       [-0.83917445,  0.06954167],\n",
       "       [ 0.02595385,  0.76495833],\n",
       "       [ 1.92923611,  1.06299404],\n",
       "       [-0.92568728, -0.17882143],\n",
       "       [ 0.19897951,  0.06954167],\n",
       "       [-0.57963596,  0.24339583],\n",
       "       [-0.75266162, -0.87423809],\n",
       "       [-1.79081558, -1.24678273],\n",
       "       [ 0.37200517, -2.19056248],\n",
       "       [-0.92568728, -0.84940178],\n",
       "       [-0.75266162,  0.1688869 ],\n",
       "       [ 1.06410781, -1.86769046],\n",
       "       [-0.06055898, -0.02980357],\n",
       "       [-1.01220011,  0.74012202],\n",
       "       [-0.32009747,  0.1688869 ],\n",
       "       [-0.32009747,  0.44208631],\n",
       "       [ 0.71805649,  0.34274107],\n",
       "       [ 1.3236463 ,  0.06954167],\n",
       "       [-1.01220011,  0.21855952],\n",
       "       [-1.79081558, -0.625875  ],\n",
       "       [ 0.37200517,  0.11921428],\n",
       "       [ 1.75621045,  1.01332142],\n",
       "       [ 0.28549234, -0.22849405],\n",
       "       [-0.06055898, -0.57620238],\n",
       "       [ 0.80456932,  0.34274107],\n",
       "       [ 0.63154366,  0.39241369],\n",
       "       [ 0.458518  , -0.12914881],\n",
       "       [-0.75266162,  0.88913987],\n",
       "       [ 0.37200517, -0.87423809],\n",
       "       [ 1.49667196, -0.27816666],\n",
       "       [-1.44476426,  0.59110416],\n",
       "       [ 1.06410781,  0.29306845],\n",
       "       [-1.18522577, -1.81801784],\n",
       "       [ 0.80456932,  1.83291963],\n",
       "       [ 1.23713347,  0.11921428],\n",
       "       [ 0.80456932, -0.32783928],\n",
       "       [-1.01220011,  1.7584107 ],\n",
       "       [-1.09871294,  0.39241369],\n",
       "       [-2.22337973,  2.67735415],\n",
       "       [ 0.63154366, -0.87423809],\n",
       "       [-2.39640539,  1.43553868],\n",
       "       [ 1.15062064,  0.1688869 ],\n",
       "       [ 0.19897951,  0.04470536],\n",
       "       [-1.01220011, -0.12914881],\n",
       "       [-0.32009747,  1.08783035],\n",
       "       [-0.75266162, -0.3775119 ],\n",
       "       [ 0.63154366, -0.32783928],\n",
       "       [ 1.06410781, -0.97358333],\n",
       "       [ 0.458518  ,  0.31790476],\n",
       "       [ 0.89108215, -1.91736308],\n",
       "       [-0.06055898,  0.59110416],\n",
       "       [ 0.54503083,  0.71528571],\n",
       "       [-1.44476426, -2.06638094],\n",
       "       [ 1.06410781, -0.22849405],\n",
       "       [-1.18522577, -0.94874702],\n",
       "       [ 1.23713347, -1.59449106],\n",
       "       [-0.06055898, -1.47030951],\n",
       "       [ 0.63154366, -0.05463988],\n",
       "       [-0.66614879, -0.1043125 ],\n",
       "       [-0.06055898, -1.99187201],\n",
       "       [ 0.19897951, -0.55136607],\n",
       "       [-0.66614879, -0.27816666],\n",
       "       [ 0.02595385, -1.49514582],\n",
       "       [-0.32009747,  0.36757738],\n",
       "       [ 1.75621045,  0.59110416],\n",
       "       [ 0.71805649,  0.31790476],\n",
       "       [ 1.23713347,  0.81463095],\n",
       "       [-1.09871294, -0.32783928],\n",
       "       [ 0.54503083,  1.41070237],\n",
       "       [ 0.71805649, -0.72522023],\n",
       "       [-0.23358464,  1.01332142]])"
      ]
     },
     "execution_count": 16,
     "metadata": {},
     "output_type": "execute_result"
    }
   ],
   "source": [
    "X_train"
   ]
  },
  {
   "cell_type": "code",
   "execution_count": 17,
   "id": "971b14a1",
   "metadata": {},
   "outputs": [],
   "source": [
    "X_test=scaler.transform(X_test)  #we will use transform here because we learn about pattern in training\n"
   ]
  },
  {
   "cell_type": "code",
   "execution_count": 18,
   "id": "2b309457",
   "metadata": {},
   "outputs": [],
   "source": [
    "#train the model\n",
    "\n",
    "from sklearn.linear_model import LogisticRegression \n",
    "\n",
    "clf= LogisticRegression()"
   ]
  },
  {
   "cell_type": "code",
   "execution_count": 19,
   "id": "841be96c",
   "metadata": {},
   "outputs": [
    {
     "data": {
      "text/html": [
       "<style>#sk-container-id-1 {color: black;}#sk-container-id-1 pre{padding: 0;}#sk-container-id-1 div.sk-toggleable {background-color: white;}#sk-container-id-1 label.sk-toggleable__label {cursor: pointer;display: block;width: 100%;margin-bottom: 0;padding: 0.3em;box-sizing: border-box;text-align: center;}#sk-container-id-1 label.sk-toggleable__label-arrow:before {content: \"▸\";float: left;margin-right: 0.25em;color: #696969;}#sk-container-id-1 label.sk-toggleable__label-arrow:hover:before {color: black;}#sk-container-id-1 div.sk-estimator:hover label.sk-toggleable__label-arrow:before {color: black;}#sk-container-id-1 div.sk-toggleable__content {max-height: 0;max-width: 0;overflow: hidden;text-align: left;background-color: #f0f8ff;}#sk-container-id-1 div.sk-toggleable__content pre {margin: 0.2em;color: black;border-radius: 0.25em;background-color: #f0f8ff;}#sk-container-id-1 input.sk-toggleable__control:checked~div.sk-toggleable__content {max-height: 200px;max-width: 100%;overflow: auto;}#sk-container-id-1 input.sk-toggleable__control:checked~label.sk-toggleable__label-arrow:before {content: \"▾\";}#sk-container-id-1 div.sk-estimator input.sk-toggleable__control:checked~label.sk-toggleable__label {background-color: #d4ebff;}#sk-container-id-1 div.sk-label input.sk-toggleable__control:checked~label.sk-toggleable__label {background-color: #d4ebff;}#sk-container-id-1 input.sk-hidden--visually {border: 0;clip: rect(1px 1px 1px 1px);clip: rect(1px, 1px, 1px, 1px);height: 1px;margin: -1px;overflow: hidden;padding: 0;position: absolute;width: 1px;}#sk-container-id-1 div.sk-estimator {font-family: monospace;background-color: #f0f8ff;border: 1px dotted black;border-radius: 0.25em;box-sizing: border-box;margin-bottom: 0.5em;}#sk-container-id-1 div.sk-estimator:hover {background-color: #d4ebff;}#sk-container-id-1 div.sk-parallel-item::after {content: \"\";width: 100%;border-bottom: 1px solid gray;flex-grow: 1;}#sk-container-id-1 div.sk-label:hover label.sk-toggleable__label {background-color: #d4ebff;}#sk-container-id-1 div.sk-serial::before {content: \"\";position: absolute;border-left: 1px solid gray;box-sizing: border-box;top: 0;bottom: 0;left: 50%;z-index: 0;}#sk-container-id-1 div.sk-serial {display: flex;flex-direction: column;align-items: center;background-color: white;padding-right: 0.2em;padding-left: 0.2em;position: relative;}#sk-container-id-1 div.sk-item {position: relative;z-index: 1;}#sk-container-id-1 div.sk-parallel {display: flex;align-items: stretch;justify-content: center;background-color: white;position: relative;}#sk-container-id-1 div.sk-item::before, #sk-container-id-1 div.sk-parallel-item::before {content: \"\";position: absolute;border-left: 1px solid gray;box-sizing: border-box;top: 0;bottom: 0;left: 50%;z-index: -1;}#sk-container-id-1 div.sk-parallel-item {display: flex;flex-direction: column;z-index: 1;position: relative;background-color: white;}#sk-container-id-1 div.sk-parallel-item:first-child::after {align-self: flex-end;width: 50%;}#sk-container-id-1 div.sk-parallel-item:last-child::after {align-self: flex-start;width: 50%;}#sk-container-id-1 div.sk-parallel-item:only-child::after {width: 0;}#sk-container-id-1 div.sk-dashed-wrapped {border: 1px dashed gray;margin: 0 0.4em 0.5em 0.4em;box-sizing: border-box;padding-bottom: 0.4em;background-color: white;}#sk-container-id-1 div.sk-label label {font-family: monospace;font-weight: bold;display: inline-block;line-height: 1.2em;}#sk-container-id-1 div.sk-label-container {text-align: center;}#sk-container-id-1 div.sk-container {/* jupyter's `normalize.less` sets `[hidden] { display: none; }` but bootstrap.min.css set `[hidden] { display: none !important; }` so we also need the `!important` here to be able to override the default hidden behavior on the sphinx rendered scikit-learn.org. See: https://github.com/scikit-learn/scikit-learn/issues/21755 */display: inline-block !important;position: relative;}#sk-container-id-1 div.sk-text-repr-fallback {display: none;}</style><div id=\"sk-container-id-1\" class=\"sk-top-container\"><div class=\"sk-text-repr-fallback\"><pre>LogisticRegression()</pre><b>In a Jupyter environment, please rerun this cell to show the HTML representation or trust the notebook. <br />On GitHub, the HTML representation is unable to render, please try loading this page with nbviewer.org.</b></div><div class=\"sk-container\" hidden><div class=\"sk-item\"><div class=\"sk-estimator sk-toggleable\"><input class=\"sk-toggleable__control sk-hidden--visually\" id=\"sk-estimator-id-1\" type=\"checkbox\" checked><label for=\"sk-estimator-id-1\" class=\"sk-toggleable__label sk-toggleable__label-arrow\">LogisticRegression</label><div class=\"sk-toggleable__content\"><pre>LogisticRegression()</pre></div></div></div></div></div>"
      ],
      "text/plain": [
       "LogisticRegression()"
      ]
     },
     "execution_count": 19,
     "metadata": {},
     "output_type": "execute_result"
    }
   ],
   "source": [
    "#model training\n",
    "clf.fit(X_train,y_train)#this function is used to train the model"
   ]
  },
  {
   "cell_type": "code",
   "execution_count": 20,
   "id": "a45cf8f9",
   "metadata": {},
   "outputs": [],
   "source": [
    "#Evaluate the model , in this we calculate accuaracy, on test data\n",
    "\n",
    "y_pred=clf.predict(X_test)"
   ]
  },
  {
   "cell_type": "code",
   "execution_count": 21,
   "id": "2fc36eee",
   "metadata": {},
   "outputs": [
    {
     "data": {
      "text/plain": [
       "31    0\n",
       "34    0\n",
       "9     0\n",
       "41    0\n",
       "1     0\n",
       "4     0\n",
       "81    0\n",
       "7     0\n",
       "12    0\n",
       "78    0\n",
       "Name: placement, dtype: int64"
      ]
     },
     "execution_count": 21,
     "metadata": {},
     "output_type": "execute_result"
    }
   ],
   "source": [
    "y_test"
   ]
  },
  {
   "cell_type": "code",
   "execution_count": 22,
   "id": "fba8f940",
   "metadata": {},
   "outputs": [
    {
     "data": {
      "text/plain": [
       "0.8"
      ]
     },
     "execution_count": 22,
     "metadata": {},
     "output_type": "execute_result"
    }
   ],
   "source": [
    "from sklearn.metrics import accuracy_score\n",
    "\n",
    "accuracy_score(y_test,y_pred)"
   ]
  },
  {
   "cell_type": "code",
   "execution_count": 23,
   "id": "706ab06c",
   "metadata": {},
   "outputs": [
    {
     "data": {
      "text/plain": [
       "<Axes: >"
      ]
     },
     "execution_count": 23,
     "metadata": {},
     "output_type": "execute_result"
    },
    {
     "data": {
      "image/png": "[encoded data removed]",
      "text/plain": [
       "<Figure size 640x480 with 1 Axes>"
      ]
     },
     "metadata": {},
     "output_type": "display_data"
    }
   ],
   "source": [
    "#decision boundry, visualizing  the data \n",
    "\n",
    "from mlxtend.plotting import plot_decision_regions\n",
    "\n",
    "plot_decision_regions(X_train, y_train.values, clf=clf, legend=2)"
   ]
  },
  {
   "cell_type": "code",
   "execution_count": null,
   "id": "ac79cdef",
   "metadata": {},
   "outputs": [],
   "source": []
  }
 ],
 "metadata": {
  "kernelspec": {
   "display_name": "Python 3 (ipykernel)",
   "language": "python",
   "name": "python3"
  },
  "language_info": {
   "codemirror_mode": {
    "name": "ipython",
    "version": 3
   },
   "file_extension": ".py",
   "mimetype": "text/x-python",
   "name": "python",
   "nbconvert_exporter": "python",
   "pygments_lexer": "ipython3",
   "version": "3.11.4"
  }
 },
 "nbformat": 4,
 "nbformat_minor": 5
}
