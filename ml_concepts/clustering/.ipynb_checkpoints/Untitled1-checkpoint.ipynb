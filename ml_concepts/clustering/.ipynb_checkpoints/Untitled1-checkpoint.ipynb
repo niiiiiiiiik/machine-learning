{
 "cells": [
  {
   "cell_type": "code",
   "execution_count": 1,
   "id": "355db034",
   "metadata": {},
   "outputs": [],
   "source": [
    "from sklearn.datasets import make_blobs\n",
    "import matplotlib.pyplot as plt\n",
    "import numpy as np"
   ]
  },
  {
   "cell_type": "code",
   "execution_count": 2,
   "id": "1997515f",
   "metadata": {},
   "outputs": [],
   "source": [
    "import random\n",
    "class KMeans:\n",
    "    def __init__(self,n_clusters=2,max_iter=100):\n",
    "        self.n_clusters=n_clusters\n",
    "        self.max_iter=max_iter\n",
    "        self.centroids= None\n",
    "        \n",
    "    def fit_predict(self,X):\n",
    "        random_index=random.sample(range(0,X.shape[0]),self.n_clusters)\n",
    "        self.centroids=X[random_index]\n",
    "        \n",
    "        for i in range(self.max_iter):\n",
    "            #assign clusters\n",
    "            cluster_group=self.assign_clusters(X)\n",
    "            old_centroids=self.centroids\n",
    "            #move centroids\n",
    "            self.centroids=self.move_centroids(X,cluster_group)\n",
    "            #check finish\n",
    "            if (old_centroids==self.centroids).all():\n",
    "                break \n",
    "        return cluster_group        \n",
    "    \n",
    "    def assign_clusters(self,X):\n",
    "        cluster_group=[]\n",
    "        distances=[]\n",
    "        \n",
    "        for row in X:\n",
    "            for centroid in self.centroids:\n",
    "                distances.append(np.sqrt(np.dot(row-centroid,row-centroid)))\n",
    "            min_distances=min(distances)\n",
    "            index_pos=distances.index(min_distances)\n",
    "            cluster_group.append(index_pos)\n",
    "            distances.clear()\n",
    "            \n",
    "        return np.array(cluster_group)\n",
    "    \n",
    "    def move_centroids(self,X,cluster_group):\n",
    "        new_centroids=[]\n",
    "        \n",
    "        cluster_type=np.unique(cluster_group)\n",
    "        \n",
    "        for type in cluster_type:\n",
    "            new_centroids.append(X[cluster_group==type].mean(axis=0))\n",
    "        return np.array(new_centroids)    "
   ]
  },
  {
   "cell_type": "code",
   "execution_count": 3,
   "id": "7712a885",
   "metadata": {
    "scrolled": false
   },
   "outputs": [
    {
     "data": {
      "image/png": "[encoded data removed]",
      "text/plain": [
       "<Figure size 640x480 with 1 Axes>"
      ]
     },
     "metadata": {},
     "output_type": "display_data"
    }
   ],
   "source": [
    "\n",
    "centroids=[(-5,-5),(5,5),(-2.5,2.5)]\n",
    "cluster_std=[1,1,1]\n",
    "\n",
    "X,y= make_blobs(n_samples=100,cluster_std=cluster_std,centers=centroids,n_features=2,random_state=2)\n",
    "\n",
    "km= KMeans(n_clusters=3,max_iter=100)\n",
    "y_means=km.fit_predict(X)\n",
    "plt.scatter(X[y_means==0,0],X[y_means==0,1],color='red')\n",
    "plt.scatter(X[y_means==1,0],X[y_means==1,1],color='blue')\n",
    "plt.scatter(X[y_means==2,0],X[y_means==2,1],color='green')\n",
    "plt.show()"
   ]
  },
  {
   "cell_type": "code",
   "execution_count": null,
   "id": "eb841fd4",
   "metadata": {},
   "outputs": [],
   "source": [
    "\n",
    "        "
   ]
  }
 ],
 "metadata": {
  "kernelspec": {
   "display_name": "Python 3 (ipykernel)",
   "language": "python",
   "name": "python3"
  },
  "language_info": {
   "codemirror_mode": {
    "name": "ipython",
    "version": 3
   },
   "file_extension": ".py",
   "mimetype": "text/x-python",
   "name": "python",
   "nbconvert_exporter": "python",
   "pygments_lexer": "ipython3",
   "version": "3.11.4"
  },
  "varInspector": {
   "cols": {
    "lenName": 16,
    "lenType": 16,
    "lenVar": 40
   },
   "kernels_config": {
    "python": {
     "delete_cmd_postfix": "",
     "delete_cmd_prefix": "del ",
     "library": "var_list.py",
     "varRefreshCmd": "print(var_dic_list())"
    },
    "r": {
     "delete_cmd_postfix": ") ",
     "delete_cmd_prefix": "rm(",
     "library": "var_list.r",
     "varRefreshCmd": "cat(var_dic_list()) "
    }
   },
   "types_to_exclude": [
    "module",
    "function",
    "builtin_function_or_method",
    "instance",
    "_Feature"
   ],
   "window_display": false
  }
 },
 "nbformat": 4,
 "nbformat_minor": 5
}
