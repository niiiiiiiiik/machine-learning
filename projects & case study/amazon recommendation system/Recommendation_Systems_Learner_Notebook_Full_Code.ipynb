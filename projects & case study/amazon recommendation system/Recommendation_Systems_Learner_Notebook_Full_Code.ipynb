{
 "cells": [
  {
   "cell_type": "markdown",
   "metadata": {
    "id": "pXQzH0nC5JtP"
   },
   "source": [
    "# **Project: Amazon Product Recommendation System**\n",
    "\n",
    "# **Marks: 40**\n",
    "\n",
    "\n",
    "Welcome to the project on Recommendation Systems. We will work with the Amazon product reviews dataset for this project. The dataset contains ratings of different electronic products. It does not include information about the products or reviews to avoid bias while building the model. \n",
    "\n",
    "--------------\n",
    "## **Context:**\n",
    "--------------\n",
    "\n",
    "Today, information is growing exponentially with volume, velocity and variety throughout the globe. This has lead to information overload, and too many choices for the consumer of any business. It represents a real dilemma for these consumers and they often turn to denial. Recommender Systems are one of the best tools that help recommending products to consumers while they are browsing online. Providing personalized recommendations which is most relevant for the user is what's most likely to keep them engaged and help business. \n",
    "\n",
    "E-commerce websites like Amazon, Walmart, Target and Etsy use different recommendation models to provide personalized suggestions to different users. These companies spend millions of dollars to come up with algorithmic techniques that can provide personalized recommendations to their users.\n",
    "\n",
    "Amazon, for example, is well-known for its accurate selection of recommendations in its online site. Amazon's recommendation system is capable of intelligently analyzing and predicting customers' shopping preferences in order to offer them a list of recommended products. Amazon's recommendation algorithm is therefore a key element in using AI to improve the personalization of its website. For example, one of the baseline recommendation models that Amazon uses is item-to-item collaborative filtering, which scales to massive data sets and produces high-quality recommendations in real-time.\n",
    "\n",
    "----------------\n",
    "## **Objective:**\n",
    "----------------\n",
    "\n",
    "You are a Data Science Manager at Amazon, and have been given the task of building a recommendation system to recommend products to customers based on their previous ratings for other products. You have a collection of labeled data of Amazon reviews of products. The goal is to extract meaningful insights from the data and build a recommendation system that helps in recommending products to online consumers.\n",
    "\n",
    "-----------------------------\n",
    "## **Dataset:** \n",
    "-----------------------------\n",
    "\n",
    "The Amazon dataset contains the following attributes:\n",
    "\n",
    "- **userId:** Every user identified with a unique id\n",
    "- **productId:** Every product identified with a unique id\n",
    "- **Rating:** The rating of the corresponding product by the corresponding user\n",
    "- **timestamp:** Time of the rating. We **will not use this column** to solve the current problem"
   ]
  },
  {
   "cell_type": "markdown",
   "metadata": {
    "id": "nmdPxJ2Q7W7p"
   },
   "source": [
    "**Note:** The code has some user defined functions that will be usefull while making recommendations and measure model performance, you can use these functions or can create your own functions. "
   ]
  },
  {
   "cell_type": "markdown",
   "metadata": {
    "id": "UoRfgjS2yekq"
   },
   "source": [
    "Sometimes, the installation of the surprise library, which is used to build recommendation systems, faces issues in Jupyter. To avoid any issues, it is advised to use **Google Colab** for this project.\n",
    "\n",
    "Let's start by mounting the Google drive on Colab."
   ]
  },
  {
   "cell_type": "code",
   "execution_count": null,
   "metadata": {
    "id": "GZ0YAszcT4zK"
   },
   "outputs": [],
   "source": [
    "from google.colab import drive\n",
    "drive.mount('/content/drive')"
   ]
  },
  {
   "cell_type": "markdown",
   "metadata": {
    "id": "0Ibk07-Cyekt"
   },
   "source": [
    "**Installing surprise library**"
   ]
  },
  {
   "cell_type": "code",
   "execution_count": 1,
   "metadata": {
    "id": "05HQoiZYlsbB"
   },
   "outputs": [
    {
     "name": "stdout",
     "output_type": "stream",
     "text": [
      "Requirement already satisfied: surprise in /Users/nikhil/anaconda3/lib/python3.11/site-packages (0.1)\n",
      "Requirement already satisfied: scikit-surprise in /Users/nikhil/anaconda3/lib/python3.11/site-packages (from surprise) (1.1.3)\n",
      "Requirement already satisfied: joblib>=1.0.0 in /Users/nikhil/anaconda3/lib/python3.11/site-packages (from scikit-surprise->surprise) (1.2.0)\n",
      "Requirement already satisfied: numpy>=1.17.3 in /Users/nikhil/anaconda3/lib/python3.11/site-packages (from scikit-surprise->surprise) (1.26.4)\n",
      "Requirement already satisfied: scipy>=1.3.2 in /Users/nikhil/anaconda3/lib/python3.11/site-packages (from scikit-surprise->surprise) (1.10.1)\n"
     ]
    }
   ],
   "source": [
    "!pip install surprise"
   ]
  },
  {
   "cell_type": "markdown",
   "metadata": {
    "id": "7fIt4jcFIm76"
   },
   "source": [
    "## **Importing the necessary libraries and overview of the dataset**"
   ]
  },
  {
   "cell_type": "code",
   "execution_count": 2,
   "metadata": {
    "id": "jzu2P-TT5JtP"
   },
   "outputs": [],
   "source": [
    "import warnings                                 # Used to ignore the warning given as output of the code\n",
    "warnings.filterwarnings('ignore')\n",
    "\n",
    "import numpy as np                              # Basic libraries of python for numeric and dataframe computations\n",
    "import pandas as pd\n",
    "\n",
    "import matplotlib.pyplot as plt                 # Basic library for data visualization\n",
    "import seaborn as sns                           # Slightly advanced library for data visualization\n",
    "\n",
    "from collections import defaultdict             # A dictionary output that does not raise a key error\n",
    "\n",
    "from sklearn.metrics import mean_squared_error  # A performance metrics in sklearn"
   ]
  },
  {
   "cell_type": "markdown",
   "metadata": {
    "id": "NrXYJAv95JtP"
   },
   "source": [
    "### **Loading the data**\n",
    "- Import the Dataset\n",
    "- Add column names ['user_id', 'prod_id', 'rating', 'timestamp']\n",
    "- Drop the column timestamp\n",
    "- Copy the data to another DataFrame called **df**"
   ]
  },
  {
   "cell_type": "code",
   "execution_count": 3,
   "metadata": {
    "id": "JGb-Hk1B5JtP"
   },
   "outputs": [],
   "source": [
    "# Import the dataset\n",
    "df = pd.read_csv('ratings_Electronics.csv', header = None) \n",
    "\n",
    "df.columns = ['user_id', 'prod_id', 'rating', 'timestamp'] \n",
    "\n",
    "df = df.drop('timestamp', axis = 1) \n",
    "\n",
    "df_copy = df.copy(deep = True) "
   ]
  },
  {
   "cell_type": "markdown",
   "metadata": {
    "id": "OVQnSG5g_9uX"
   },
   "source": [
    "**As this dataset is very large and has 7,824,482 observations, it is not computationally possible to build a model using this. Moreover, many users have only rated a few products and also some products are rated by very few users. Hence, we can reduce the dataset by considering certain logical assumptions.**\n",
    "\n",
    "Here, we will be taking users who have given at least 50 ratings, and the products that have at least 5 ratings, as when we shop online we prefer to have some number of ratings of a product. "
   ]
  },
  {
   "cell_type": "code",
   "execution_count": 4,
   "metadata": {
    "id": "4yt9W7Q32EQQ"
   },
   "outputs": [],
   "source": [
    "# Get the column containing the users\n",
    "users = df.user_id\n",
    "\n",
    "# Create a dictionary from users to their number of ratings\n",
    "ratings_count = dict()\n",
    "\n",
    "for user in users:\n",
    "\n",
    "    # If we already have the user, just add 1 to their rating count\n",
    "    if user in ratings_count:        \n",
    "        ratings_count[user] += 1\n",
    "  \n",
    "    # Otherwise, set their rating count to 1\n",
    "    else:\n",
    "        ratings_count[user] = 1"
   ]
  },
  {
   "cell_type": "code",
   "execution_count": 5,
   "metadata": {
    "id": "19XB60dq2EQR"
   },
   "outputs": [],
   "source": [
    "# We want our users to have at least 50 ratings to be considered\n",
    "RATINGS_CUTOFF = 50\n",
    "\n",
    "remove_users = []\n",
    "\n",
    "for user, num_ratings in ratings_count.items():\n",
    "    if num_ratings < RATINGS_CUTOFF:\n",
    "        remove_users.append(user)\n",
    "\n",
    "df = df.loc[ ~ df.user_id.isin(remove_users)]"
   ]
  },
  {
   "cell_type": "code",
   "execution_count": 6,
   "metadata": {
    "id": "33UzK1D82EQS"
   },
   "outputs": [],
   "source": [
    "# Get the column containing the products\n",
    "prods = df.prod_id\n",
    "\n",
    "# Create a dictionary from products to their number of ratings\n",
    "ratings_count = dict()\n",
    "\n",
    "for prod in prods:\n",
    "    \n",
    "    # If we already have the product, just add 1 to its rating count\n",
    "    if prod in ratings_count:\n",
    "        ratings_count[prod] += 1\n",
    "    \n",
    "    # Otherwise, set their rating count to 1\n",
    "    else:\n",
    "        ratings_count[prod] = 1    "
   ]
  },
  {
   "cell_type": "code",
   "execution_count": 7,
   "metadata": {
    "id": "u6YE-lUp2EQT"
   },
   "outputs": [],
   "source": [
    "# We want our item to have at least 5 ratings to be considered\n",
    "RATINGS_CUTOFF = 5\n",
    "\n",
    "remove_users = []\n",
    "\n",
    "for user, num_ratings in ratings_count.items():\n",
    "    if num_ratings < RATINGS_CUTOFF:\n",
    "        remove_users.append(user)\n",
    "\n",
    "df_final = df.loc[~ df.prod_id.isin(remove_users)]"
   ]
  },
  {
   "cell_type": "code",
   "execution_count": 8,
   "metadata": {
    "id": "aL1JZ00o5JtQ"
   },
   "outputs": [
    {
     "data": {
      "text/html": [
       "<div>\n",
       "<style scoped>\n",
       "    .dataframe tbody tr th:only-of-type {\n",
       "        vertical-align: middle;\n",
       "    }\n",
       "\n",
       "    .dataframe tbody tr th {\n",
       "        vertical-align: top;\n",
       "    }\n",
       "\n",
       "    .dataframe thead th {\n",
       "        text-align: right;\n",
       "    }\n",
       "</style>\n",
       "<table border=\"1\" class=\"dataframe\">\n",
       "  <thead>\n",
       "    <tr style=\"text-align: right;\">\n",
       "      <th></th>\n",
       "      <th>user_id</th>\n",
       "      <th>prod_id</th>\n",
       "      <th>rating</th>\n",
       "    </tr>\n",
       "  </thead>\n",
       "  <tbody>\n",
       "    <tr>\n",
       "      <th>1310</th>\n",
       "      <td>A3LDPF5FMB782Z</td>\n",
       "      <td>1400501466</td>\n",
       "      <td>5.0</td>\n",
       "    </tr>\n",
       "    <tr>\n",
       "      <th>1322</th>\n",
       "      <td>A1A5KUIIIHFF4U</td>\n",
       "      <td>1400501466</td>\n",
       "      <td>1.0</td>\n",
       "    </tr>\n",
       "    <tr>\n",
       "      <th>1335</th>\n",
       "      <td>A2XIOXRRYX0KZY</td>\n",
       "      <td>1400501466</td>\n",
       "      <td>3.0</td>\n",
       "    </tr>\n",
       "    <tr>\n",
       "      <th>1451</th>\n",
       "      <td>AW3LX47IHPFRL</td>\n",
       "      <td>1400501466</td>\n",
       "      <td>5.0</td>\n",
       "    </tr>\n",
       "    <tr>\n",
       "      <th>1456</th>\n",
       "      <td>A1E3OB6QMBKRYZ</td>\n",
       "      <td>1400501466</td>\n",
       "      <td>1.0</td>\n",
       "    </tr>\n",
       "  </tbody>\n",
       "</table>\n",
       "</div>"
      ],
      "text/plain": [
       "             user_id     prod_id  rating\n",
       "1310  A3LDPF5FMB782Z  1400501466     5.0\n",
       "1322  A1A5KUIIIHFF4U  1400501466     1.0\n",
       "1335  A2XIOXRRYX0KZY  1400501466     3.0\n",
       "1451   AW3LX47IHPFRL  1400501466     5.0\n",
       "1456  A1E3OB6QMBKRYZ  1400501466     1.0"
      ]
     },
     "execution_count": 8,
     "metadata": {},
     "output_type": "execute_result"
    }
   ],
   "source": [
    "# Print a few rows of the imported dataset\n",
    "df_final.head()"
   ]
  },
  {
   "cell_type": "markdown",
   "metadata": {
    "id": "GuPoy_XfxhXZ"
   },
   "source": [
    "## **Exploratory Data Analysis**"
   ]
  },
  {
   "cell_type": "markdown",
   "metadata": {
    "id": "s0d0bWeG-sVB"
   },
   "source": [
    "### **Shape of the data**"
   ]
  },
  {
   "cell_type": "markdown",
   "metadata": {
    "id": "qyBVTRDTyek0"
   },
   "source": [
    "### **Check the number of rows and columns and provide observations.**"
   ]
  },
  {
   "cell_type": "code",
   "execution_count": 9,
   "metadata": {
    "id": "fJ4eQKaY5JtQ"
   },
   "outputs": [
    {
     "name": "stdout",
     "output_type": "stream",
     "text": [
      "Number of rows: 65290\n",
      "Number of columns: 3\n"
     ]
    }
   ],
   "source": [
    "# Check the number of rows and columns and provide observations\n",
    "print(\"Number of rows:\", df_final.shape[0])\n",
    "print(\"Number of columns:\", df_final.shape[1])\n"
   ]
  },
  {
   "cell_type": "markdown",
   "metadata": {
    "id": "Slp-fgWQ-sVD"
   },
   "source": [
    "**The dataset consists of over 65,000 user-product-rating entries, which should provide a substantial amount of information to train a recommendation system. This volume suggests a rich interaction history that can be leveraged to find patterns and preferences among users.\n",
    "Data Structure Confirmation:\n",
    "With three columns (user_id, prod_id, rating), the dataset is structured simply and clearly, ideal for most types of recommendation systems, including collaborative filtering models.**"
   ]
  },
  {
   "cell_type": "markdown",
   "metadata": {
    "id": "lAMWm0nC-sVF"
   },
   "source": [
    "### **Data types**"
   ]
  },
  {
   "cell_type": "code",
   "execution_count": 10,
   "metadata": {
    "id": "SVrgMkye5JtQ"
   },
   "outputs": [
    {
     "name": "stdout",
     "output_type": "stream",
     "text": [
      "user_id     object\n",
      "prod_id     object\n",
      "rating     float64\n",
      "dtype: object\n"
     ]
    }
   ],
   "source": [
    "# Check Data types and provide observations\n",
    "print(df_final.dtypes)\n"
   ]
  },
  {
   "cell_type": "markdown",
   "metadata": {
    "id": "z4fOE02D-sVF"
   },
   "source": [
    "user_id and prod_id: They are of type object, which typically indicates string data in pandas. This is suitable for categorical identifiers. It's important to ensure these are consistently formatted to avoid duplicates due to casing or leading/trailing spaces.\n",
    "rating: This is a float64, which is appropriate for numerical values that could include decimals, typical for ratings that might range between scales like 1 to 5.\n"
   ]
  },
  {
   "cell_type": "markdown",
   "metadata": {
    "id": "lTMpOROT-sVG"
   },
   "source": [
    "### **Checking for missing values**"
   ]
  },
  {
   "cell_type": "code",
   "execution_count": 11,
   "metadata": {
    "id": "vt-VEjMA5JtQ"
   },
   "outputs": [
    {
     "name": "stdout",
     "output_type": "stream",
     "text": [
      "user_id    0\n",
      "prod_id    0\n",
      "rating     0\n",
      "dtype: int64\n"
     ]
    }
   ],
   "source": [
    "# Check for missing values present and provide observations\n",
    "print(df_final.isnull().sum())\n"
   ]
  },
  {
   "cell_type": "markdown",
   "metadata": {
    "id": "qMWuBNhI5JtR"
   },
   "source": [
    "**The output indicates there are no missing values in any of the columns (user_id, prod_id, rating).**"
   ]
  },
  {
   "cell_type": "markdown",
   "metadata": {
    "id": "wETrCg48-sVG"
   },
   "source": [
    "### **Summary Statistics**"
   ]
  },
  {
   "cell_type": "code",
   "execution_count": 12,
   "metadata": {
    "id": "tYm30MXR5JtR"
   },
   "outputs": [
    {
     "name": "stdout",
     "output_type": "stream",
     "text": [
      "count    65290.000000\n",
      "mean         4.294808\n",
      "std          0.988915\n",
      "min          1.000000\n",
      "25%          4.000000\n",
      "50%          5.000000\n",
      "75%          5.000000\n",
      "max          5.000000\n",
      "Name: rating, dtype: float64\n"
     ]
    }
   ],
   "source": [
    "# Summary statistics of 'rating' variable and provide observations\n",
    "print(df_final['rating'].describe())\n"
   ]
  },
  {
   "cell_type": "markdown",
   "metadata": {
    "id": "VqW50EIJxhXc"
   },
   "source": [
    "**Central Tendency:\n",
    "Mean (Average Rating): The average rating is approximately 4.29, indicating that users generally leave positive ratings on products.\n",
    "Median (50% Quantile): The median rating is 5.00. This suggests that at least half of the ratings are the highest possible score, reinforcing the notion of overall user satisfaction or a tendency to rate products positively when users choose to leave feedback.\n",
    "Dispersion:\n",
    "Standard Deviation: A standard deviation of about 0.99 points to moderate variability in the ratings. Most ratings are clustered around the high end but vary enough to show differing user opinions.\n",
    "Range: The range is between 1.00 and 5.00, indicating that while many ratings are high, there are still some users who are dissatisfied to the extent of giving the lowest rating.\n",
    "Distribution Shape:\n",
    "Quartiles: With both the 25th and 75th percentiles at 4.00 and 5.00, respectively, and the median also at 5.00, the data is heavily skewed towards higher ratings. Most of the ratings are either 4 or 5, showing a high level of user satisfaction or a possible reluctance to give lower scores unless significantly dissatisfied.**"
   ]
  },
  {
   "cell_type": "markdown",
   "metadata": {
    "id": "ywyFrZIf5JtR"
   },
   "source": [
    "### **Checking the rating distribution**"
   ]
  },
  {
   "cell_type": "code",
   "execution_count": 13,
   "metadata": {
    "id": "QbqhbEVe-sVH"
   },
   "outputs": [
    {
     "data": {
      "image/png": "[encoded data removed]",
      "text/plain": [
       "<Figure size 1000x600 with 1 Axes>"
      ]
     },
     "metadata": {},
     "output_type": "display_data"
    }
   ],
   "source": [
    "# Create the bar plot and provide observations\n",
    "rating_counts = df_final['rating'].value_counts().sort_index()\n",
    "plt.figure(figsize=(10, 6))\n",
    "plt.bar(rating_counts.index, rating_counts.values, color='skyblue')\n",
    "plt.xlabel('Rating')\n",
    "plt.ylabel('Number of Ratings')\n",
    "plt.title('Distribution of Ratings')\n",
    "plt.xticks(rating_counts.index)\n",
    "plt.grid(axis='y', linestyle='--', alpha=0.7)\n",
    "plt.show()\n"
   ]
  },
  {
   "cell_type": "markdown",
   "metadata": {
    "id": "t0jONrQv-sVH"
   },
   "source": [
    "**Heavy Skew Towards High Ratings:\n",
    "The plot shows a very pronounced skew towards the higher ratings, with the number of 5 ratings significantly surpassing all other ratings. This confirms the data's left-skewed nature as previously analyzed from the summary statistics.\n",
    "Ratings of 4 are also quite common, further supporting the trend towards higher ratings.\n",
    "Low Ratings Are Less Common:\n",
    "Ratings of 1 and 2 are relatively rare compared to 4 and 5. This suggests that users are generally more inclined to leave a review when they have a positive experience, or possibly that users who are dissatisfied are less likely to leave feedback.\n",
    "The rating of 3 serves as a middle ground, being more common than 1 and 2 but significantly less so than 4 and 5.**"
   ]
  },
  {
   "cell_type": "markdown",
   "metadata": {
    "id": "HefpLdLJxhXd"
   },
   "source": [
    "### **Checking the number of unique users and items in the dataset**"
   ]
  },
  {
   "cell_type": "code",
   "execution_count": 14,
   "metadata": {
    "id": "NbSom7195JtR"
   },
   "outputs": [
    {
     "name": "stdout",
     "output_type": "stream",
     "text": [
      "Total number of rows: 65290\n",
      "Number of unique users: 1540\n",
      "Number of unique products: 5689\n"
     ]
    }
   ],
   "source": [
    "# Number of total rows in the data and number of unique user id and product id in the data\n",
    "# Number of rows in the dataset\n",
    "total_rows = df_final.shape[0]\n",
    "\n",
    "# Number of unique user IDs\n",
    "unique_users = df_final['user_id'].nunique()\n",
    "\n",
    "# Number of unique product IDs\n",
    "unique_products = df_final['prod_id'].nunique()\n",
    "\n",
    "print(f\"Total number of rows: {total_rows}\")\n",
    "print(f\"Number of unique users: {unique_users}\")\n",
    "print(f\"Number of unique products: {unique_products}\")\n"
   ]
  },
  {
   "cell_type": "markdown",
   "metadata": {
    "id": "Qwgz6CUt-sVI"
   },
   "source": [
    "**Total number of rows: 65,290\n",
    "Number of unique users: 1,540\n",
    "Number of unique products: 5,689**"
   ]
  },
  {
   "cell_type": "markdown",
   "metadata": {
    "id": "RfDnhSS4-sVI"
   },
   "source": [
    "### **Users with the most number of ratings**"
   ]
  },
  {
   "cell_type": "code",
   "execution_count": 15,
   "metadata": {
    "id": "n7MX452q5JtR"
   },
   "outputs": [
    {
     "name": "stdout",
     "output_type": "stream",
     "text": [
      "user_id\n",
      "ADLVFFE4VBT8      295\n",
      "A3OXHLG6DIBRW8    230\n",
      "A1ODOGXEYECQQ8    217\n",
      "A36K2N527TXXJN    212\n",
      "A25C2M3QF9G7OQ    203\n",
      "A680RUE1FDO8B     196\n",
      "A22CW0ZHY3NJH8    193\n",
      "A1UQBFCERIP7VJ    193\n",
      "AWPODHOB4GFWL     184\n",
      "A3LGT6UZL99IW1    179\n",
      "Name: rating, dtype: int64\n"
     ]
    }
   ],
   "source": [
    "# Top 10 users based on the number of ratings\n",
    "# Group by user_id and count the number of ratings\n",
    "user_rating_counts = df_final.groupby('user_id')['rating'].count()\n",
    "\n",
    "# Sort the counts in descending order\n",
    "sorted_user_ratings = user_rating_counts.sort_values(ascending=False)\n",
    "\n",
    "# Select the top 10 users\n",
    "top_10_users = sorted_user_ratings.head(10)\n",
    "\n",
    "print(top_10_users)\n"
   ]
  },
  {
   "cell_type": "markdown",
   "metadata": {
    "id": "1X2w_jt9-sVI"
   },
   "source": [
    "**High Level of Activity:\n",
    "The user ADLVFFE4VBT8 leads the list with 295 ratings, which is a significant number, indicating a highly active user on the platform.\n",
    "Other top users also show considerable activity, with ratings ranging from 179 to 230 for the rest of the top 10.\n",
    "Engagement Diversity:\n",
    "The distribution of ratings among these top users varies, suggesting different levels of engagement and possibly different usage patterns or interests on the platform.\n",
    "Potential Influence on the System:\n",
    "Users with a high number of ratings, like these top 10, could disproportionately influence collaborative filtering models. Their preferences might be overly represented in the recommendations made to other users.**"
   ]
  },
  {
   "cell_type": "markdown",
   "metadata": {
    "id": "EnYTx-Ol-sVg"
   },
   "source": [
    "**Now that we have explored and prepared the data, let's build the first recommendation system.**"
   ]
  },
  {
   "cell_type": "markdown",
   "metadata": {
    "id": "6xYGrGVy5JtS"
   },
   "source": [
    "## **Model 1: Rank Based Recommendation System**"
   ]
  },
  {
   "cell_type": "code",
   "execution_count": 16,
   "metadata": {
    "id": "yxZTj1UPxhXh",
    "scrolled": true
   },
   "outputs": [
    {
     "name": "stdout",
     "output_type": "stream",
     "text": [
      "            average_rating  rating_count\n",
      "prod_id                                 \n",
      "B00LGQ6HL8             5.0             5\n",
      "B003DZJQQI             5.0            14\n",
      "B005FDXF2C             5.0             7\n",
      "B00I6CVPVC             5.0             7\n",
      "B00B9KOCYA             5.0             8\n"
     ]
    }
   ],
   "source": [
    "# Step 1 & 2: Group by 'prod_id' and calculate the average and count of ratings\n",
    "product_stats = df_final.groupby('prod_id')['rating'].agg(['mean', 'count'])\n",
    "\n",
    "# Step 3: Rename the columns for clarity\n",
    "product_stats.columns = ['average_rating', 'rating_count']\n",
    "\n",
    "# Step 4: Sort the DataFrame by 'average_rating' in descending order\n",
    "final_rating = product_stats.sort_values(by='average_rating', ascending=False)\n",
    "\n",
    "# Step 5: Display the first five records\n",
    "print(final_rating.head())\n"
   ]
  },
  {
   "cell_type": "code",
   "execution_count": 17,
   "metadata": {
    "id": "zKU__5s1xhXi"
   },
   "outputs": [],
   "source": [
    "def get_top_n_products(df, min_interactions, n_top):\n",
    "    # Group by product ID and calculate mean and count of ratings\n",
    "    product_stats = df.groupby('prod_id')['rating'].agg(['mean', 'count'])\n",
    "    \n",
    "    # Rename the columns for clarity\n",
    "    product_stats.columns = ['average_rating', 'rating_count']\n",
    "    \n",
    "    # Filter products based on the minimum number of interactions\n",
    "    filtered_products = product_stats[product_stats['rating_count'] >= min_interactions]\n",
    "    \n",
    "    # Sort the products by average rating in descending order\n",
    "    top_products = filtered_products.sort_values(by='average_rating', ascending=False)\n",
    "    \n",
    "    # Return the top n products\n",
    "    return top_products.head(n_top)\n",
    "\n",
    "\n"
   ]
  },
  {
   "cell_type": "markdown",
   "metadata": {
    "id": "F8l6373PxhXi"
   },
   "source": [
    "### **Recommending top 5 products with 50 minimum interactions based on popularity**"
   ]
  },
  {
   "cell_type": "code",
   "execution_count": 18,
   "metadata": {
    "id": "dBxdLiM_xhXi"
   },
   "outputs": [
    {
     "name": "stdout",
     "output_type": "stream",
     "text": [
      "Top 5 Popular Products with at Least 50 Interactions:\n",
      "            average_rating  rating_count\n",
      "prod_id                                 \n",
      "B001TH7GUU        4.871795            78\n",
      "B003ES5ZUU        4.864130           184\n",
      "B0019EHU8G        4.855556            90\n",
      "B006W8U2MU        4.824561            57\n",
      "B000QUUFRW        4.809524            84\n"
     ]
    }
   ],
   "source": [
    "\n",
    "\n",
    "# Get the top 5 popular products with at least 50 interactions\n",
    "top_5_popular_products = get_top_n_products(df_final, 50, 5)\n",
    "\n",
    "# Print the top 5 products\n",
    "print(\"Top 5 Popular Products with at Least 50 Interactions:\")\n",
    "print(top_5_popular_products)\n"
   ]
  },
  {
   "cell_type": "markdown",
   "metadata": {
    "id": "l9_xW_UMxhXj"
   },
   "source": [
    "### **Recommending top 5 products with 100 minimum interactions based on popularity**"
   ]
  },
  {
   "cell_type": "code",
   "execution_count": 19,
   "metadata": {
    "id": "dZgGZCUoxhXj"
   },
   "outputs": [
    {
     "name": "stdout",
     "output_type": "stream",
     "text": [
      "Top 5 Popular Products with At Least 100 Interactions:\n",
      "            average_rating  rating_count\n",
      "prod_id                                 \n",
      "B003ES5ZUU        4.864130           184\n",
      "B000N99BBC        4.772455           167\n",
      "B002WE6D44        4.770000           100\n",
      "B007WTAJTO        4.701220           164\n",
      "B002V88HFE        4.698113           106\n"
     ]
    }
   ],
   "source": [
    "# Get the top 5 popular products with at least 100 interactions\n",
    "top_5_popular_products_100 = get_top_n_products(df_final, 100, 5)\n",
    "\n",
    "# Print the top 5 products\n",
    "print(\"Top 5 Popular Products with At Least 100 Interactions:\")\n",
    "print(top_5_popular_products_100)\n"
   ]
  },
  {
   "cell_type": "markdown",
   "metadata": {
    "id": "BL-m68a15JtT",
    "outputId": "69132b0f-8d3f-4798-f6a0-249e17a3c822"
   },
   "source": [
    "We have recommended the **top 5** products by using the popularity recommendation system. Now, let's build a recommendation system using **collaborative filtering.**"
   ]
  },
  {
   "cell_type": "markdown",
   "metadata": {
    "id": "sJI5kiiGvOOK"
   },
   "source": [
    "## **Model 2: Collaborative Filtering Recommendation System**"
   ]
  },
  {
   "cell_type": "markdown",
   "metadata": {
    "id": "skzc0N1_nVNB"
   },
   "source": [
    "### **Building a baseline user-user similarity based recommendation system**"
   ]
  },
  {
   "cell_type": "markdown",
   "metadata": {
    "id": "d4Uo_MYMnVNB"
   },
   "source": [
    "- Below, we are building **similarity-based recommendation systems** using `cosine` similarity and using **KNN to find similar users** which are the nearest neighbor to the given user.  \n",
    "- We will be using a new library, called `surprise`, to build the remaining models. Let's first import the necessary classes and functions from this library."
   ]
  },
  {
   "cell_type": "code",
   "execution_count": 20,
   "metadata": {
    "id": "UJ1wEylUpexj"
   },
   "outputs": [],
   "source": [
    "# To compute the accuracy of models\n",
    "from surprise import accuracy\n",
    "\n",
    "# Class is used to parse a file containing ratings, data should be in structure - user ; item ; rating\n",
    "from surprise.reader import Reader\n",
    "\n",
    "# Class for loading datasets\n",
    "from surprise.dataset import Dataset\n",
    "\n",
    "# For tuning model hyperparameters\n",
    "from surprise.model_selection import GridSearchCV\n",
    "\n",
    "# For splitting the rating data in train and test datasets\n",
    "from surprise.model_selection import train_test_split\n",
    "\n",
    "# For implementing similarity-based recommendation system\n",
    "from surprise.prediction_algorithms.knns import KNNBasic\n",
    "\n",
    "# For implementing matrix factorization based recommendation system\n",
    "from surprise.prediction_algorithms.matrix_factorization import SVD\n",
    "\n",
    "# for implementing K-Fold cross-validation\n",
    "from surprise.model_selection import KFold\n",
    "\n",
    "# For implementing clustering-based recommendation system\n",
    "from surprise import CoClustering"
   ]
  },
  {
   "cell_type": "markdown",
   "metadata": {
    "id": "54MqVAtDTsnl"
   },
   "source": [
    "**Before building the recommendation systems, let's  go over some basic terminologies we are going to use:**"
   ]
  },
  {
   "cell_type": "markdown",
   "metadata": {
    "id": "Qsxb3xhnTsnl"
   },
   "source": [
    "**Relevant item:** An item (product in this case) that is actually **rated higher than the threshold rating** is relevant, if the **actual rating is below the threshold then it is a non-relevant item**.  \n",
    "\n",
    "**Recommended item:** An item that's **predicted rating is higher than the threshold is a recommended item**, if the **predicted rating is below the threshold then that product will not be recommended to the user**.  \n"
   ]
  },
  {
   "cell_type": "markdown",
   "metadata": {
    "id": "moyLUHCuTsnl"
   },
   "source": [
    "**False Negative (FN):** It is the **frequency of relevant items that are not recommended to the user**. If the relevant items are not recommended to the user, then the user might not buy the product/item. This would result in the **loss of opportunity for the service provider**, which they would like to minimize.\n",
    "\n",
    "**False Positive (FP):** It is the **frequency of recommended items that are actually not relevant**. In this case, the recommendation system is not doing a good job of finding and recommending the relevant items to the user. This would result in **loss of resources for the service provider**, which they would also like to minimize."
   ]
  },
  {
   "cell_type": "markdown",
   "metadata": {
    "id": "Yuvc2VaZTsnl"
   },
   "source": [
    "**Recall:** It is the **fraction of actually relevant items that are recommended to the user**, i.e., if out of 10 relevant products, 6 are recommended to the user then recall is 0.60. Higher the value of recall better is the model. It is one of the metrics to do the performance assessment of classification models.\n",
    "\n",
    "**Precision:** It is the **fraction of recommended items that are relevant actually**, i.e., if out of 10 recommended items, 6 are found relevant by the user then precision is 0.60. The higher the value of precision better is the model. It is one of the metrics to do the performance assessment of classification models."
   ]
  },
  {
   "cell_type": "markdown",
   "metadata": {
    "id": "8NLc36Y8Tsnm"
   },
   "source": [
    "**While making a recommendation system, it becomes customary to look at the performance of the model. In terms of how many recommendations are relevant and vice-versa, below are some most used performance metrics used in the assessment of recommendation systems.**"
   ]
  },
  {
   "cell_type": "markdown",
   "metadata": {
    "id": "cqF8fRBqTsnm"
   },
   "source": [
    "### **Precision@k, Recall@ k, and F1-score@k**"
   ]
  },
  {
   "cell_type": "markdown",
   "metadata": {
    "id": "imMJNF0HTsnm"
   },
   "source": [
    "**Precision@k** - It is the **fraction of recommended items that are relevant in `top k` predictions**. The value of k is the number of recommendations to be provided to the user. One can choose a variable number of recommendations to be given to a unique user.  \n",
    "\n",
    "\n",
    "**Recall@k** - It is the **fraction of relevant items that are recommended to the user in `top k` predictions**.\n",
    "\n",
    "**F1-score@k** - It is the **harmonic mean of Precision@k and Recall@k**. When **precision@k and recall@k both seem to be important** then it is useful to use this metric because it is representative of both of them. "
   ]
  },
  {
   "cell_type": "markdown",
   "metadata": {
    "id": "jBW4BUhWTsnm"
   },
   "source": [
    "### **Some useful functions**"
   ]
  },
  {
   "cell_type": "markdown",
   "metadata": {
    "id": "QOBHKh0eTsnm"
   },
   "source": [
    "- Below function takes the **recommendation model** as input and gives the **precision@k, recall@k, and F1-score@k** for that model.  \n",
    "- To compute **precision and recall**, **top k** predictions are taken under consideration for each user.\n",
    "- We will use the precision and recall to compute the F1-score."
   ]
  },
  {
   "cell_type": "code",
   "execution_count": 21,
   "metadata": {
    "id": "Rxn-GahOTsnm"
   },
   "outputs": [],
   "source": [
    "def precision_recall_at_k(model, k = 10, threshold = 3.5):\n",
    "    \"\"\"Return precision and recall at k metrics for each user\"\"\"\n",
    "\n",
    "    # First map the predictions to each user\n",
    "    user_est_true = defaultdict(list)\n",
    "    \n",
    "    # Making predictions on the test data\n",
    "    predictions = model.test(testset)\n",
    "    \n",
    "    for uid, _, true_r, est, _ in predictions:\n",
    "        user_est_true[uid].append((est, true_r))\n",
    "\n",
    "    precisions = dict()\n",
    "    recalls = dict()\n",
    "    for uid, user_ratings in user_est_true.items():\n",
    "\n",
    "        # Sort user ratings by estimated value\n",
    "        user_ratings.sort(key = lambda x: x[0], reverse = True)\n",
    "\n",
    "        # Number of relevant items\n",
    "        n_rel = sum((true_r >= threshold) for (_, true_r) in user_ratings)\n",
    "\n",
    "        # Number of recommended items in top k\n",
    "        n_rec_k = sum((est >= threshold) for (est, _) in user_ratings[:k])\n",
    "\n",
    "        # Number of relevant and recommended items in top k\n",
    "        n_rel_and_rec_k = sum(((true_r >= threshold) and (est >= threshold))\n",
    "                              for (est, true_r) in user_ratings[:k])\n",
    "\n",
    "        # Precision@K: Proportion of recommended items that are relevant\n",
    "        # When n_rec_k is 0, Precision is undefined. Therefore, we are setting Precision to 0 when n_rec_k is 0\n",
    "\n",
    "        precisions[uid] = n_rel_and_rec_k / n_rec_k if n_rec_k != 0 else 0\n",
    "\n",
    "        # Recall@K: Proportion of relevant items that are recommended\n",
    "        # When n_rel is 0, Recall is undefined. Therefore, we are setting Recall to 0 when n_rel is 0\n",
    "\n",
    "        recalls[uid] = n_rel_and_rec_k / n_rel if n_rel != 0 else 0\n",
    "    \n",
    "    # Mean of all the predicted precisions are calculated.\n",
    "    precision = round((sum(prec for prec in precisions.values()) / len(precisions)), 3)\n",
    "    \n",
    "    # Mean of all the predicted recalls are calculated.\n",
    "    recall = round((sum(rec for rec in recalls.values()) / len(recalls)), 3)\n",
    "    \n",
    "    accuracy.rmse(predictions)\n",
    "    \n",
    "    print('Precision: ', precision) # Command to print the overall precision\n",
    "    \n",
    "    print('Recall: ', recall) # Command to print the overall recall\n",
    "    \n",
    "    print('F_1 score: ', round((2*precision*recall)/(precision+recall), 3)) # Formula to compute the F-1 score"
   ]
  },
  {
   "cell_type": "markdown",
   "metadata": {
    "id": "_ZmsamDVyek-"
   },
   "source": [
    "**Hints:**\n",
    "\n",
    "- To compute **precision and recall**, a **threshold of 3.5 and k value of 10 can be considered for the recommended and relevant ratings**.\n",
    "- Think about the performance metric to choose."
   ]
  },
  {
   "cell_type": "markdown",
   "metadata": {
    "id": "8hxjJMTwnVNB"
   },
   "source": [
    "Below we are loading the **`rating` dataset**, which is a **pandas DataFrame**, into a **different format called `surprise.dataset.DatasetAutoFolds`**, which is required by this library. To do this, we will be **using the classes `Reader` and `Dataset`.**"
   ]
  },
  {
   "cell_type": "code",
   "execution_count": 24,
   "metadata": {
    "id": "rGfYDiOCpe4X"
   },
   "outputs": [],
   "source": [
    "# Instantiating Reader scale with expected rating scale\n",
    "reader = Reader(rating_scale = (0, 5))\n",
    "\n",
    "# Loading the rating dataset\n",
    "data = Dataset.load_from_df(df_final[['user_id', 'prod_id', 'rating']], reader)\n",
    "\n",
    "# Splitting the data into train and test datasets\n",
    "trainset, testset = train_test_split(data, test_size = 0.2, random_state = 42)"
   ]
  },
  {
   "cell_type": "markdown",
   "metadata": {
    "id": "DmHTEt7TnVNC"
   },
   "source": [
    "Now, we are **ready to build the first baseline similarity-based recommendation system** using the cosine similarity."
   ]
  },
  {
   "cell_type": "markdown",
   "metadata": {
    "id": "SVDfVHB4tQfU"
   },
   "source": [
    "### **Building the user-user Similarity-based Recommendation System**"
   ]
  },
  {
   "cell_type": "code",
   "execution_count": 26,
   "metadata": {
    "id": "vO3FL7iape8A",
    "scrolled": false
   },
   "outputs": [
    {
     "name": "stdout",
     "output_type": "stream",
     "text": [
      "RMSE: 1.0012\n",
      "Precision:  0.855\n",
      "Recall:  0.858\n",
      "F_1 score:  0.856\n"
     ]
    }
   ],
   "source": [
    "sim_options = {'name': 'cosine', 'user_based': True}\n",
    "sim_user_user = KNNBasic(sim_options=sim_options, verbose=False, random_state=1)\n",
    "sim_user_user.fit(trainset)\n",
    "\n",
    "# Evaluate the model using the provided function\n",
    "precision_recall_at_k(sim_user_user)"
   ]
  },
  {
   "cell_type": "markdown",
   "metadata": {
    "id": "nEuJK_A9Tsnn"
   },
   "source": [
    "**RMSE (Root Mean Square Error):\n",
    "The RMSE is 1.0012, which measures the average magnitude of the error in predicting the rating of items. This indicates that the model's predictions are, on average, about one rating point off from the actual user ratings. While an RMSE around 1 might be acceptable depending on the application and context, lower values would generally indicate a more accurate model. Considering the typical rating scale from 1 to 5, this error suggests moderate predictive accuracy.\n",
    "Precision:\n",
    "The precision is 0.855, indicating that 85.5% of the items recommended by the system are indeed relevant to the users (i.e., they would rate them above the threshold). This is a strong result, suggesting that when the system recommends a product, it is very likely to be well-received by the user.\n",
    "Recall:\n",
    "The recall is 0.858, meaning that the system is able to recommend 85.8% of the items that users would have rated above the threshold. This high recall indicates that the system is effectively identifying items that are relevant to the users, missing very few items that users would like.\n",
    "F1-Score:\n",
    "The F1-score is 0.856, which is the harmonic mean of precision and recall. This score is particularly useful when you want a balance between precision and recall. It indicates that the system maintains a good balance between not missing relevant items and not recommending irrelevant items.**"
   ]
  },
  {
   "cell_type": "markdown",
   "metadata": {
    "id": "reFD0-nsnVNC"
   },
   "source": [
    "Let's now **predict rating for a user with `userId=A3LDPF5FMB782Z` and `productId=1400501466`** as shown below. Here the user has already interacted or watched the product with productId '1400501466' and given a rating of 5."
   ]
  },
  {
   "cell_type": "code",
   "execution_count": 27,
   "metadata": {
    "id": "Sxd23bZ9pe_x"
   },
   "outputs": [
    {
     "name": "stdout",
     "output_type": "stream",
     "text": [
      "user: A3LDPF5FMB782Z item: 1400501466 r_ui = 5.00   est = 3.40   {'actual_k': 5, 'was_impossible': False}\n"
     ]
    },
    {
     "data": {
      "text/plain": [
       "Prediction(uid='A3LDPF5FMB782Z', iid='1400501466', r_ui=5, est=3.4, details={'actual_k': 5, 'was_impossible': False})"
      ]
     },
     "execution_count": 27,
     "metadata": {},
     "output_type": "execute_result"
    }
   ],
   "source": [
    "# Predicting rating for a sample user with an interacted product\n",
    "# Predicting rating for a sample user with an interacted product\n",
    "sim_user_user.predict(\"A3LDPF5FMB782Z\", \"1400501466\", r_ui = 5, verbose = True)"
   ]
  },
  {
   "cell_type": "markdown",
   "metadata": {
    "id": "ENJcqG_wemRH"
   },
   "source": [
    "**Prediction Breakdown\n",
    "User ID (uid): A3LDPF5FMB782Z\n",
    "Item ID (iid): 1400501466\n",
    "Actual Rating (r_ui): 5.00\n",
    "Estimated Rating (est): 3.40\n",
    "Details:\n",
    "actual_k: 5 - This indicates that the prediction was based on 5 neighbors (i.e., the nearest five similar users who have rated this item).\n",
    "was_impossible: False - This shows that the prediction was possible, meaning there were enough neighbors to generate a rating estimate.\n",
    "Observations and Implications\n",
    "Accuracy of Prediction:\n",
    "The actual rating given by the user was 5.0, which is perfect, but the model estimated it to be 3.4. This discrepancy suggests a potential underestimation in the model’s ability to predict ratings for this user-item pair accurately.\n",
    "The difference might indicate that the user's rating behavior might be somewhat atypical compared to their nearest neighbors or that the user's tastes are unique in a way that the model is currently unable to capture effectively.\n",
    "Effectiveness of Neighbors:\n",
    "The actual_k value of 5 tells us that the algorithm considered five neighbors for this prediction. However, considering the difference between the actual and estimated ratings, it might be beneficial to adjust the number of neighbors (k) or refine the way neighbors are selected, such as by tweaking the similarity threshold or exploring different similarity metrics (e.g., Pearson correlation instead of cosine).\n",
    "Model Tuning:\n",
    "The model's underperformance in this instance might suggest a need for further tuning. Parameters like the number of neighbors (k), the similarity measure, and possibly incorporating other user or item features could improve accuracy.\n",
    "You might also explore different algorithms or hybrid approaches that can better handle users with unique tastes or sparse interaction data.\n",
    "Fallback and Hybrid Strategies:\n",
    "For cases where predictions are significantly off, consider implementing fallback strategies that might include using more general recommendations based on item popularity or user demographic information.\n",
    "Hybrid models that combine collaborative filtering with content-based methods or machine learning techniques might provide a more robust solution, particularly for users or items with less interaction data.\n",
    "**"
   ]
  },
  {
   "cell_type": "markdown",
   "metadata": {
    "id": "cj6ecbglTsno"
   },
   "source": [
    "Below is the **list of users who have not seen the product with product id \"1400501466\"**."
   ]
  },
  {
   "cell_type": "code",
   "execution_count": 29,
   "metadata": {
    "id": "xCRBMD-RTsno"
   },
   "outputs": [
    {
     "data": {
      "text/plain": [
       "array(['A2ZR3YTMEEIIZ4', 'A3CLWR1UUZT6TG', 'A5JLAU2ARJ0BO', ...,\n",
       "       'A215WH6RUDUCMP', 'A38C12950IM24P', 'A2J4XMWKR8PPD0'], dtype=object)"
      ]
     },
     "execution_count": 29,
     "metadata": {},
     "output_type": "execute_result"
    }
   ],
   "source": [
    "# Find unique user_id where prod_id is not equal to \"1400501466\"\n",
    "# Predicting rating for a sample user with a non interacted product\n",
    "df_final[df_final.prod_id != \"1400501466\"].user_id.unique()"
   ]
  },
  {
   "cell_type": "markdown",
   "metadata": {
    "id": "KT42ecaSTsno"
   },
   "source": [
    "* It can be observed from the above list that **user \"A34BZM6S9L7QI4\" has not seen the product with productId \"1400501466\"** as this userId is a part of the above list."
   ]
  },
  {
   "cell_type": "markdown",
   "metadata": {
    "id": "EXSgq8OEnVNE"
   },
   "source": [
    "**Below we are predicting rating for `userId=A34BZM6S9L7QI4` and `prod_id=1400501466`.** "
   ]
  },
  {
   "cell_type": "code",
   "execution_count": 30,
   "metadata": {
    "id": "PbFcBj1PpfEV"
   },
   "outputs": [
    {
     "name": "stdout",
     "output_type": "stream",
     "text": [
      "user: A34BZM6S9L7QI4 item: 1400501466 r_ui = None   est = 4.29   {'was_impossible': True, 'reason': 'Not enough neighbors.'}\n"
     ]
    },
    {
     "data": {
      "text/plain": [
       "Prediction(uid='A34BZM6S9L7QI4', iid='1400501466', r_ui=None, est=4.292024046561495, details={'was_impossible': True, 'reason': 'Not enough neighbors.'})"
      ]
     },
     "execution_count": 30,
     "metadata": {},
     "output_type": "execute_result"
    }
   ],
   "source": [
    "# Predicting rating for a sample user with a non interacted product\n",
    "sim_user_user.predict(\"A34BZM6S9L7QI4\", \"1400501466\", verbose = True)"
   ]
  },
  {
   "cell_type": "markdown",
   "metadata": {
    "id": "02rwld8yemRI"
   },
   "source": [
    "**Cold Start Problem:\n",
    "The scenario highlights a classic cold start issue in collaborative filtering, where new items or users with insufficient interaction history make it difficult to predict preferences accurately. Since the user hasn't interacted with this product before and there aren't enough other users who have rated this product, the model struggles to find a basis for making a prediction.\n",
    "Fallback Strategy in Use:\n",
    "The model still provides an estimated rating (4.29), which is likely based on some form of fallback mechanism. Common fallback strategies include using the average ratings of all items, the average ratings of the user, or the average ratings of the item across all users who have rated it. It's essential to understand what fallback strategy is being employed, as this affects the interpretation of the estimated rating.\n",
    "Impact on User Experience:\n",
    "Providing a fallback rating can help maintain a smooth user experience by ensuring that the system always has a recommendation to offer. However, these recommendations may not be as personalized or accurate as those made with robust user-item interaction data.\n",
    "Improvement Strategies:\n",
    "Hybrid Recommendation Systems: Incorporating additional types of filtering, such as content-based filtering or demographic-based recommendations, can help mitigate the cold start problem by relying on additional data sources beyond user-item interactions.\n",
    "Increasing the User Base or Item Catalogue: More comprehensive data collection can gradually reduce the incidence of such issues as the system gathers more ratings and user interactions.\n",
    "Advanced Modeling Techniques: Machine learning techniques that can handle sparsity more effectively, such as matrix factorization techniques (e.g., SVD, NMF) or even deep learning approaches, might be more robust in such scenarios.\n",
    "**"
   ]
  },
  {
   "cell_type": "markdown",
   "metadata": {
    "id": "ejjof6csnVNF"
   },
   "source": [
    "### **Improving similarity-based recommendation system by tuning its hyperparameters**"
   ]
  },
  {
   "cell_type": "markdown",
   "metadata": {
    "id": "p2j4VvfQnVNF"
   },
   "source": [
    "Below, we will be tuning hyperparameters for the `KNNBasic` algorithm. Let's try to understand some of the hyperparameters of the KNNBasic algorithm:\n",
    "\n",
    "- **k** (int) – The (max) number of neighbors to take into account for aggregation. Default is 40.\n",
    "- **min_k** (int) – The minimum number of neighbors to take into account for aggregation. If there are not enough neighbors, the prediction is set to the global mean of all ratings. Default is 1.\n",
    "- **sim_options** (dict) – A dictionary of options for the similarity measure. And there are four similarity measures available in surprise - \n",
    "    - cosine\n",
    "    - msd (default)\n",
    "    - Pearson\n",
    "    - Pearson baseline"
   ]
  },
  {
   "cell_type": "code",
   "execution_count": 31,
   "metadata": {
    "id": "9LmPbSUSTsnp"
   },
   "outputs": [
    {
     "name": "stdout",
     "output_type": "stream",
     "text": [
      "Best RMSE score: 0.97\n",
      "Best parameters: {'k': 50, 'min_k': 5, 'sim_options': {'name': 'cosine', 'user_based': True}}\n"
     ]
    }
   ],
   "source": [
    "# Setting up parameter grid to tune the hyperparameters\n",
    "param_grid = {\n",
    "    'k': [20, 30, 40, 50], # max number of neighbors\n",
    "    'min_k': [1, 5, 10],   # minimum number of neighbors\n",
    "    'sim_options': {\n",
    "        'name': ['cosine', 'msd', 'pearson', 'pearson_baseline'],\n",
    "        'user_based': [True, False]  # user-based or item-based collaborative filtering\n",
    "    }\n",
    "}\n",
    "# Performing 3-fold cross-validation to tune the hyperparameters\n",
    "gs = GridSearchCV(KNNBasic, param_grid, measures=['rmse'], cv=3, n_jobs=-1)\n",
    "# Fitting the data\n",
    "gs.fit(data)\n",
    "# Best RMSE score\n",
    "print(f'Best RMSE score: {gs.best_score[\"rmse\"]:.2f}')\n",
    "# Combination of parameters that gave the best RMSE score\n",
    "print('Best parameters:', gs.best_params['rmse'])"
   ]
  },
  {
   "cell_type": "markdown",
   "metadata": {
    "id": "L2fHNvu7nVNF"
   },
   "source": [
    "Once the grid search is **complete**, we can get the **optimal values for each of those hyperparameters**."
   ]
  },
  {
   "cell_type": "markdown",
   "metadata": {
    "id": "NHWgxu_YnVNG"
   },
   "source": [
    "Now, let's build the **final model by using tuned values of the hyperparameters**, which we received by using **grid search cross-validation**."
   ]
  },
  {
   "cell_type": "code",
   "execution_count": 32,
   "metadata": {
    "id": "PujRJA8X_JEJ"
   },
   "outputs": [
    {
     "name": "stdout",
     "output_type": "stream",
     "text": [
      "RMSE: 0.9509\n",
      "Precision:  0.849\n",
      "Recall:  0.893\n",
      "F_1 score:  0.87\n"
     ]
    }
   ],
   "source": [
    "# Using the optimal similarity measure for user-user based collaborative filtering\n",
    "# Optimal model configuration and training\n",
    "sim_options = {\n",
    "    'name': 'cosine',\n",
    "    'user_based': True\n",
    "}\n",
    "sim_user_user_optimized = KNNBasic(sim_options=sim_options, k=50, min_k=5, random_state=1, verbose=False)\n",
    "sim_user_user_optimized.fit(trainset)\n",
    "\n",
    "# Let us compute precision@k and recall@k also with k =10\n",
    "precision_recall_at_k(sim_user_user_optimized, k=10)"
   ]
  },
  {
   "cell_type": "markdown",
   "metadata": {
    "id": "yHsWvFjKTsnp"
   },
   "source": [
    "**Model Effectiveness:\n",
    "The high values in precision, recall, and F1-score imply that the model effectively matches users with items they are likely to appreciate, which is crucial for maintaining user engagement and satisfaction.\n",
    "The RMSE score indicates that while the model is quite good at predicting how much a user might like an item, slight discrepancies still exist between predicted and actual ratings.\n",
    "User Satisfaction:\n",
    "High precision and recall contribute to user satisfaction, as users are less likely to encounter recommendations that they find irrelevant or unappealing.\n",
    "Business Applications:\n",
    "In practical scenarios, such as e-commerce or media streaming services, this model could effectively drive conversions and retention by providing users with highly relevant content, reducing the likelihood of churn due to dissatisfaction with product offerings.\n",
    "Potential Areas for Improvement:\n",
    "Despite the strong scores, there's always room for further tuning. Experimenting with different models (such as matrix factorization techniques), incorporating more complex similarity measures, or adding more user/item features might yield even better results.\n",
    "Considering the dynamics of user behavior over time and integrating temporal effects into the model could also enhance prediction accuracy and relevance.\n",
    "**"
   ]
  },
  {
   "cell_type": "markdown",
   "metadata": {
    "id": "YhcAXK0CnVNG"
   },
   "source": [
    "### **Steps:**\n",
    "- **Predict rating for the user with `userId=\"A3LDPF5FMB782Z\"`, and `prod_id= \"1400501466\"` using the optimized model**\n",
    "- **Predict rating for `userId=\"A34BZM6S9L7QI4\"` who has not interacted with `prod_id =\"1400501466\"`, by using the optimized model**\n",
    "- **Compare the output with the output from the baseline model**"
   ]
  },
  {
   "cell_type": "code",
   "execution_count": 33,
   "metadata": {
    "id": "FgV63lHiq1TV"
   },
   "outputs": [
    {
     "name": "stdout",
     "output_type": "stream",
     "text": [
      "Prediction for known interaction (User: A3LDPF5FMB782Z, Item: 1400501466): 3.40\n"
     ]
    }
   ],
   "source": [
    "# Use sim_user_user_optimized model to recommend for userId \"A3LDPF5FMB782Z\" and productId 1400501466\n",
    "# Predicting rating for the user with userId=\"A3LDPF5FMB782Z\", and prod_id= \"1400501466\" using the optimized model\n",
    "prediction_known_user = sim_user_user_optimized.predict(\"A3LDPF5FMB782Z\", \"1400501466\")\n",
    "print(f\"Prediction for known interaction (User: A3LDPF5FMB782Z, Item: 1400501466): {prediction_known_user.est:.2f}\")\n"
   ]
  },
  {
   "cell_type": "code",
   "execution_count": 34,
   "metadata": {
    "id": "HXO2Ztjhq1bN"
   },
   "outputs": [
    {
     "name": "stdout",
     "output_type": "stream",
     "text": [
      "Prediction for new interaction (User: A34BZM6S9L7QI4, Item: 1400501466): 4.29\n"
     ]
    }
   ],
   "source": [
    "# Use sim_user_user_optimized model to recommend for userId \"A34BZM6S9L7QI4\" and productId \"1400501466\"\n",
    "# Predicting rating for userId=\"A34BZM6S9L7QI4\" who has not interacted with prod_id =\"1400501466\"\n",
    "prediction_new_user = sim_user_user_optimized.predict(\"A34BZM6S9L7QI4\", \"1400501466\")\n",
    "print(f\"Prediction for new interaction (User: A34BZM6S9L7QI4, Item: 1400501466): {prediction_new_user.est:.2f}\")\n"
   ]
  },
  {
   "cell_type": "markdown",
   "metadata": {
    "id": "s5i-OPprNF2e"
   },
   "source": [
    "**Write your observations here:** Handling Sparse Data: The higher rating in the new interaction scenario suggests that the model is quite capable of handling cases where direct historical data is absent. This is essential for maintaining user engagement and satisfaction, especially in a dynamic environment where new products are frequently introduced.\n",
    "Model Performance: The difference in predicted ratings could also highlight the model's reliance on different aspects of the data (like global means, user or item biases) when direct data is not available. This capability is crucial for a recommendation system's robustness.\n",
    "Implications for Recommendations: While the predicted ratings are quite different, both suggest that the model does a reasonable job at balancing between user-based similarities and overall item characteristics. For practical applications, ensuring that the recommendations are interpretable and align well with known preferences is key to enhancing user trust and satisfaction."
   ]
  },
  {
   "cell_type": "markdown",
   "metadata": {
    "id": "op_zwO_FnVNH"
   },
   "source": [
    "### **Identifying similar users to a given user (nearest neighbors)**"
   ]
  },
  {
   "cell_type": "markdown",
   "metadata": {
    "id": "o2QsfqhanVNH"
   },
   "source": [
    "We can also find out **similar users to a given user** or its **nearest neighbors** based on this KNNBasic algorithm. Below, we are finding the 5 most similar users to the first user in the list with internal id 0, based on the `msd` distance metric."
   ]
  },
  {
   "cell_type": "code",
   "execution_count": 35,
   "metadata": {
    "id": "TbFle7cKmBJG"
   },
   "outputs": [
    {
     "data": {
      "text/plain": [
       "[6, 7, 17, 26, 32]"
      ]
     },
     "execution_count": 35,
     "metadata": {},
     "output_type": "execute_result"
    }
   ],
   "source": [
    "# 0 is the inner id of the above user\n",
    "sim_user_user_optimized.get_neighbors(0, 5)"
   ]
  },
  {
   "cell_type": "markdown",
   "metadata": {
    "id": "Z0NsrX_anVNH"
   },
   "source": [
    "### **Implementing the recommendation algorithm based on optimized KNNBasic model**"
   ]
  },
  {
   "cell_type": "markdown",
   "metadata": {
    "id": "U3ESobDynVNI"
   },
   "source": [
    "Below we will be implementing a function where the input parameters are:\n",
    "\n",
    "- data: A **rating** dataset\n",
    "- user_id: A user id **against which we want the recommendations**\n",
    "- top_n: The **number of products we want to recommend**\n",
    "- algo: the algorithm we want to use **for predicting the ratings**\n",
    "- The output of the function is a **set of top_n items** recommended for the given user_id based on the given algorithm"
   ]
  },
  {
   "cell_type": "code",
   "execution_count": 36,
   "metadata": {
    "id": "vW9V1Tk65HlY"
   },
   "outputs": [],
   "source": [
    "def get_recommendations(data, user_id, top_n, algo):\n",
    "    \n",
    "    # Creating an empty list to store the recommended product ids\n",
    "    recommendations = []\n",
    "    \n",
    "    # Creating an user item interactions matrix \n",
    "    user_item_interactions_matrix = data.pivot(index = 'user_id', columns = 'prod_id', values = 'rating')\n",
    "    \n",
    "    # Extracting those product ids which the user_id has not interacted yet\n",
    "    non_interacted_products = user_item_interactions_matrix.loc[user_id][user_item_interactions_matrix.loc[user_id].isnull()].index.tolist()\n",
    "    \n",
    "    # Looping through each of the product ids which user_id has not interacted yet\n",
    "    for item_id in non_interacted_products:\n",
    "        \n",
    "        # Predicting the ratings for those non interacted product ids by this user\n",
    "        est = algo.predict(user_id, item_id).est\n",
    "        \n",
    "        # Appending the predicted ratings\n",
    "        recommendations.append((item_id, est))\n",
    "\n",
    "    # Sorting the predicted ratings in descending order\n",
    "    recommendations.sort(key = lambda x: x[1], reverse = True)\n",
    "\n",
    "    return recommendations[:top_n] # Returing top n highest predicted rating products for this user"
   ]
  },
  {
   "cell_type": "markdown",
   "metadata": {
    "id": "Oj_S7kh4nVNI"
   },
   "source": [
    "**Predicting top 5 products for userId = \"A3LDPF5FMB782Z\" with similarity based recommendation system**"
   ]
  },
  {
   "cell_type": "code",
   "execution_count": 37,
   "metadata": {
    "id": "qWbR85mI5Hrk"
   },
   "outputs": [],
   "source": [
    "# Making top 5 recommendations for user_id \"A3LDPF5FMB782Z\" with a similarity-based recommendation engine\n",
    "recommendations = get_recommendations(df_final, \"A3LDPF5FMB782Z\", 5, sim_user_user_optimized)"
   ]
  },
  {
   "cell_type": "code",
   "execution_count": 38,
   "metadata": {
    "id": "b5WfIX0Z6_q2"
   },
   "outputs": [
    {
     "data": {
      "text/html": [
       "<div>\n",
       "<style scoped>\n",
       "    .dataframe tbody tr th:only-of-type {\n",
       "        vertical-align: middle;\n",
       "    }\n",
       "\n",
       "    .dataframe tbody tr th {\n",
       "        vertical-align: top;\n",
       "    }\n",
       "\n",
       "    .dataframe thead th {\n",
       "        text-align: right;\n",
       "    }\n",
       "</style>\n",
       "<table border=\"1\" class=\"dataframe\">\n",
       "  <thead>\n",
       "    <tr style=\"text-align: right;\">\n",
       "      <th></th>\n",
       "      <th>prod_id</th>\n",
       "      <th>predicted_ratings</th>\n",
       "    </tr>\n",
       "  </thead>\n",
       "  <tbody>\n",
       "    <tr>\n",
       "      <th>0</th>\n",
       "      <td>B000067RT6</td>\n",
       "      <td>5</td>\n",
       "    </tr>\n",
       "    <tr>\n",
       "      <th>1</th>\n",
       "      <td>B000BQ7GW8</td>\n",
       "      <td>5</td>\n",
       "    </tr>\n",
       "    <tr>\n",
       "      <th>2</th>\n",
       "      <td>B001ENW61I</td>\n",
       "      <td>5</td>\n",
       "    </tr>\n",
       "    <tr>\n",
       "      <th>3</th>\n",
       "      <td>B001TH7GUU</td>\n",
       "      <td>5</td>\n",
       "    </tr>\n",
       "    <tr>\n",
       "      <th>4</th>\n",
       "      <td>B001TH7T2U</td>\n",
       "      <td>5</td>\n",
       "    </tr>\n",
       "  </tbody>\n",
       "</table>\n",
       "</div>"
      ],
      "text/plain": [
       "      prod_id  predicted_ratings\n",
       "0  B000067RT6                  5\n",
       "1  B000BQ7GW8                  5\n",
       "2  B001ENW61I                  5\n",
       "3  B001TH7GUU                  5\n",
       "4  B001TH7T2U                  5"
      ]
     },
     "execution_count": 38,
     "metadata": {},
     "output_type": "execute_result"
    }
   ],
   "source": [
    "# Building the dataframe for above recommendations with columns \"prod_id\" and \"predicted_ratings\"\n",
    "pd.DataFrame(recommendations, columns = ['prod_id', 'predicted_ratings'])"
   ]
  },
  {
   "cell_type": "markdown",
   "metadata": {
    "id": "QgbzJKk7Tsnr"
   },
   "source": [
    "### **Item-Item Similarity-based Collaborative Filtering Recommendation System**"
   ]
  },
  {
   "cell_type": "markdown",
   "metadata": {
    "id": "qTJu_2hcTsnr"
   },
   "source": [
    "* Above we have seen **similarity-based collaborative filtering** where similarity is calculated **between users**. Now let us look into similarity-based collaborative filtering where similarity is seen **between items**. "
   ]
  },
  {
   "cell_type": "code",
   "execution_count": 39,
   "metadata": {
    "id": "W5RMcdzjTsns",
    "scrolled": false
   },
   "outputs": [
    {
     "name": "stdout",
     "output_type": "stream",
     "text": [
      "RMSE: 1.0235\n",
      "Precision:  0.839\n",
      "Recall:  0.805\n",
      "F_1 score:  0.822\n"
     ]
    }
   ],
   "source": [
    "sim_options = {'name': 'cosine', 'user_based': False}\n",
    "\n",
    "# KNN algorithm is used to find desired similar items\n",
    "sim_item_item = KNNBasic(sim_options=sim_options, random_state=1, verbose=False)\n",
    "\n",
    "# Assuming 'data' is already properly loaded and formatted\n",
    "trainset, testset = train_test_split(data, test_size=0.25)\n",
    "\n",
    "# Train the algorithm on the train set\n",
    "sim_item_item.fit(trainset)\n",
    "\n",
    "# Predict ratings for the test set and compute precision@k, recall@k, and f1 score with k = 10\n",
    "precision_recall_at_k(sim_item_item, k=10)"
   ]
  },
  {
   "cell_type": "markdown",
   "metadata": {
    "id": "ni9LoeUVTsns"
   },
   "source": [
    "**Write your observations here:**RMSE (Root Mean Square Error): 1.0235\n",
    "This RMSE value is slightly higher than what we typically want for a recommendation system, indicating that the average error between the predicted ratings and actual ratings is about 1.0235 points on the rating scale. This suggests there is room for improvement in the accuracy of the predictions.\n",
    "Precision: 0.839\n",
    "A precision of 83.9% is quite high, indicating that most of the items recommended by the system are indeed relevant to the users. This metric shows that when the system recommends an item, there is a high likelihood that the user will find this recommendation appropriate.\n",
    "Recall: 0.805\n",
    "The recall of 80.5% indicates that the system is able to identify a significant majority of all relevant items. This means that it captures most of the items that users would rate positively, though there's still a portion of relevant items that the system fails to recommend.\n",
    "F1 Score: 0.822\n",
    "The F1 score, which balances precision and recall, stands at 82.2%. This is a robust score, suggesting that the system maintains a good balance between not missing relevant items (recall) and not recommending irrelevant items (precision)."
   ]
  },
  {
   "cell_type": "markdown",
   "metadata": {
    "id": "jFbcDQmxTsns"
   },
   "source": [
    "Let's now **predict a rating for a user with `userId = A3LDPF5FMB782Z` and `prod_Id = 1400501466`** as shown below. Here the user has already interacted or watched the product with productId \"1400501466\"."
   ]
  },
  {
   "cell_type": "code",
   "execution_count": 40,
   "metadata": {
    "id": "JsF-aaWYTsns"
   },
   "outputs": [
    {
     "name": "stdout",
     "output_type": "stream",
     "text": [
      "Predicted rating for user 'A3LDPF5FMB782Z' and product '1400501466' is 4.15\n"
     ]
    }
   ],
   "source": [
    "# Predicting rating for a sample user with an interacted product\n",
    "# Predicting the rating for user \"A3LDPF5FMB782Z\" for the product \"1400501466\"\n",
    "predicted_rating = sim_item_item.predict(\"A3LDPF5FMB782Z\", \"1400501466\")\n",
    "\n",
    "# Printing the output of the prediction\n",
    "print(f\"Predicted rating for user 'A3LDPF5FMB782Z' and product '1400501466' is {predicted_rating.est:.2f}\")\n"
   ]
  },
  {
   "cell_type": "markdown",
   "metadata": {
    "id": "2h0OyDMFTsns"
   },
   "source": [
    "**Write your observations here:**High Predicted Rating:\n",
    "The prediction of 4.15 suggests that the model anticipates the user would rate the product quite highly. This indicates a strong alignment between the user’s preferences and the characteristics or attributes of this product as perceived through the lens of similar items.\n",
    "Model Effectiveness:\n",
    "A high rating prediction implies that the item has similar items that were rated highly by users similar to 'A3LDPF5FMB782Z'. It demonstrates the model's ability to effectively utilize item similarities to infer user preferences, which is especially useful in scenarios where direct user-item interaction data is sparse for some products.\n",
    "User Satisfaction Potential:\n",
    "A prediction close to the upper end of the typical rating scale (assuming 1 to 5) can be indicative of high potential user satisfaction. If this prediction aligns with the user's actual feeling after interacting with the product, it could significantly enhance user trust and reliance on the system's recommendations.\n",
    "Comparison with Actual Ratings:\n",
    "If the actual rating given by the user is known, comparing it to the predicted rating could help assess the precision of the model further. A close match would validate the model’s accuracy, while a significant deviation might indicate the need for further model tuning or exploration of additional features that could affect user preferences.\n",
    "Influence of Similar Items:\n",
    "Since this is an item-item based recommendation, the predicted rating also reflects the influence of ratings of similar items. This could be leveraged to understand which items are considered similar by the model and how their ratings impact the predictions for other items.\n",
    "Strategic Enhancements:\n",
    "Given the prediction's proximity to a high rating, the recommendation engine might consider promoting such products more prominently to similar users, thereby potentially increasing user engagement and satisfaction.\n",
    "This scenario also offers an opportunity to examine the attributes of both the product and the user interactions that led to such a favorable prediction, potentially revealing deeper insights into user behavior and preferences."
   ]
  },
  {
   "cell_type": "markdown",
   "metadata": {
    "id": "BqKGZoAtTsns"
   },
   "source": [
    "Below we are **predicting rating for the `userId = A34BZM6S9L7QI4` and `prod_id = 1400501466`**."
   ]
  },
  {
   "cell_type": "code",
   "execution_count": 41,
   "metadata": {
    "id": "5yILOxXRTsns"
   },
   "outputs": [
    {
     "name": "stdout",
     "output_type": "stream",
     "text": [
      "Predicted rating for new interaction (User: A34BZM6S9L7QI4, Item: 1400501466): 5.00\n"
     ]
    }
   ],
   "source": [
    "# Predicting rating for a sample user with a non interacted product\n",
    "# Predicting the rating for a sample user \"A34BZM6S9L7QI4\" with a non-interacted product \"1400501466\"\n",
    "predicted_rating_non_interacted = sim_item_item.predict(\"A34BZM6S9L7QI4\", \"1400501466\")\n",
    "\n",
    "# Printing the output of the prediction\n",
    "print(f\"Predicted rating for new interaction (User: A34BZM6S9L7QI4, Item: 1400501466): {predicted_rating_non_interacted.est:.2f}\")\n"
   ]
  },
  {
   "cell_type": "markdown",
   "metadata": {
    "id": "sDKaAveJTsns"
   },
   "source": [
    "**Write your observations here:**The prediction of a perfect rating underscores the strengths of the item-item collaborative filtering approach in identifying products that align well with user preferences based on similarities with other items. However, it also highlights the necessity of continuous monitoring and validation of the model's predictions against actual user feedback to ensure accuracy and mitigate any potential biases."
   ]
  },
  {
   "cell_type": "markdown",
   "metadata": {
    "id": "meSvpNLj_EjD"
   },
   "source": [
    "### **Hyperparameter tuning the item-item similarity-based model**\n",
    "- Use the following values for the param_grid and tune the model.\n",
    "  - 'k': [10, 20, 30]\n",
    "  - 'min_k': [3, 6, 9]\n",
    "  - 'sim_options': {'name': ['msd', 'cosine']\n",
    "  - 'user_based': [False]\n",
    "- Use GridSearchCV() to tune the model using the 'rmse' measure\n",
    "- Print the best score and best parameters "
   ]
  },
  {
   "cell_type": "code",
   "execution_count": 42,
   "metadata": {
    "id": "f5bcZ3HgTsnt"
   },
   "outputs": [
    {
     "name": "stdout",
     "output_type": "stream",
     "text": [
      "Best RMSE score: 0.9758781076705522\n",
      "Best parameters: {'k': 30, 'min_k': 6, 'sim_options': {'name': 'msd', 'user_based': False}}\n"
     ]
    }
   ],
   "source": [
    "param_grid = {\n",
    "    'k': [10, 20, 30],\n",
    "    'min_k': [3, 6, 9],\n",
    "    'sim_options': {\n",
    "        'name': ['msd', 'cosine'],\n",
    "        'user_based': [False]\n",
    "    }\n",
    "}\n",
    "\n",
    "gs = GridSearchCV(KNNBasic, param_grid, measures=['rmse'], cv=3, n_jobs=-1)\n",
    "gs.fit(data)\n",
    "\n",
    "print(f'Best RMSE score: {gs.best_score[\"rmse\"]}')\n",
    "print(f'Best parameters: {gs.best_params[\"rmse\"]}')"
   ]
  },
  {
   "cell_type": "markdown",
   "metadata": {
    "id": "1psOlx6zTsnt"
   },
   "source": [
    "Once the **grid search** is complete, we can get the **optimal values for each of those hyperparameters as shown above.**"
   ]
  },
  {
   "cell_type": "markdown",
   "metadata": {
    "id": "JrSTaQemTsnt"
   },
   "source": [
    "Now let's build the **final model** by using **tuned values of the hyperparameters** which we received by using grid search cross-validation."
   ]
  },
  {
   "cell_type": "markdown",
   "metadata": {
    "id": "kOS9Dwnd_LN6"
   },
   "source": [
    "### **Use the best parameters from GridSearchCV to build the optimized item-item similarity-based model. Compare the performance of the optimized model with the baseline model.**"
   ]
  },
  {
   "cell_type": "code",
   "execution_count": 45,
   "metadata": {
    "id": "dSeiM1qeTsnt"
   },
   "outputs": [
    {
     "name": "stdout",
     "output_type": "stream",
     "text": [
      "RMSE: 0.9641\n",
      "Precision:  0.841\n",
      "Recall:  0.849\n",
      "F_1 score:  0.845\n"
     ]
    }
   ],
   "source": [
    "# Using the optimal similarity measure for item-item based collaborative filtering\n",
    "# Using the optimal similarity measure for item-item based collaborative filtering\n",
    "sim_options = {\n",
    "    'name': 'msd',  # using 'msd' as the best similarity measure found\n",
    "    'user_based': False  # ensuring it's item-item CF\n",
    "}\n",
    "\n",
    "# Creating an instance of KNNBasic with optimal hyperparameter values\n",
    "sim_item_item_optimized = KNNBasic(sim_options=sim_options, k=30, min_k=6, random_state=1, verbose=False)\n",
    "# Training the algorithm on the trainset\n",
    "\n",
    "# Training the algorithm on the train set\n",
    "sim_item_item_optimized.fit(trainset)\n",
    "\n",
    "precision_recall_at_k(sim_item_item_optimized, k=10)"
   ]
  },
  {
   "cell_type": "markdown",
   "metadata": {
    "id": "ZCXKnMI8Tsnt"
   },
   "source": [
    "**Write your observations here:The optimized item-item collaborative filtering model demonstrates a robust performance in terms of precision, recall, and F1 score, making it a valuable tool for delivering relevant and satisfactory item recommendations in a commercial setting. The low RMSE further corroborates its effectiveness in closely matching user preferences, highlighting its potential to enhance user engagement and business outcomes through targeted recommendations.\n",
    "\n",
    "\n",
    "\n",
    "\n",
    "\n",
    "\n",
    "**"
   ]
  },
  {
   "cell_type": "markdown",
   "metadata": {
    "id": "Sbcj_H94Tsnt"
   },
   "source": [
    "### **Steps:**\n",
    "- **Predict rating for the user with `userId=\"A3LDPF5FMB782Z\"`, and `prod_id= \"1400501466\"` using the optimized model**\n",
    "- **Predict rating for `userId=\"A34BZM6S9L7QI4\"` who has not interacted with `prod_id =\"1400501466\"`, by using the optimized model**\n",
    "- **Compare the output with the output from the baseline model**"
   ]
  },
  {
   "cell_type": "code",
   "execution_count": 46,
   "metadata": {
    "id": "gIBRRvdoTsnt"
   },
   "outputs": [
    {
     "name": "stdout",
     "output_type": "stream",
     "text": [
      "Predicted rating for known interaction (User: A3LDPF5FMB782Z, Item: 1400501466): 4.59\n"
     ]
    }
   ],
   "source": [
    "# Use sim_item_item_optimized model to recommend for userId \"A3LDPF5FMB782Z\" and productId \"1400501466\"\n",
    "# Predicting the rating for user \"A3LDPF5FMB782Z\" for the product \"1400501466\" using the optimized model\n",
    "known_interaction_prediction = sim_item_item_optimized.predict(\"A3LDPF5FMB782Z\", \"1400501466\")\n",
    "\n",
    "# Printing the predicted rating for known interaction\n",
    "print(f\"Predicted rating for known interaction (User: A3LDPF5FMB782Z, Item: 1400501466): {known_interaction_prediction.est:.2f}\")\n"
   ]
  },
  {
   "cell_type": "code",
   "execution_count": 49,
   "metadata": {},
   "outputs": [
    {
     "name": "stdout",
     "output_type": "stream",
     "text": [
      "Predicted rating for new interaction (User: A34BZM6S9L7QI4, Item: 1400501466): 4.30\n"
     ]
    }
   ],
   "source": [
    "# Use sim_item_item_optimized model to recommend for userId \"A34BZM6S9L7QI4\" and productId \"1400501466\"\n",
    "# Predicting the rating for a new interaction where user \"A34BZM6S9L7QI4\" has not interacted with product \"1400501466\"\n",
    "new_interaction_prediction = sim_item_item_optimized.predict(\"A34BZM6S9L7QI4\", \"1400501466\")\n",
    "\n",
    "# Printing the predicted rating for new interaction\n",
    "print(f\"Predicted rating for new interaction (User: A34BZM6S9L7QI4, Item: 1400501466): {new_interaction_prediction.est:.2f}\")\n",
    "\n"
   ]
  },
  {
   "cell_type": "markdown",
   "metadata": {},
   "source": [
    "**Predicted Ratings:\n",
    "Known Interaction (User: A3LDPF5FMB782Z, Item: 1400501466): 4.59\n",
    "New Interaction (User: A34BZM6S9L7QI4, Item: 1400501466): 4.30\n",
    "Observations:\n",
    "High Ratings for Both Interactions:\n",
    "\n",
    "Both the known and new interactions have received high predicted ratings, suggesting that the model perceives the product favorably in relation to the users' profiles and similar items. This indicates that the product \"1400501466\" is likely well-regarded among users who have similar tastes to both A3LDPF5FMB782Z and A34BZM6S9L7QI4, or the product has characteristics that broadly appeal to users.\n",
    "Consistency Across Interactions:\n",
    "\n",
    "The consistency in high ratings across different types of interactions (known and new) suggests that the item-item model effectively leverages item similarities to make predictions, even in the absence of direct user-item interaction history. This is especially valuable for recommending products to users without prior direct interactions.\n",
    "Effectiveness of the Optimized Model:\n",
    "\n",
    "The relatively close ratings between known and new interactions highlight the model's effectiveness in generalizing from known item attributes to predict user preferences reliably. This suggests that the tuning of the hyperparameters (e.g., using 'msd' for similarity, setting k=30, and min_k=6) has enhanced the model's ability to make accurate predictions based on item similarities.\n",
    "User Experience and Satisfaction:\n",
    "\n",
    "Predictions this high typically suggest that users would be satisfied with the product if they followed the recommendation. For an e-commerce platform, such accuracy in predictions can lead to increased user trust and higher conversion rates.\n",
    "Strategic Insights for Businesses:\n",
    "\n",
    "From a business perspective, understanding which products receive universally high ratings across various user segments can help in inventory management, targeted marketing, and promotional strategies. Products like \"1400501466\" might be good candidates for promotions or featured listings given their broad appeal.\n",
    "Potential for Further Analysis:\n",
    "\n",
    "Further analysis could involve looking into why the model predicts such high ratings for this product. Insights could be derived from analyzing the characteristics of the product, reviewing the user feedback, or examining the profiles of similar items that influence these predictions.\n",
    "**"
   ]
  },
  {
   "cell_type": "markdown",
   "metadata": {
    "id": "MDlNB7tnTsnu"
   },
   "source": [
    "### **Identifying similar items to a given item (nearest neighbors)**"
   ]
  },
  {
   "cell_type": "markdown",
   "metadata": {
    "id": "RLdDiFA6Tsnu"
   },
   "source": [
    "We can also find out **similar items** to a given item or its nearest neighbors based on this **KNNBasic algorithm**. Below we are finding the 5 most similar items to the item with internal id 0 based on the `msd` distance metric."
   ]
  },
  {
   "cell_type": "code",
   "execution_count": 50,
   "metadata": {
    "id": "ZRJS4oDFTsnu"
   },
   "outputs": [
    {
     "name": "stdout",
     "output_type": "stream",
     "text": [
      "IDs of similar items: [28, 79, 104, 164, 195]\n"
     ]
    }
   ],
   "source": [
    "# Assuming that the sim_item_item_optimized model is already trained and ready\n",
    "similar_items = sim_item_item_optimized.get_neighbors(0, k=5)\n",
    "print(\"IDs of similar items:\", similar_items)\n"
   ]
  },
  {
   "cell_type": "markdown",
   "metadata": {},
   "source": [
    "**Predicting top 5 products for userId = \"A1A5KUIIIHFF4U\" with similarity based recommendation system.**\n",
    "\n",
    "**Hint:** Use the get_recommendations() function."
   ]
  },
  {
   "cell_type": "code",
   "execution_count": 51,
   "metadata": {
    "id": "rzoEbuZFTsnu"
   },
   "outputs": [],
   "source": [
    "# Making top 5 recommendations for user_id A1A5KUIIIHFF4U with similarity-based recommendation engine.\n",
    "recommendations = get_recommendations(df_final, \"A1A5KUIIIHFF4U\", 5, sim_item_item_optimized)"
   ]
  },
  {
   "cell_type": "code",
   "execution_count": 52,
   "metadata": {
    "id": "_kXVTiysTsnv"
   },
   "outputs": [
    {
     "data": {
      "text/html": [
       "<div>\n",
       "<style scoped>\n",
       "    .dataframe tbody tr th:only-of-type {\n",
       "        vertical-align: middle;\n",
       "    }\n",
       "\n",
       "    .dataframe tbody tr th {\n",
       "        vertical-align: top;\n",
       "    }\n",
       "\n",
       "    .dataframe thead th {\n",
       "        text-align: right;\n",
       "    }\n",
       "</style>\n",
       "<table border=\"1\" class=\"dataframe\">\n",
       "  <thead>\n",
       "    <tr style=\"text-align: right;\">\n",
       "      <th></th>\n",
       "      <th>prod_id</th>\n",
       "      <th>predicted_ratings</th>\n",
       "    </tr>\n",
       "  </thead>\n",
       "  <tbody>\n",
       "    <tr>\n",
       "      <th>0</th>\n",
       "      <td>1400532655</td>\n",
       "      <td>4.29573</td>\n",
       "    </tr>\n",
       "    <tr>\n",
       "      <th>1</th>\n",
       "      <td>1400599997</td>\n",
       "      <td>4.29573</td>\n",
       "    </tr>\n",
       "    <tr>\n",
       "      <th>2</th>\n",
       "      <td>9983891212</td>\n",
       "      <td>4.29573</td>\n",
       "    </tr>\n",
       "    <tr>\n",
       "      <th>3</th>\n",
       "      <td>B00000DM9W</td>\n",
       "      <td>4.29573</td>\n",
       "    </tr>\n",
       "    <tr>\n",
       "      <th>4</th>\n",
       "      <td>B00000J1V5</td>\n",
       "      <td>4.29573</td>\n",
       "    </tr>\n",
       "  </tbody>\n",
       "</table>\n",
       "</div>"
      ],
      "text/plain": [
       "      prod_id  predicted_ratings\n",
       "0  1400532655            4.29573\n",
       "1  1400599997            4.29573\n",
       "2  9983891212            4.29573\n",
       "3  B00000DM9W            4.29573\n",
       "4  B00000J1V5            4.29573"
      ]
     },
     "execution_count": 52,
     "metadata": {},
     "output_type": "execute_result"
    }
   ],
   "source": [
    "# Building the dataframe for above recommendations with columns \"prod_id\" and \"predicted_ratings\"\n",
    "pd.DataFrame(recommendations, columns = ['prod_id', 'predicted_ratings'])"
   ]
  },
  {
   "cell_type": "markdown",
   "metadata": {
    "id": "DHzmYvs0Tsnv"
   },
   "source": [
    "Now as we have seen **similarity-based collaborative filtering algorithms**, let us now get into **model-based collaborative filtering algorithms**."
   ]
  },
  {
   "cell_type": "markdown",
   "metadata": {
    "id": "rKgJpSA9vOOL"
   },
   "source": [
    "### **Model 3: Model-Based Collaborative Filtering - Matrix Factorization**"
   ]
  },
  {
   "cell_type": "markdown",
   "metadata": {
    "id": "YF6ZGyqhCAob"
   },
   "source": [
    "Model-based Collaborative Filtering is a **personalized recommendation system**, the recommendations are based on the past behavior of the user and it is not dependent on any additional information. We use **latent features** to find recommendations for each user."
   ]
  },
  {
   "cell_type": "markdown",
   "metadata": {
    "id": "n4Otha8ovOOL"
   },
   "source": [
    "### Singular Value Decomposition (SVD)"
   ]
  },
  {
   "cell_type": "markdown",
   "metadata": {
    "id": "3sGl3QkLvOOL"
   },
   "source": [
    "SVD is used to **compute the latent features** from the **user-item matrix**. But SVD does not work when we **miss values** in the **user-item matrix**."
   ]
  },
  {
   "cell_type": "code",
   "execution_count": 53,
   "metadata": {
    "id": "07-2PT5Ssjqm"
   },
   "outputs": [
    {
     "name": "stdout",
     "output_type": "stream",
     "text": [
      "RMSE: 0.9044\n",
      "Precision:  0.855\n",
      "Recall:  0.844\n",
      "F_1 score:  0.849\n"
     ]
    }
   ],
   "source": [
    "# Using SVD matrix factorization. Use random_state = 1\n",
    "svd = SVD(random_state=1)\n",
    "\n",
    "# Training the algorithm on the train set\n",
    "svd.fit(trainset)\n",
    "\n",
    "# Use the function precision_recall_at_k to compute precision@k, recall@k, F1-Score, and RMSE\n",
    "precision_recall_at_k(svd)\n"
   ]
  },
  {
   "cell_type": "markdown",
   "metadata": {
    "id": "BQ6fTuCDnVNL"
   },
   "source": [
    "**Observations and Implications:\n",
    "High Model Accuracy:\n",
    "\n",
    "The combination of a low RMSE and high F1 score indicates that the SVD model not only predicts user preferences accurately but also does so with a high degree of reliability across multiple dimensions (both in terms of rating precision and the ability to recover relevant items).\n",
    "User Experience:\n",
    "\n",
    "Users are likely to be highly satisfied with the recommendations provided by this system due to its ability to accurately suggest items that align with their preferences. This can enhance user engagement and retention on platforms utilizing this recommendation system.\n",
    "Business Impact:\n",
    "\n",
    "For businesses, such high performance means that the recommendation system can effectively drive sales by suggesting products that users are likely to purchase. Moreover, the high precision and recall can help in maintaining a positive user experience, which is critical for customer loyalty and brand reputation.\n",
    "Optimization and Model Trust:\n",
    "\n",
    "The results validate the use of SVD for handling large, sparse datasets commonly found in recommendation systems. The success of SVD in this context may encourage further exploration of latent feature models, potentially including more complex matrix factorization techniques like SVD++ or NMF (Non-negative Matrix Factorization).\n",
    "Recommendation System Strategy:\n",
    "\n",
    "Given the system's effectiveness, it may be beneficial to integrate more personalized features into the recommendation process, such as demographic data or temporal effects, to further enhance the personalization and accuracy of the recommendations.\n",
    "**"
   ]
  },
  {
   "cell_type": "markdown",
   "metadata": {},
   "source": [
    "**Let's now predict the rating for a user with `userId = \"A3LDPF5FMB782Z\"` and `prod_id = \"1400501466`.**"
   ]
  },
  {
   "cell_type": "code",
   "execution_count": 54,
   "metadata": {
    "id": "yWIhfdxXsjqm",
    "scrolled": true
   },
   "outputs": [
    {
     "name": "stdout",
     "output_type": "stream",
     "text": [
      "Predicted rating for user 'A3LDPF5FMB782Z' and product '1400501466' is 4.12\n"
     ]
    }
   ],
   "source": [
    "# Making prediction\n",
    "# Making prediction for the user \"A3LDPF5FMB782Z\" and the product \"1400501466\"\n",
    "prediction = svd.predict(\"A3LDPF5FMB782Z\", \"1400501466\")\n",
    "\n",
    "# Printing the predicted rating\n",
    "print(f\"Predicted rating for user 'A3LDPF5FMB782Z' and product '1400501466' is {prediction.est:.2f}\")\n"
   ]
  },
  {
   "cell_type": "markdown",
   "metadata": {
    "id": "oIjzqDY5nVNM"
   },
   "source": [
    "**The predicted rating of 4.12 for \"A3LDPF5FMB782Z\" on \"1400501466\" demonstrates the strengths of using SVD for personalized recommendations in a collaborative filtering context. It shows that the model not only understands the general user-item interactions well but can also effectively use this understanding to predict individual user reactions to specific products. Such capabilities are invaluable for crafting personalized user experiences in e-commerce, streaming services, and other recommendation-driven platforms. Continuously monitoring these predictions against actual user feedback and periodically updating the model based on new data are recommended to maintain its effectiveness and accuracy.\n",
    "**"
   ]
  },
  {
   "cell_type": "markdown",
   "metadata": {
    "id": "I1aYxVeMnVNM"
   },
   "source": [
    "**Below we are predicting rating for the `userId = \"A34BZM6S9L7QI4\"` and `productId = \"1400501466\"`.**"
   ]
  },
  {
   "cell_type": "code",
   "execution_count": 55,
   "metadata": {
    "id": "APm-uMSvcAMf"
   },
   "outputs": [
    {
     "name": "stdout",
     "output_type": "stream",
     "text": [
      "Predicted rating for new interaction (User: A34BZM6S9L7QI4, Item: 1400501466): 4.22\n"
     ]
    }
   ],
   "source": [
    "# Making prediction\n",
    "# Predicting the rating for a new interaction where user \"A34BZM6S9L7QI4\" has not interacted with product \"1400501466\"\n",
    "new_user_prediction = svd.predict(\"A34BZM6S9L7QI4\", \"1400501466\")\n",
    "\n",
    "# Printing the predicted rating for the new interaction\n",
    "print(f\"Predicted rating for new interaction (User: A34BZM6S9L7QI4, Item: 1400501466): {new_user_prediction.est:.2f}\")\n"
   ]
  },
  {
   "cell_type": "markdown",
   "metadata": {
    "id": "NEL6dy3wnVNM"
   },
   "source": [
    "**The prediction of 4.22 for this new interaction highlights the SVD model's strength in predicting user preferences accurately, even without direct historical interaction data. This effectiveness is crucial for platforms seeking to engage new users quickly and effectively, offering personalized experiences right from their first interaction. To further enhance these predictions, platforms should consider continuous model training with updated data and possibly integrating hybrid recommendation techniques that incorporate additional user or contextual information. Such steps will help maintain the accuracy and relevance of recommendations as user behaviors and preferences evolve.**"
   ]
  },
  {
   "cell_type": "markdown",
   "metadata": {
    "id": "x13Eb9Owvpcw"
   },
   "source": [
    "### **Improving Matrix Factorization based recommendation system by tuning its hyperparameters**"
   ]
  },
  {
   "cell_type": "markdown",
   "metadata": {
    "id": "iQcDPhhcnVNN"
   },
   "source": [
    "Below we will be tuning only three hyperparameters:\n",
    "- **n_epochs**: The number of iterations of the SGD algorithm.\n",
    "- **lr_all**: The learning rate for all parameters.\n",
    "- **reg_all**: The regularization term for all parameters."
   ]
  },
  {
   "cell_type": "code",
   "execution_count": 56,
   "metadata": {
    "id": "4bM81V_hvtwv"
   },
   "outputs": [
    {
     "name": "stdout",
     "output_type": "stream",
     "text": [
      "Best RMSE score: 0.8972409269628584\n",
      "Best parameters: {'n_epochs': 20, 'lr_all': 0.01, 'reg_all': 0.2}\n"
     ]
    }
   ],
   "source": [
    "# Define parameter grid\n",
    "param_grid = {\n",
    "    'n_epochs': [10, 20, 30],\n",
    "    'lr_all': [0.001, 0.005, 0.01],\n",
    "    'reg_all': [0.2, 0.4, 0.6]\n",
    "}\n",
    "\n",
    "# Set up the grid search\n",
    "gs = GridSearchCV(SVD, param_grid, measures=['rmse'], cv=3, n_jobs=-1)\n",
    "\n",
    "# Fit grid search\n",
    "gs.fit(data)\n",
    "\n",
    "# Print best RMSE score\n",
    "print(f'Best RMSE score: {gs.best_score[\"rmse\"]}')\n",
    "\n",
    "# Print the best parameters\n",
    "print(f'Best parameters: {gs.best_params[\"rmse\"]}')"
   ]
  },
  {
   "cell_type": "markdown",
   "metadata": {
    "id": "KzY78HsrnVNO"
   },
   "source": [
    "Now, we will **the build final model** by using **tuned values** of the hyperparameters, which we received using grid search cross-validation above."
   ]
  },
  {
   "cell_type": "code",
   "execution_count": 57,
   "metadata": {
    "id": "TA_7xe-nnhuu"
   },
   "outputs": [
    {
     "name": "stdout",
     "output_type": "stream",
     "text": [
      "RMSE: 0.8980\n",
      "Precision:  0.857\n",
      "Recall:  0.857\n",
      "F_1 score:  0.857\n"
     ]
    }
   ],
   "source": [
    "# Build the optimized SVD model using optimal hyperparameter search. Use random_state=1\n",
    "svd_optimized = SVD(n_epochs=20, lr_all=0.005, reg_all=0.4, random_state=1)\n",
    "# Train the algorithm on the trainset\n",
    "svd_optimized.fit(trainset)\n",
    "\n",
    "# Use the function precision_recall_at_k to compute precision@k, recall@k, F1-Score, and RMSE\n",
    "precision_recall_at_k(svd_optimized,k=10)\n"
   ]
  },
  {
   "cell_type": "markdown",
   "metadata": {
    "id": "9HJvPsjITsny"
   },
   "source": [
    "**Key Observations:\n",
    "High Performance Across Metrics:\n",
    "RMSE (0.8980): This is a very strong result, indicating that the average error between predicted ratings and actual ratings is less than one point on the rating scale. A lower RMSE suggests that the model's predictions are accurate, closely matching the actual ratings provided by users.\n",
    "Precision and Recall (0.857): Both precision and recall having the same value and being quite high indicates that the model is effective at identifying relevant items (items that users liked) and recommending them successfully. A precision of 0.857 means that 85.7% of the items recommended by the system are relevant to the users, and a recall of 0.857 indicates that the system captures 85.7% of all relevant items available within the top-k recommendations.\n",
    "F1 Score (0.857): The F1 score, which balances precision and recall, being the same as both indicates a perfect balance in the model's ability to both retrieve all relevant items and to ensure those retrieved are actually relevant. This balance is crucial for maintaining user satisfaction as it ensures that recommendations are both comprehensive and relevant.\n",
    "**"
   ]
  },
  {
   "cell_type": "markdown",
   "metadata": {},
   "source": [
    "### **Steps:**\n",
    "- **Predict rating for the user with `userId=\"A3LDPF5FMB782Z\"`, and `prod_id= \"1400501466\"` using the optimized model**\n",
    "- **Predict rating for `userId=\"A34BZM6S9L7QI4\"` who has not interacted with `prod_id =\"1400501466\"`, by using the optimized model**\n",
    "- **Compare the output with the output from the baseline model**"
   ]
  },
  {
   "cell_type": "code",
   "execution_count": 58,
   "metadata": {},
   "outputs": [
    {
     "name": "stdout",
     "output_type": "stream",
     "text": [
      "Predicted rating for known interaction (User: A3LDPF5FMB782Z, Item: 1400501466): 3.96\n"
     ]
    }
   ],
   "source": [
    "# Use svd_algo_optimized model to recommend for userId \"A3LDPF5FMB782Z\" and productId \"1400501466\"\n",
    "# Predicting the rating for user \"A3LDPF5FMB782Z\" for the product \"1400501466\" using the optimized model\n",
    "known_user_prediction = svd_optimized.predict(\"A3LDPF5FMB782Z\", \"1400501466\")\n",
    "print(f\"Predicted rating for known interaction (User: A3LDPF5FMB782Z, Item: 1400501466): {known_user_prediction.est:.2f}\")\n"
   ]
  },
  {
   "cell_type": "code",
   "execution_count": 59,
   "metadata": {},
   "outputs": [
    {
     "name": "stdout",
     "output_type": "stream",
     "text": [
      "Predicted rating for new interaction (User: A34BZM6S9L7QI4, Item: 1400501466): 4.16\n"
     ]
    }
   ],
   "source": [
    "# Use svd_algo_optimized model to recommend for userId \"A34BZM6S9L7QI4\" and productId \"1400501466\"\n",
    "# Predicting the rating for a new interaction where user \"A34BZM6S9L7QI4\" has not interacted with product \"1400501466\"\n",
    "new_user_prediction = svd_optimized.predict(\"A34BZM6S9L7QI4\", \"1400501466\")\n",
    "print(f\"Predicted rating for new interaction (User: A34BZM6S9L7QI4, Item: 1400501466): {new_user_prediction.est:.2f}\")\n"
   ]
  },
  {
   "cell_type": "markdown",
   "metadata": {
    "id": "nnwPwgjB8DwS"
   },
   "source": [
    "### **Conclusion and Recommendations**"
   ]
  },
  {
   "cell_type": "markdown",
   "metadata": {
    "id": "xuqnifw9NF2p"
   },
   "source": [
    "Conclusion and Recommendations\n",
    "Conclusion\n",
    "Throughout this project, we have explored, prepared, and modeled data using a variety of recommendation system techniques for the Amazon product reviews dataset. The key insights gained through each model type and the optimized versions offer a robust understanding of how different methods serve unique aspects of recommendation systems:\n",
    "\n",
    "Popularity-Based Recommendation System:\n",
    "\n",
    "We observed that high interaction items typically correlate with higher satisfaction. This method is simple and effective but lacks personalization.\n",
    "Collaborative Filtering Using KNN:\n",
    "\n",
    "Both user-based and item-based collaborative filtering models were developed. The KNN-based methods allowed us to identify user and item similarities effectively. The optimization of these models through hyperparameter tuning significantly improved their accuracy, as seen in the reduced RMSE and increased precision, recall, and F1 scores.\n",
    "Matrix Factorization Using SVD:\n",
    "\n",
    "The SVD model provided an advanced level of prediction capabilities by discovering latent features in user-item interactions. After tuning hyperparameters, this model proved highly accurate in predicting user preferences and offered a balanced approach with high precision and recall.\n",
    "Model-Specific Observations\n",
    "User-User Collaborative Filtering: This approach is excellent for datasets where user behavior is more predictive than item attributes. It requires sufficient data per user to form accurate predictions.\n",
    "Item-Item Collaborative Filtering: This method shines in scenarios where items have more enduring qualities that attract user interest, such as genre in movies or brand in electronics.\n",
    "SVD Matrix Factorization: Provides robust predictions even with sparser data matrices and effectively handles both user and item latent factors to predict missing ratings.\n",
    "Recommendations\n",
    "Integration of Hybrid Models:\n",
    "\n",
    "Given the strengths and weaknesses of both collaborative and content-based methods observed, integrating these into a hybrid model could leverage the accuracy of matrix factorization for prediction with the simplicity and user alignment of collaborative filtering.\n",
    "Incorporating Content-Based Features:\n",
    "\n",
    "Including item metadata (like brand, category, or price) could enhance the recommendation's relevance, particularly in cold-start scenarios where historical data is limited.\n",
    "Real-Time Learning:\n",
    "\n",
    "Implementing models that adapt in real-time to user feedback could significantly enhance recommendation relevance and user satisfaction. Techniques such as reinforcement learning could be explored in this regard.\n",
    "A/B Testing:\n",
    "\n",
    "Regularly conducting A/B testing on different recommendation algorithms and settings to continuously validate and iterate on the system's effectiveness and user satisfaction.\n",
    "User Segmentation and Personalization:\n",
    "\n",
    "Segment users based on their activity levels, preferences, and demographic data to offer more personalized recommendations. For instance, new users could receive more generalized, popular recommendations, while seasoned users might benefit from more tailored suggestions based on their past interactions.\n",
    "Utilization of Advanced Deep Learning Models:\n",
    "\n",
    "Experiment with neural network architectures, such as autoencoders for feature extraction or deep learning for sequence prediction, to capture complex patterns in user-item interactions that are not possible with traditional matrix factorization techniques.\n",
    "\n",
    "\n",
    "Conclusion\n",
    "The project has successfully demonstrated the capability of recommendation systems to enhance user experience by providing personalized product suggestions based on their past interactions. Each model brought its unique strength to the table, with the SVD model showing particularly promising results in terms of precision and recall. Future efforts should focus on refining these models, incorporating real-time user feedback, and exploring hybrid approaches to further enhance the accuracy and relevance of the recommendations. This approach will not only ensure the satisfaction of existing users but also help in attracting new users to the platform, ultimately driving business growth and customer loyalty."
   ]
  },
  {
   "cell_type": "code",
   "execution_count": null,
   "metadata": {},
   "outputs": [],
   "source": []
  }
 ],
 "metadata": {
  "colab": {
   "provenance": []
  },
  "kernelspec": {
   "display_name": "Python 3 (ipykernel)",
   "language": "python",
   "name": "python3"
  },
  "language_info": {
   "codemirror_mode": {
    "name": "ipython",
    "version": 3
   },
   "file_extension": ".py",
   "mimetype": "text/x-python",
   "name": "python",
   "nbconvert_exporter": "python",
   "pygments_lexer": "ipython3",
   "version": "3.11.4"
  },
  "varInspector": {
   "cols": {
    "lenName": 16,
    "lenType": 16,
    "lenVar": 40
   },
   "kernels_config": {
    "python": {
     "delete_cmd_postfix": "",
     "delete_cmd_prefix": "del ",
     "library": "var_list.py",
     "varRefreshCmd": "print(var_dic_list())"
    },
    "r": {
     "delete_cmd_postfix": ") ",
     "delete_cmd_prefix": "rm(",
     "library": "var_list.r",
     "varRefreshCmd": "cat(var_dic_list()) "
    }
   },
   "types_to_exclude": [
    "module",
    "function",
    "builtin_function_or_method",
    "instance",
    "_Feature"
   ],
   "window_display": false
  }
 },
 "nbformat": 4,
 "nbformat_minor": 1
}
